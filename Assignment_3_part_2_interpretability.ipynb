{
  "nbformat": 4,
  "nbformat_minor": 0,
  "metadata": {
    "colab": {
      "provenance": [],
      "machine_shape": "hm",
      "gpuType": "A100"
    },
    "kernelspec": {
      "name": "python3",
      "display_name": "Python 3"
    },
    "widgets": {
      "application/vnd.jupyter.widget-state+json": {
        "f04cab85805a4001b76edda87666e37d": {
          "model_module": "@jupyter-widgets/controls",
          "model_name": "HBoxModel",
          "model_module_version": "1.5.0",
          "state": {
            "_dom_classes": [],
            "_model_module": "@jupyter-widgets/controls",
            "_model_module_version": "1.5.0",
            "_model_name": "HBoxModel",
            "_view_count": null,
            "_view_module": "@jupyter-widgets/controls",
            "_view_module_version": "1.5.0",
            "_view_name": "HBoxView",
            "box_style": "",
            "children": [
              "IPY_MODEL_89785149889244a9b31929ae39f04dfc",
              "IPY_MODEL_d1f58bb18a2542c9b9533c41b44965fe",
              "IPY_MODEL_73f27a48270343a9811c251514f90d08"
            ],
            "layout": "IPY_MODEL_ba6a7dc569e24466a245b1375b35f8e4"
          }
        },
        "89785149889244a9b31929ae39f04dfc": {
          "model_module": "@jupyter-widgets/controls",
          "model_name": "HTMLModel",
          "model_module_version": "1.5.0",
          "state": {
            "_dom_classes": [],
            "_model_module": "@jupyter-widgets/controls",
            "_model_module_version": "1.5.0",
            "_model_name": "HTMLModel",
            "_view_count": null,
            "_view_module": "@jupyter-widgets/controls",
            "_view_module_version": "1.5.0",
            "_view_name": "HTMLView",
            "description": "",
            "description_tooltip": null,
            "layout": "IPY_MODEL_6d27c021154e4e87a7b1bf55f090073b",
            "placeholder": "​",
            "style": "IPY_MODEL_b27128e7a0664ffe883b45c70199f3ed",
            "value": "tokenizer_config.json: 100%"
          }
        },
        "d1f58bb18a2542c9b9533c41b44965fe": {
          "model_module": "@jupyter-widgets/controls",
          "model_name": "FloatProgressModel",
          "model_module_version": "1.5.0",
          "state": {
            "_dom_classes": [],
            "_model_module": "@jupyter-widgets/controls",
            "_model_module_version": "1.5.0",
            "_model_name": "FloatProgressModel",
            "_view_count": null,
            "_view_module": "@jupyter-widgets/controls",
            "_view_module_version": "1.5.0",
            "_view_name": "ProgressView",
            "bar_style": "success",
            "description": "",
            "description_tooltip": null,
            "layout": "IPY_MODEL_403b8b6abfcc4bce9c27ce59ae7b5b41",
            "max": 26,
            "min": 0,
            "orientation": "horizontal",
            "style": "IPY_MODEL_2b6acd9b9e814239bb0097abfb5d45ee",
            "value": 26
          }
        },
        "73f27a48270343a9811c251514f90d08": {
          "model_module": "@jupyter-widgets/controls",
          "model_name": "HTMLModel",
          "model_module_version": "1.5.0",
          "state": {
            "_dom_classes": [],
            "_model_module": "@jupyter-widgets/controls",
            "_model_module_version": "1.5.0",
            "_model_name": "HTMLModel",
            "_view_count": null,
            "_view_module": "@jupyter-widgets/controls",
            "_view_module_version": "1.5.0",
            "_view_name": "HTMLView",
            "description": "",
            "description_tooltip": null,
            "layout": "IPY_MODEL_0e8577210ffc4cbaaec63fcff235ff82",
            "placeholder": "​",
            "style": "IPY_MODEL_58baa5a8e0cc415a824525f1287921c4",
            "value": " 26.0/26.0 [00:00&lt;00:00, 2.32kB/s]"
          }
        },
        "ba6a7dc569e24466a245b1375b35f8e4": {
          "model_module": "@jupyter-widgets/base",
          "model_name": "LayoutModel",
          "model_module_version": "1.2.0",
          "state": {
            "_model_module": "@jupyter-widgets/base",
            "_model_module_version": "1.2.0",
            "_model_name": "LayoutModel",
            "_view_count": null,
            "_view_module": "@jupyter-widgets/base",
            "_view_module_version": "1.2.0",
            "_view_name": "LayoutView",
            "align_content": null,
            "align_items": null,
            "align_self": null,
            "border": null,
            "bottom": null,
            "display": null,
            "flex": null,
            "flex_flow": null,
            "grid_area": null,
            "grid_auto_columns": null,
            "grid_auto_flow": null,
            "grid_auto_rows": null,
            "grid_column": null,
            "grid_gap": null,
            "grid_row": null,
            "grid_template_areas": null,
            "grid_template_columns": null,
            "grid_template_rows": null,
            "height": null,
            "justify_content": null,
            "justify_items": null,
            "left": null,
            "margin": null,
            "max_height": null,
            "max_width": null,
            "min_height": null,
            "min_width": null,
            "object_fit": null,
            "object_position": null,
            "order": null,
            "overflow": null,
            "overflow_x": null,
            "overflow_y": null,
            "padding": null,
            "right": null,
            "top": null,
            "visibility": null,
            "width": null
          }
        },
        "6d27c021154e4e87a7b1bf55f090073b": {
          "model_module": "@jupyter-widgets/base",
          "model_name": "LayoutModel",
          "model_module_version": "1.2.0",
          "state": {
            "_model_module": "@jupyter-widgets/base",
            "_model_module_version": "1.2.0",
            "_model_name": "LayoutModel",
            "_view_count": null,
            "_view_module": "@jupyter-widgets/base",
            "_view_module_version": "1.2.0",
            "_view_name": "LayoutView",
            "align_content": null,
            "align_items": null,
            "align_self": null,
            "border": null,
            "bottom": null,
            "display": null,
            "flex": null,
            "flex_flow": null,
            "grid_area": null,
            "grid_auto_columns": null,
            "grid_auto_flow": null,
            "grid_auto_rows": null,
            "grid_column": null,
            "grid_gap": null,
            "grid_row": null,
            "grid_template_areas": null,
            "grid_template_columns": null,
            "grid_template_rows": null,
            "height": null,
            "justify_content": null,
            "justify_items": null,
            "left": null,
            "margin": null,
            "max_height": null,
            "max_width": null,
            "min_height": null,
            "min_width": null,
            "object_fit": null,
            "object_position": null,
            "order": null,
            "overflow": null,
            "overflow_x": null,
            "overflow_y": null,
            "padding": null,
            "right": null,
            "top": null,
            "visibility": null,
            "width": null
          }
        },
        "b27128e7a0664ffe883b45c70199f3ed": {
          "model_module": "@jupyter-widgets/controls",
          "model_name": "DescriptionStyleModel",
          "model_module_version": "1.5.0",
          "state": {
            "_model_module": "@jupyter-widgets/controls",
            "_model_module_version": "1.5.0",
            "_model_name": "DescriptionStyleModel",
            "_view_count": null,
            "_view_module": "@jupyter-widgets/base",
            "_view_module_version": "1.2.0",
            "_view_name": "StyleView",
            "description_width": ""
          }
        },
        "403b8b6abfcc4bce9c27ce59ae7b5b41": {
          "model_module": "@jupyter-widgets/base",
          "model_name": "LayoutModel",
          "model_module_version": "1.2.0",
          "state": {
            "_model_module": "@jupyter-widgets/base",
            "_model_module_version": "1.2.0",
            "_model_name": "LayoutModel",
            "_view_count": null,
            "_view_module": "@jupyter-widgets/base",
            "_view_module_version": "1.2.0",
            "_view_name": "LayoutView",
            "align_content": null,
            "align_items": null,
            "align_self": null,
            "border": null,
            "bottom": null,
            "display": null,
            "flex": null,
            "flex_flow": null,
            "grid_area": null,
            "grid_auto_columns": null,
            "grid_auto_flow": null,
            "grid_auto_rows": null,
            "grid_column": null,
            "grid_gap": null,
            "grid_row": null,
            "grid_template_areas": null,
            "grid_template_columns": null,
            "grid_template_rows": null,
            "height": null,
            "justify_content": null,
            "justify_items": null,
            "left": null,
            "margin": null,
            "max_height": null,
            "max_width": null,
            "min_height": null,
            "min_width": null,
            "object_fit": null,
            "object_position": null,
            "order": null,
            "overflow": null,
            "overflow_x": null,
            "overflow_y": null,
            "padding": null,
            "right": null,
            "top": null,
            "visibility": null,
            "width": null
          }
        },
        "2b6acd9b9e814239bb0097abfb5d45ee": {
          "model_module": "@jupyter-widgets/controls",
          "model_name": "ProgressStyleModel",
          "model_module_version": "1.5.0",
          "state": {
            "_model_module": "@jupyter-widgets/controls",
            "_model_module_version": "1.5.0",
            "_model_name": "ProgressStyleModel",
            "_view_count": null,
            "_view_module": "@jupyter-widgets/base",
            "_view_module_version": "1.2.0",
            "_view_name": "StyleView",
            "bar_color": null,
            "description_width": ""
          }
        },
        "0e8577210ffc4cbaaec63fcff235ff82": {
          "model_module": "@jupyter-widgets/base",
          "model_name": "LayoutModel",
          "model_module_version": "1.2.0",
          "state": {
            "_model_module": "@jupyter-widgets/base",
            "_model_module_version": "1.2.0",
            "_model_name": "LayoutModel",
            "_view_count": null,
            "_view_module": "@jupyter-widgets/base",
            "_view_module_version": "1.2.0",
            "_view_name": "LayoutView",
            "align_content": null,
            "align_items": null,
            "align_self": null,
            "border": null,
            "bottom": null,
            "display": null,
            "flex": null,
            "flex_flow": null,
            "grid_area": null,
            "grid_auto_columns": null,
            "grid_auto_flow": null,
            "grid_auto_rows": null,
            "grid_column": null,
            "grid_gap": null,
            "grid_row": null,
            "grid_template_areas": null,
            "grid_template_columns": null,
            "grid_template_rows": null,
            "height": null,
            "justify_content": null,
            "justify_items": null,
            "left": null,
            "margin": null,
            "max_height": null,
            "max_width": null,
            "min_height": null,
            "min_width": null,
            "object_fit": null,
            "object_position": null,
            "order": null,
            "overflow": null,
            "overflow_x": null,
            "overflow_y": null,
            "padding": null,
            "right": null,
            "top": null,
            "visibility": null,
            "width": null
          }
        },
        "58baa5a8e0cc415a824525f1287921c4": {
          "model_module": "@jupyter-widgets/controls",
          "model_name": "DescriptionStyleModel",
          "model_module_version": "1.5.0",
          "state": {
            "_model_module": "@jupyter-widgets/controls",
            "_model_module_version": "1.5.0",
            "_model_name": "DescriptionStyleModel",
            "_view_count": null,
            "_view_module": "@jupyter-widgets/base",
            "_view_module_version": "1.2.0",
            "_view_name": "StyleView",
            "description_width": ""
          }
        },
        "b9c676c6de534aef8517a3edc506768f": {
          "model_module": "@jupyter-widgets/controls",
          "model_name": "HBoxModel",
          "model_module_version": "1.5.0",
          "state": {
            "_dom_classes": [],
            "_model_module": "@jupyter-widgets/controls",
            "_model_module_version": "1.5.0",
            "_model_name": "HBoxModel",
            "_view_count": null,
            "_view_module": "@jupyter-widgets/controls",
            "_view_module_version": "1.5.0",
            "_view_name": "HBoxView",
            "box_style": "",
            "children": [
              "IPY_MODEL_62df90a804bd4648aa857901998b9025",
              "IPY_MODEL_bb8fc78e930c4bd5a7ab38ad0621d662",
              "IPY_MODEL_0d53f86bcb0c4cd18dff49cb8076aabd"
            ],
            "layout": "IPY_MODEL_136cff28510a414c890072d25f8fe834"
          }
        },
        "62df90a804bd4648aa857901998b9025": {
          "model_module": "@jupyter-widgets/controls",
          "model_name": "HTMLModel",
          "model_module_version": "1.5.0",
          "state": {
            "_dom_classes": [],
            "_model_module": "@jupyter-widgets/controls",
            "_model_module_version": "1.5.0",
            "_model_name": "HTMLModel",
            "_view_count": null,
            "_view_module": "@jupyter-widgets/controls",
            "_view_module_version": "1.5.0",
            "_view_name": "HTMLView",
            "description": "",
            "description_tooltip": null,
            "layout": "IPY_MODEL_6bd45763900e43638d8e0e83be37fa5d",
            "placeholder": "​",
            "style": "IPY_MODEL_1f2ea6ebbe584f6885813329cc5e4003",
            "value": "config.json: 100%"
          }
        },
        "bb8fc78e930c4bd5a7ab38ad0621d662": {
          "model_module": "@jupyter-widgets/controls",
          "model_name": "FloatProgressModel",
          "model_module_version": "1.5.0",
          "state": {
            "_dom_classes": [],
            "_model_module": "@jupyter-widgets/controls",
            "_model_module_version": "1.5.0",
            "_model_name": "FloatProgressModel",
            "_view_count": null,
            "_view_module": "@jupyter-widgets/controls",
            "_view_module_version": "1.5.0",
            "_view_name": "ProgressView",
            "bar_style": "success",
            "description": "",
            "description_tooltip": null,
            "layout": "IPY_MODEL_e6f47ea4aa114f31a8ae8e136fa67afc",
            "max": 762,
            "min": 0,
            "orientation": "horizontal",
            "style": "IPY_MODEL_494708b2d5a9454c9879da7f88fe307f",
            "value": 762
          }
        },
        "0d53f86bcb0c4cd18dff49cb8076aabd": {
          "model_module": "@jupyter-widgets/controls",
          "model_name": "HTMLModel",
          "model_module_version": "1.5.0",
          "state": {
            "_dom_classes": [],
            "_model_module": "@jupyter-widgets/controls",
            "_model_module_version": "1.5.0",
            "_model_name": "HTMLModel",
            "_view_count": null,
            "_view_module": "@jupyter-widgets/controls",
            "_view_module_version": "1.5.0",
            "_view_name": "HTMLView",
            "description": "",
            "description_tooltip": null,
            "layout": "IPY_MODEL_72a5fdc6db1b4486b0dc8acf05bf8c1c",
            "placeholder": "​",
            "style": "IPY_MODEL_89c975bc0f604aa88668a2162bbaac10",
            "value": " 762/762 [00:00&lt;00:00, 58.9kB/s]"
          }
        },
        "136cff28510a414c890072d25f8fe834": {
          "model_module": "@jupyter-widgets/base",
          "model_name": "LayoutModel",
          "model_module_version": "1.2.0",
          "state": {
            "_model_module": "@jupyter-widgets/base",
            "_model_module_version": "1.2.0",
            "_model_name": "LayoutModel",
            "_view_count": null,
            "_view_module": "@jupyter-widgets/base",
            "_view_module_version": "1.2.0",
            "_view_name": "LayoutView",
            "align_content": null,
            "align_items": null,
            "align_self": null,
            "border": null,
            "bottom": null,
            "display": null,
            "flex": null,
            "flex_flow": null,
            "grid_area": null,
            "grid_auto_columns": null,
            "grid_auto_flow": null,
            "grid_auto_rows": null,
            "grid_column": null,
            "grid_gap": null,
            "grid_row": null,
            "grid_template_areas": null,
            "grid_template_columns": null,
            "grid_template_rows": null,
            "height": null,
            "justify_content": null,
            "justify_items": null,
            "left": null,
            "margin": null,
            "max_height": null,
            "max_width": null,
            "min_height": null,
            "min_width": null,
            "object_fit": null,
            "object_position": null,
            "order": null,
            "overflow": null,
            "overflow_x": null,
            "overflow_y": null,
            "padding": null,
            "right": null,
            "top": null,
            "visibility": null,
            "width": null
          }
        },
        "6bd45763900e43638d8e0e83be37fa5d": {
          "model_module": "@jupyter-widgets/base",
          "model_name": "LayoutModel",
          "model_module_version": "1.2.0",
          "state": {
            "_model_module": "@jupyter-widgets/base",
            "_model_module_version": "1.2.0",
            "_model_name": "LayoutModel",
            "_view_count": null,
            "_view_module": "@jupyter-widgets/base",
            "_view_module_version": "1.2.0",
            "_view_name": "LayoutView",
            "align_content": null,
            "align_items": null,
            "align_self": null,
            "border": null,
            "bottom": null,
            "display": null,
            "flex": null,
            "flex_flow": null,
            "grid_area": null,
            "grid_auto_columns": null,
            "grid_auto_flow": null,
            "grid_auto_rows": null,
            "grid_column": null,
            "grid_gap": null,
            "grid_row": null,
            "grid_template_areas": null,
            "grid_template_columns": null,
            "grid_template_rows": null,
            "height": null,
            "justify_content": null,
            "justify_items": null,
            "left": null,
            "margin": null,
            "max_height": null,
            "max_width": null,
            "min_height": null,
            "min_width": null,
            "object_fit": null,
            "object_position": null,
            "order": null,
            "overflow": null,
            "overflow_x": null,
            "overflow_y": null,
            "padding": null,
            "right": null,
            "top": null,
            "visibility": null,
            "width": null
          }
        },
        "1f2ea6ebbe584f6885813329cc5e4003": {
          "model_module": "@jupyter-widgets/controls",
          "model_name": "DescriptionStyleModel",
          "model_module_version": "1.5.0",
          "state": {
            "_model_module": "@jupyter-widgets/controls",
            "_model_module_version": "1.5.0",
            "_model_name": "DescriptionStyleModel",
            "_view_count": null,
            "_view_module": "@jupyter-widgets/base",
            "_view_module_version": "1.2.0",
            "_view_name": "StyleView",
            "description_width": ""
          }
        },
        "e6f47ea4aa114f31a8ae8e136fa67afc": {
          "model_module": "@jupyter-widgets/base",
          "model_name": "LayoutModel",
          "model_module_version": "1.2.0",
          "state": {
            "_model_module": "@jupyter-widgets/base",
            "_model_module_version": "1.2.0",
            "_model_name": "LayoutModel",
            "_view_count": null,
            "_view_module": "@jupyter-widgets/base",
            "_view_module_version": "1.2.0",
            "_view_name": "LayoutView",
            "align_content": null,
            "align_items": null,
            "align_self": null,
            "border": null,
            "bottom": null,
            "display": null,
            "flex": null,
            "flex_flow": null,
            "grid_area": null,
            "grid_auto_columns": null,
            "grid_auto_flow": null,
            "grid_auto_rows": null,
            "grid_column": null,
            "grid_gap": null,
            "grid_row": null,
            "grid_template_areas": null,
            "grid_template_columns": null,
            "grid_template_rows": null,
            "height": null,
            "justify_content": null,
            "justify_items": null,
            "left": null,
            "margin": null,
            "max_height": null,
            "max_width": null,
            "min_height": null,
            "min_width": null,
            "object_fit": null,
            "object_position": null,
            "order": null,
            "overflow": null,
            "overflow_x": null,
            "overflow_y": null,
            "padding": null,
            "right": null,
            "top": null,
            "visibility": null,
            "width": null
          }
        },
        "494708b2d5a9454c9879da7f88fe307f": {
          "model_module": "@jupyter-widgets/controls",
          "model_name": "ProgressStyleModel",
          "model_module_version": "1.5.0",
          "state": {
            "_model_module": "@jupyter-widgets/controls",
            "_model_module_version": "1.5.0",
            "_model_name": "ProgressStyleModel",
            "_view_count": null,
            "_view_module": "@jupyter-widgets/base",
            "_view_module_version": "1.2.0",
            "_view_name": "StyleView",
            "bar_color": null,
            "description_width": ""
          }
        },
        "72a5fdc6db1b4486b0dc8acf05bf8c1c": {
          "model_module": "@jupyter-widgets/base",
          "model_name": "LayoutModel",
          "model_module_version": "1.2.0",
          "state": {
            "_model_module": "@jupyter-widgets/base",
            "_model_module_version": "1.2.0",
            "_model_name": "LayoutModel",
            "_view_count": null,
            "_view_module": "@jupyter-widgets/base",
            "_view_module_version": "1.2.0",
            "_view_name": "LayoutView",
            "align_content": null,
            "align_items": null,
            "align_self": null,
            "border": null,
            "bottom": null,
            "display": null,
            "flex": null,
            "flex_flow": null,
            "grid_area": null,
            "grid_auto_columns": null,
            "grid_auto_flow": null,
            "grid_auto_rows": null,
            "grid_column": null,
            "grid_gap": null,
            "grid_row": null,
            "grid_template_areas": null,
            "grid_template_columns": null,
            "grid_template_rows": null,
            "height": null,
            "justify_content": null,
            "justify_items": null,
            "left": null,
            "margin": null,
            "max_height": null,
            "max_width": null,
            "min_height": null,
            "min_width": null,
            "object_fit": null,
            "object_position": null,
            "order": null,
            "overflow": null,
            "overflow_x": null,
            "overflow_y": null,
            "padding": null,
            "right": null,
            "top": null,
            "visibility": null,
            "width": null
          }
        },
        "89c975bc0f604aa88668a2162bbaac10": {
          "model_module": "@jupyter-widgets/controls",
          "model_name": "DescriptionStyleModel",
          "model_module_version": "1.5.0",
          "state": {
            "_model_module": "@jupyter-widgets/controls",
            "_model_module_version": "1.5.0",
            "_model_name": "DescriptionStyleModel",
            "_view_count": null,
            "_view_module": "@jupyter-widgets/base",
            "_view_module_version": "1.2.0",
            "_view_name": "StyleView",
            "description_width": ""
          }
        },
        "b49052f85a1a4b3f926b78aadfa4c842": {
          "model_module": "@jupyter-widgets/controls",
          "model_name": "HBoxModel",
          "model_module_version": "1.5.0",
          "state": {
            "_dom_classes": [],
            "_model_module": "@jupyter-widgets/controls",
            "_model_module_version": "1.5.0",
            "_model_name": "HBoxModel",
            "_view_count": null,
            "_view_module": "@jupyter-widgets/controls",
            "_view_module_version": "1.5.0",
            "_view_name": "HBoxView",
            "box_style": "",
            "children": [
              "IPY_MODEL_d4acfd26534542c1b671d68d755dfa0a",
              "IPY_MODEL_876663484fb645dc8bc0f6eabb41f983",
              "IPY_MODEL_4479e6f5e4af4af0912a36ffcb1101c8"
            ],
            "layout": "IPY_MODEL_25c9859b7940463bbceb876db7468a87"
          }
        },
        "d4acfd26534542c1b671d68d755dfa0a": {
          "model_module": "@jupyter-widgets/controls",
          "model_name": "HTMLModel",
          "model_module_version": "1.5.0",
          "state": {
            "_dom_classes": [],
            "_model_module": "@jupyter-widgets/controls",
            "_model_module_version": "1.5.0",
            "_model_name": "HTMLModel",
            "_view_count": null,
            "_view_module": "@jupyter-widgets/controls",
            "_view_module_version": "1.5.0",
            "_view_name": "HTMLView",
            "description": "",
            "description_tooltip": null,
            "layout": "IPY_MODEL_9b7aa2f5dd744a278879ac7664ff8566",
            "placeholder": "​",
            "style": "IPY_MODEL_db8cec5f259d4fdcab79e4329d05ec5a",
            "value": "vocab.json: 100%"
          }
        },
        "876663484fb645dc8bc0f6eabb41f983": {
          "model_module": "@jupyter-widgets/controls",
          "model_name": "FloatProgressModel",
          "model_module_version": "1.5.0",
          "state": {
            "_dom_classes": [],
            "_model_module": "@jupyter-widgets/controls",
            "_model_module_version": "1.5.0",
            "_model_name": "FloatProgressModel",
            "_view_count": null,
            "_view_module": "@jupyter-widgets/controls",
            "_view_module_version": "1.5.0",
            "_view_name": "ProgressView",
            "bar_style": "success",
            "description": "",
            "description_tooltip": null,
            "layout": "IPY_MODEL_efffa3641abf44f396c0cb14555491da",
            "max": 1042301,
            "min": 0,
            "orientation": "horizontal",
            "style": "IPY_MODEL_3aed3e8c1be04f2daeaea75cee03c88c",
            "value": 1042301
          }
        },
        "4479e6f5e4af4af0912a36ffcb1101c8": {
          "model_module": "@jupyter-widgets/controls",
          "model_name": "HTMLModel",
          "model_module_version": "1.5.0",
          "state": {
            "_dom_classes": [],
            "_model_module": "@jupyter-widgets/controls",
            "_model_module_version": "1.5.0",
            "_model_name": "HTMLModel",
            "_view_count": null,
            "_view_module": "@jupyter-widgets/controls",
            "_view_module_version": "1.5.0",
            "_view_name": "HTMLView",
            "description": "",
            "description_tooltip": null,
            "layout": "IPY_MODEL_a959f990bae8494ba76ba341df4b223b",
            "placeholder": "​",
            "style": "IPY_MODEL_74f4110bc9a34ade91695c9f6aaf6204",
            "value": " 1.04M/1.04M [00:00&lt;00:00, 5.64MB/s]"
          }
        },
        "25c9859b7940463bbceb876db7468a87": {
          "model_module": "@jupyter-widgets/base",
          "model_name": "LayoutModel",
          "model_module_version": "1.2.0",
          "state": {
            "_model_module": "@jupyter-widgets/base",
            "_model_module_version": "1.2.0",
            "_model_name": "LayoutModel",
            "_view_count": null,
            "_view_module": "@jupyter-widgets/base",
            "_view_module_version": "1.2.0",
            "_view_name": "LayoutView",
            "align_content": null,
            "align_items": null,
            "align_self": null,
            "border": null,
            "bottom": null,
            "display": null,
            "flex": null,
            "flex_flow": null,
            "grid_area": null,
            "grid_auto_columns": null,
            "grid_auto_flow": null,
            "grid_auto_rows": null,
            "grid_column": null,
            "grid_gap": null,
            "grid_row": null,
            "grid_template_areas": null,
            "grid_template_columns": null,
            "grid_template_rows": null,
            "height": null,
            "justify_content": null,
            "justify_items": null,
            "left": null,
            "margin": null,
            "max_height": null,
            "max_width": null,
            "min_height": null,
            "min_width": null,
            "object_fit": null,
            "object_position": null,
            "order": null,
            "overflow": null,
            "overflow_x": null,
            "overflow_y": null,
            "padding": null,
            "right": null,
            "top": null,
            "visibility": null,
            "width": null
          }
        },
        "9b7aa2f5dd744a278879ac7664ff8566": {
          "model_module": "@jupyter-widgets/base",
          "model_name": "LayoutModel",
          "model_module_version": "1.2.0",
          "state": {
            "_model_module": "@jupyter-widgets/base",
            "_model_module_version": "1.2.0",
            "_model_name": "LayoutModel",
            "_view_count": null,
            "_view_module": "@jupyter-widgets/base",
            "_view_module_version": "1.2.0",
            "_view_name": "LayoutView",
            "align_content": null,
            "align_items": null,
            "align_self": null,
            "border": null,
            "bottom": null,
            "display": null,
            "flex": null,
            "flex_flow": null,
            "grid_area": null,
            "grid_auto_columns": null,
            "grid_auto_flow": null,
            "grid_auto_rows": null,
            "grid_column": null,
            "grid_gap": null,
            "grid_row": null,
            "grid_template_areas": null,
            "grid_template_columns": null,
            "grid_template_rows": null,
            "height": null,
            "justify_content": null,
            "justify_items": null,
            "left": null,
            "margin": null,
            "max_height": null,
            "max_width": null,
            "min_height": null,
            "min_width": null,
            "object_fit": null,
            "object_position": null,
            "order": null,
            "overflow": null,
            "overflow_x": null,
            "overflow_y": null,
            "padding": null,
            "right": null,
            "top": null,
            "visibility": null,
            "width": null
          }
        },
        "db8cec5f259d4fdcab79e4329d05ec5a": {
          "model_module": "@jupyter-widgets/controls",
          "model_name": "DescriptionStyleModel",
          "model_module_version": "1.5.0",
          "state": {
            "_model_module": "@jupyter-widgets/controls",
            "_model_module_version": "1.5.0",
            "_model_name": "DescriptionStyleModel",
            "_view_count": null,
            "_view_module": "@jupyter-widgets/base",
            "_view_module_version": "1.2.0",
            "_view_name": "StyleView",
            "description_width": ""
          }
        },
        "efffa3641abf44f396c0cb14555491da": {
          "model_module": "@jupyter-widgets/base",
          "model_name": "LayoutModel",
          "model_module_version": "1.2.0",
          "state": {
            "_model_module": "@jupyter-widgets/base",
            "_model_module_version": "1.2.0",
            "_model_name": "LayoutModel",
            "_view_count": null,
            "_view_module": "@jupyter-widgets/base",
            "_view_module_version": "1.2.0",
            "_view_name": "LayoutView",
            "align_content": null,
            "align_items": null,
            "align_self": null,
            "border": null,
            "bottom": null,
            "display": null,
            "flex": null,
            "flex_flow": null,
            "grid_area": null,
            "grid_auto_columns": null,
            "grid_auto_flow": null,
            "grid_auto_rows": null,
            "grid_column": null,
            "grid_gap": null,
            "grid_row": null,
            "grid_template_areas": null,
            "grid_template_columns": null,
            "grid_template_rows": null,
            "height": null,
            "justify_content": null,
            "justify_items": null,
            "left": null,
            "margin": null,
            "max_height": null,
            "max_width": null,
            "min_height": null,
            "min_width": null,
            "object_fit": null,
            "object_position": null,
            "order": null,
            "overflow": null,
            "overflow_x": null,
            "overflow_y": null,
            "padding": null,
            "right": null,
            "top": null,
            "visibility": null,
            "width": null
          }
        },
        "3aed3e8c1be04f2daeaea75cee03c88c": {
          "model_module": "@jupyter-widgets/controls",
          "model_name": "ProgressStyleModel",
          "model_module_version": "1.5.0",
          "state": {
            "_model_module": "@jupyter-widgets/controls",
            "_model_module_version": "1.5.0",
            "_model_name": "ProgressStyleModel",
            "_view_count": null,
            "_view_module": "@jupyter-widgets/base",
            "_view_module_version": "1.2.0",
            "_view_name": "StyleView",
            "bar_color": null,
            "description_width": ""
          }
        },
        "a959f990bae8494ba76ba341df4b223b": {
          "model_module": "@jupyter-widgets/base",
          "model_name": "LayoutModel",
          "model_module_version": "1.2.0",
          "state": {
            "_model_module": "@jupyter-widgets/base",
            "_model_module_version": "1.2.0",
            "_model_name": "LayoutModel",
            "_view_count": null,
            "_view_module": "@jupyter-widgets/base",
            "_view_module_version": "1.2.0",
            "_view_name": "LayoutView",
            "align_content": null,
            "align_items": null,
            "align_self": null,
            "border": null,
            "bottom": null,
            "display": null,
            "flex": null,
            "flex_flow": null,
            "grid_area": null,
            "grid_auto_columns": null,
            "grid_auto_flow": null,
            "grid_auto_rows": null,
            "grid_column": null,
            "grid_gap": null,
            "grid_row": null,
            "grid_template_areas": null,
            "grid_template_columns": null,
            "grid_template_rows": null,
            "height": null,
            "justify_content": null,
            "justify_items": null,
            "left": null,
            "margin": null,
            "max_height": null,
            "max_width": null,
            "min_height": null,
            "min_width": null,
            "object_fit": null,
            "object_position": null,
            "order": null,
            "overflow": null,
            "overflow_x": null,
            "overflow_y": null,
            "padding": null,
            "right": null,
            "top": null,
            "visibility": null,
            "width": null
          }
        },
        "74f4110bc9a34ade91695c9f6aaf6204": {
          "model_module": "@jupyter-widgets/controls",
          "model_name": "DescriptionStyleModel",
          "model_module_version": "1.5.0",
          "state": {
            "_model_module": "@jupyter-widgets/controls",
            "_model_module_version": "1.5.0",
            "_model_name": "DescriptionStyleModel",
            "_view_count": null,
            "_view_module": "@jupyter-widgets/base",
            "_view_module_version": "1.2.0",
            "_view_name": "StyleView",
            "description_width": ""
          }
        },
        "5c93c9bfd3b94ac1b8bcdb08c0b5da6b": {
          "model_module": "@jupyter-widgets/controls",
          "model_name": "HBoxModel",
          "model_module_version": "1.5.0",
          "state": {
            "_dom_classes": [],
            "_model_module": "@jupyter-widgets/controls",
            "_model_module_version": "1.5.0",
            "_model_name": "HBoxModel",
            "_view_count": null,
            "_view_module": "@jupyter-widgets/controls",
            "_view_module_version": "1.5.0",
            "_view_name": "HBoxView",
            "box_style": "",
            "children": [
              "IPY_MODEL_4af44aabce1b42cfaaf51d0e0f7518a1",
              "IPY_MODEL_28aa272e9ff34cc9967bbd6f3f53587a",
              "IPY_MODEL_b209b8caad4e4c2ba6368033c2ae2cc4"
            ],
            "layout": "IPY_MODEL_f841563a83084bb696047031e54f0d72"
          }
        },
        "4af44aabce1b42cfaaf51d0e0f7518a1": {
          "model_module": "@jupyter-widgets/controls",
          "model_name": "HTMLModel",
          "model_module_version": "1.5.0",
          "state": {
            "_dom_classes": [],
            "_model_module": "@jupyter-widgets/controls",
            "_model_module_version": "1.5.0",
            "_model_name": "HTMLModel",
            "_view_count": null,
            "_view_module": "@jupyter-widgets/controls",
            "_view_module_version": "1.5.0",
            "_view_name": "HTMLView",
            "description": "",
            "description_tooltip": null,
            "layout": "IPY_MODEL_f4b8cbd8b96a40ac82807a593e6e6ac9",
            "placeholder": "​",
            "style": "IPY_MODEL_391f3bbf1ece4fc6904ca524d7813888",
            "value": "merges.txt: 100%"
          }
        },
        "28aa272e9ff34cc9967bbd6f3f53587a": {
          "model_module": "@jupyter-widgets/controls",
          "model_name": "FloatProgressModel",
          "model_module_version": "1.5.0",
          "state": {
            "_dom_classes": [],
            "_model_module": "@jupyter-widgets/controls",
            "_model_module_version": "1.5.0",
            "_model_name": "FloatProgressModel",
            "_view_count": null,
            "_view_module": "@jupyter-widgets/controls",
            "_view_module_version": "1.5.0",
            "_view_name": "ProgressView",
            "bar_style": "success",
            "description": "",
            "description_tooltip": null,
            "layout": "IPY_MODEL_d4d71eca753e4a9b94305efd75c7aa4f",
            "max": 456318,
            "min": 0,
            "orientation": "horizontal",
            "style": "IPY_MODEL_4746484ff39e4e5da71b851cb6f0b616",
            "value": 456318
          }
        },
        "b209b8caad4e4c2ba6368033c2ae2cc4": {
          "model_module": "@jupyter-widgets/controls",
          "model_name": "HTMLModel",
          "model_module_version": "1.5.0",
          "state": {
            "_dom_classes": [],
            "_model_module": "@jupyter-widgets/controls",
            "_model_module_version": "1.5.0",
            "_model_name": "HTMLModel",
            "_view_count": null,
            "_view_module": "@jupyter-widgets/controls",
            "_view_module_version": "1.5.0",
            "_view_name": "HTMLView",
            "description": "",
            "description_tooltip": null,
            "layout": "IPY_MODEL_3c6a69acfc334dfcb50b8c2765fa71ba",
            "placeholder": "​",
            "style": "IPY_MODEL_53e74a7c1ba14933958ad1c85e67b2ec",
            "value": " 456k/456k [00:00&lt;00:00, 10.2MB/s]"
          }
        },
        "f841563a83084bb696047031e54f0d72": {
          "model_module": "@jupyter-widgets/base",
          "model_name": "LayoutModel",
          "model_module_version": "1.2.0",
          "state": {
            "_model_module": "@jupyter-widgets/base",
            "_model_module_version": "1.2.0",
            "_model_name": "LayoutModel",
            "_view_count": null,
            "_view_module": "@jupyter-widgets/base",
            "_view_module_version": "1.2.0",
            "_view_name": "LayoutView",
            "align_content": null,
            "align_items": null,
            "align_self": null,
            "border": null,
            "bottom": null,
            "display": null,
            "flex": null,
            "flex_flow": null,
            "grid_area": null,
            "grid_auto_columns": null,
            "grid_auto_flow": null,
            "grid_auto_rows": null,
            "grid_column": null,
            "grid_gap": null,
            "grid_row": null,
            "grid_template_areas": null,
            "grid_template_columns": null,
            "grid_template_rows": null,
            "height": null,
            "justify_content": null,
            "justify_items": null,
            "left": null,
            "margin": null,
            "max_height": null,
            "max_width": null,
            "min_height": null,
            "min_width": null,
            "object_fit": null,
            "object_position": null,
            "order": null,
            "overflow": null,
            "overflow_x": null,
            "overflow_y": null,
            "padding": null,
            "right": null,
            "top": null,
            "visibility": null,
            "width": null
          }
        },
        "f4b8cbd8b96a40ac82807a593e6e6ac9": {
          "model_module": "@jupyter-widgets/base",
          "model_name": "LayoutModel",
          "model_module_version": "1.2.0",
          "state": {
            "_model_module": "@jupyter-widgets/base",
            "_model_module_version": "1.2.0",
            "_model_name": "LayoutModel",
            "_view_count": null,
            "_view_module": "@jupyter-widgets/base",
            "_view_module_version": "1.2.0",
            "_view_name": "LayoutView",
            "align_content": null,
            "align_items": null,
            "align_self": null,
            "border": null,
            "bottom": null,
            "display": null,
            "flex": null,
            "flex_flow": null,
            "grid_area": null,
            "grid_auto_columns": null,
            "grid_auto_flow": null,
            "grid_auto_rows": null,
            "grid_column": null,
            "grid_gap": null,
            "grid_row": null,
            "grid_template_areas": null,
            "grid_template_columns": null,
            "grid_template_rows": null,
            "height": null,
            "justify_content": null,
            "justify_items": null,
            "left": null,
            "margin": null,
            "max_height": null,
            "max_width": null,
            "min_height": null,
            "min_width": null,
            "object_fit": null,
            "object_position": null,
            "order": null,
            "overflow": null,
            "overflow_x": null,
            "overflow_y": null,
            "padding": null,
            "right": null,
            "top": null,
            "visibility": null,
            "width": null
          }
        },
        "391f3bbf1ece4fc6904ca524d7813888": {
          "model_module": "@jupyter-widgets/controls",
          "model_name": "DescriptionStyleModel",
          "model_module_version": "1.5.0",
          "state": {
            "_model_module": "@jupyter-widgets/controls",
            "_model_module_version": "1.5.0",
            "_model_name": "DescriptionStyleModel",
            "_view_count": null,
            "_view_module": "@jupyter-widgets/base",
            "_view_module_version": "1.2.0",
            "_view_name": "StyleView",
            "description_width": ""
          }
        },
        "d4d71eca753e4a9b94305efd75c7aa4f": {
          "model_module": "@jupyter-widgets/base",
          "model_name": "LayoutModel",
          "model_module_version": "1.2.0",
          "state": {
            "_model_module": "@jupyter-widgets/base",
            "_model_module_version": "1.2.0",
            "_model_name": "LayoutModel",
            "_view_count": null,
            "_view_module": "@jupyter-widgets/base",
            "_view_module_version": "1.2.0",
            "_view_name": "LayoutView",
            "align_content": null,
            "align_items": null,
            "align_self": null,
            "border": null,
            "bottom": null,
            "display": null,
            "flex": null,
            "flex_flow": null,
            "grid_area": null,
            "grid_auto_columns": null,
            "grid_auto_flow": null,
            "grid_auto_rows": null,
            "grid_column": null,
            "grid_gap": null,
            "grid_row": null,
            "grid_template_areas": null,
            "grid_template_columns": null,
            "grid_template_rows": null,
            "height": null,
            "justify_content": null,
            "justify_items": null,
            "left": null,
            "margin": null,
            "max_height": null,
            "max_width": null,
            "min_height": null,
            "min_width": null,
            "object_fit": null,
            "object_position": null,
            "order": null,
            "overflow": null,
            "overflow_x": null,
            "overflow_y": null,
            "padding": null,
            "right": null,
            "top": null,
            "visibility": null,
            "width": null
          }
        },
        "4746484ff39e4e5da71b851cb6f0b616": {
          "model_module": "@jupyter-widgets/controls",
          "model_name": "ProgressStyleModel",
          "model_module_version": "1.5.0",
          "state": {
            "_model_module": "@jupyter-widgets/controls",
            "_model_module_version": "1.5.0",
            "_model_name": "ProgressStyleModel",
            "_view_count": null,
            "_view_module": "@jupyter-widgets/base",
            "_view_module_version": "1.2.0",
            "_view_name": "StyleView",
            "bar_color": null,
            "description_width": ""
          }
        },
        "3c6a69acfc334dfcb50b8c2765fa71ba": {
          "model_module": "@jupyter-widgets/base",
          "model_name": "LayoutModel",
          "model_module_version": "1.2.0",
          "state": {
            "_model_module": "@jupyter-widgets/base",
            "_model_module_version": "1.2.0",
            "_model_name": "LayoutModel",
            "_view_count": null,
            "_view_module": "@jupyter-widgets/base",
            "_view_module_version": "1.2.0",
            "_view_name": "LayoutView",
            "align_content": null,
            "align_items": null,
            "align_self": null,
            "border": null,
            "bottom": null,
            "display": null,
            "flex": null,
            "flex_flow": null,
            "grid_area": null,
            "grid_auto_columns": null,
            "grid_auto_flow": null,
            "grid_auto_rows": null,
            "grid_column": null,
            "grid_gap": null,
            "grid_row": null,
            "grid_template_areas": null,
            "grid_template_columns": null,
            "grid_template_rows": null,
            "height": null,
            "justify_content": null,
            "justify_items": null,
            "left": null,
            "margin": null,
            "max_height": null,
            "max_width": null,
            "min_height": null,
            "min_width": null,
            "object_fit": null,
            "object_position": null,
            "order": null,
            "overflow": null,
            "overflow_x": null,
            "overflow_y": null,
            "padding": null,
            "right": null,
            "top": null,
            "visibility": null,
            "width": null
          }
        },
        "53e74a7c1ba14933958ad1c85e67b2ec": {
          "model_module": "@jupyter-widgets/controls",
          "model_name": "DescriptionStyleModel",
          "model_module_version": "1.5.0",
          "state": {
            "_model_module": "@jupyter-widgets/controls",
            "_model_module_version": "1.5.0",
            "_model_name": "DescriptionStyleModel",
            "_view_count": null,
            "_view_module": "@jupyter-widgets/base",
            "_view_module_version": "1.2.0",
            "_view_name": "StyleView",
            "description_width": ""
          }
        },
        "8dc2e08753704961a163de3869954391": {
          "model_module": "@jupyter-widgets/controls",
          "model_name": "HBoxModel",
          "model_module_version": "1.5.0",
          "state": {
            "_dom_classes": [],
            "_model_module": "@jupyter-widgets/controls",
            "_model_module_version": "1.5.0",
            "_model_name": "HBoxModel",
            "_view_count": null,
            "_view_module": "@jupyter-widgets/controls",
            "_view_module_version": "1.5.0",
            "_view_name": "HBoxView",
            "box_style": "",
            "children": [
              "IPY_MODEL_c00d670d3f0b49ce99618e5c0f004e69",
              "IPY_MODEL_4fe3d5dea1e84fe18ffddb69e812c64b",
              "IPY_MODEL_87bc8786cb56410ea9f9a9d48f1861e5"
            ],
            "layout": "IPY_MODEL_2a68f6c6a76a4e7a92561bc7b61bb976"
          }
        },
        "c00d670d3f0b49ce99618e5c0f004e69": {
          "model_module": "@jupyter-widgets/controls",
          "model_name": "HTMLModel",
          "model_module_version": "1.5.0",
          "state": {
            "_dom_classes": [],
            "_model_module": "@jupyter-widgets/controls",
            "_model_module_version": "1.5.0",
            "_model_name": "HTMLModel",
            "_view_count": null,
            "_view_module": "@jupyter-widgets/controls",
            "_view_module_version": "1.5.0",
            "_view_name": "HTMLView",
            "description": "",
            "description_tooltip": null,
            "layout": "IPY_MODEL_2a81e8dd0ab64e6c9488a92837a770a2",
            "placeholder": "​",
            "style": "IPY_MODEL_056a5e671cba4b7cb0f66465abe06fdf",
            "value": "tokenizer.json: 100%"
          }
        },
        "4fe3d5dea1e84fe18ffddb69e812c64b": {
          "model_module": "@jupyter-widgets/controls",
          "model_name": "FloatProgressModel",
          "model_module_version": "1.5.0",
          "state": {
            "_dom_classes": [],
            "_model_module": "@jupyter-widgets/controls",
            "_model_module_version": "1.5.0",
            "_model_name": "FloatProgressModel",
            "_view_count": null,
            "_view_module": "@jupyter-widgets/controls",
            "_view_module_version": "1.5.0",
            "_view_name": "ProgressView",
            "bar_style": "success",
            "description": "",
            "description_tooltip": null,
            "layout": "IPY_MODEL_5b8cdb603094469d9655704a61cccdf5",
            "max": 1355256,
            "min": 0,
            "orientation": "horizontal",
            "style": "IPY_MODEL_ea7ae9c0b2bc4882a62efe7db7d10a3b",
            "value": 1355256
          }
        },
        "87bc8786cb56410ea9f9a9d48f1861e5": {
          "model_module": "@jupyter-widgets/controls",
          "model_name": "HTMLModel",
          "model_module_version": "1.5.0",
          "state": {
            "_dom_classes": [],
            "_model_module": "@jupyter-widgets/controls",
            "_model_module_version": "1.5.0",
            "_model_name": "HTMLModel",
            "_view_count": null,
            "_view_module": "@jupyter-widgets/controls",
            "_view_module_version": "1.5.0",
            "_view_name": "HTMLView",
            "description": "",
            "description_tooltip": null,
            "layout": "IPY_MODEL_a90263a3de9047568c5b46d0d823c5c5",
            "placeholder": "​",
            "style": "IPY_MODEL_0510cb3cf71848c8885517fe2f202112",
            "value": " 1.36M/1.36M [00:00&lt;00:00, 7.68MB/s]"
          }
        },
        "2a68f6c6a76a4e7a92561bc7b61bb976": {
          "model_module": "@jupyter-widgets/base",
          "model_name": "LayoutModel",
          "model_module_version": "1.2.0",
          "state": {
            "_model_module": "@jupyter-widgets/base",
            "_model_module_version": "1.2.0",
            "_model_name": "LayoutModel",
            "_view_count": null,
            "_view_module": "@jupyter-widgets/base",
            "_view_module_version": "1.2.0",
            "_view_name": "LayoutView",
            "align_content": null,
            "align_items": null,
            "align_self": null,
            "border": null,
            "bottom": null,
            "display": null,
            "flex": null,
            "flex_flow": null,
            "grid_area": null,
            "grid_auto_columns": null,
            "grid_auto_flow": null,
            "grid_auto_rows": null,
            "grid_column": null,
            "grid_gap": null,
            "grid_row": null,
            "grid_template_areas": null,
            "grid_template_columns": null,
            "grid_template_rows": null,
            "height": null,
            "justify_content": null,
            "justify_items": null,
            "left": null,
            "margin": null,
            "max_height": null,
            "max_width": null,
            "min_height": null,
            "min_width": null,
            "object_fit": null,
            "object_position": null,
            "order": null,
            "overflow": null,
            "overflow_x": null,
            "overflow_y": null,
            "padding": null,
            "right": null,
            "top": null,
            "visibility": null,
            "width": null
          }
        },
        "2a81e8dd0ab64e6c9488a92837a770a2": {
          "model_module": "@jupyter-widgets/base",
          "model_name": "LayoutModel",
          "model_module_version": "1.2.0",
          "state": {
            "_model_module": "@jupyter-widgets/base",
            "_model_module_version": "1.2.0",
            "_model_name": "LayoutModel",
            "_view_count": null,
            "_view_module": "@jupyter-widgets/base",
            "_view_module_version": "1.2.0",
            "_view_name": "LayoutView",
            "align_content": null,
            "align_items": null,
            "align_self": null,
            "border": null,
            "bottom": null,
            "display": null,
            "flex": null,
            "flex_flow": null,
            "grid_area": null,
            "grid_auto_columns": null,
            "grid_auto_flow": null,
            "grid_auto_rows": null,
            "grid_column": null,
            "grid_gap": null,
            "grid_row": null,
            "grid_template_areas": null,
            "grid_template_columns": null,
            "grid_template_rows": null,
            "height": null,
            "justify_content": null,
            "justify_items": null,
            "left": null,
            "margin": null,
            "max_height": null,
            "max_width": null,
            "min_height": null,
            "min_width": null,
            "object_fit": null,
            "object_position": null,
            "order": null,
            "overflow": null,
            "overflow_x": null,
            "overflow_y": null,
            "padding": null,
            "right": null,
            "top": null,
            "visibility": null,
            "width": null
          }
        },
        "056a5e671cba4b7cb0f66465abe06fdf": {
          "model_module": "@jupyter-widgets/controls",
          "model_name": "DescriptionStyleModel",
          "model_module_version": "1.5.0",
          "state": {
            "_model_module": "@jupyter-widgets/controls",
            "_model_module_version": "1.5.0",
            "_model_name": "DescriptionStyleModel",
            "_view_count": null,
            "_view_module": "@jupyter-widgets/base",
            "_view_module_version": "1.2.0",
            "_view_name": "StyleView",
            "description_width": ""
          }
        },
        "5b8cdb603094469d9655704a61cccdf5": {
          "model_module": "@jupyter-widgets/base",
          "model_name": "LayoutModel",
          "model_module_version": "1.2.0",
          "state": {
            "_model_module": "@jupyter-widgets/base",
            "_model_module_version": "1.2.0",
            "_model_name": "LayoutModel",
            "_view_count": null,
            "_view_module": "@jupyter-widgets/base",
            "_view_module_version": "1.2.0",
            "_view_name": "LayoutView",
            "align_content": null,
            "align_items": null,
            "align_self": null,
            "border": null,
            "bottom": null,
            "display": null,
            "flex": null,
            "flex_flow": null,
            "grid_area": null,
            "grid_auto_columns": null,
            "grid_auto_flow": null,
            "grid_auto_rows": null,
            "grid_column": null,
            "grid_gap": null,
            "grid_row": null,
            "grid_template_areas": null,
            "grid_template_columns": null,
            "grid_template_rows": null,
            "height": null,
            "justify_content": null,
            "justify_items": null,
            "left": null,
            "margin": null,
            "max_height": null,
            "max_width": null,
            "min_height": null,
            "min_width": null,
            "object_fit": null,
            "object_position": null,
            "order": null,
            "overflow": null,
            "overflow_x": null,
            "overflow_y": null,
            "padding": null,
            "right": null,
            "top": null,
            "visibility": null,
            "width": null
          }
        },
        "ea7ae9c0b2bc4882a62efe7db7d10a3b": {
          "model_module": "@jupyter-widgets/controls",
          "model_name": "ProgressStyleModel",
          "model_module_version": "1.5.0",
          "state": {
            "_model_module": "@jupyter-widgets/controls",
            "_model_module_version": "1.5.0",
            "_model_name": "ProgressStyleModel",
            "_view_count": null,
            "_view_module": "@jupyter-widgets/base",
            "_view_module_version": "1.2.0",
            "_view_name": "StyleView",
            "bar_color": null,
            "description_width": ""
          }
        },
        "a90263a3de9047568c5b46d0d823c5c5": {
          "model_module": "@jupyter-widgets/base",
          "model_name": "LayoutModel",
          "model_module_version": "1.2.0",
          "state": {
            "_model_module": "@jupyter-widgets/base",
            "_model_module_version": "1.2.0",
            "_model_name": "LayoutModel",
            "_view_count": null,
            "_view_module": "@jupyter-widgets/base",
            "_view_module_version": "1.2.0",
            "_view_name": "LayoutView",
            "align_content": null,
            "align_items": null,
            "align_self": null,
            "border": null,
            "bottom": null,
            "display": null,
            "flex": null,
            "flex_flow": null,
            "grid_area": null,
            "grid_auto_columns": null,
            "grid_auto_flow": null,
            "grid_auto_rows": null,
            "grid_column": null,
            "grid_gap": null,
            "grid_row": null,
            "grid_template_areas": null,
            "grid_template_columns": null,
            "grid_template_rows": null,
            "height": null,
            "justify_content": null,
            "justify_items": null,
            "left": null,
            "margin": null,
            "max_height": null,
            "max_width": null,
            "min_height": null,
            "min_width": null,
            "object_fit": null,
            "object_position": null,
            "order": null,
            "overflow": null,
            "overflow_x": null,
            "overflow_y": null,
            "padding": null,
            "right": null,
            "top": null,
            "visibility": null,
            "width": null
          }
        },
        "0510cb3cf71848c8885517fe2f202112": {
          "model_module": "@jupyter-widgets/controls",
          "model_name": "DescriptionStyleModel",
          "model_module_version": "1.5.0",
          "state": {
            "_model_module": "@jupyter-widgets/controls",
            "_model_module_version": "1.5.0",
            "_model_name": "DescriptionStyleModel",
            "_view_count": null,
            "_view_module": "@jupyter-widgets/base",
            "_view_module_version": "1.2.0",
            "_view_name": "StyleView",
            "description_width": ""
          }
        },
        "2517ff27c70546d68483808af4921ee9": {
          "model_module": "@jupyter-widgets/controls",
          "model_name": "HBoxModel",
          "model_module_version": "1.5.0",
          "state": {
            "_dom_classes": [],
            "_model_module": "@jupyter-widgets/controls",
            "_model_module_version": "1.5.0",
            "_model_name": "HBoxModel",
            "_view_count": null,
            "_view_module": "@jupyter-widgets/controls",
            "_view_module_version": "1.5.0",
            "_view_name": "HBoxView",
            "box_style": "",
            "children": [
              "IPY_MODEL_d48b0031b6f84b7dbc61bbfc39873ba1",
              "IPY_MODEL_324c5976c16f45e7822a84369b3bc15f",
              "IPY_MODEL_20520bc41d9347dd86bbe78a0139e9c8"
            ],
            "layout": "IPY_MODEL_976136d09507443bb867b6d274e1d292"
          }
        },
        "d48b0031b6f84b7dbc61bbfc39873ba1": {
          "model_module": "@jupyter-widgets/controls",
          "model_name": "HTMLModel",
          "model_module_version": "1.5.0",
          "state": {
            "_dom_classes": [],
            "_model_module": "@jupyter-widgets/controls",
            "_model_module_version": "1.5.0",
            "_model_name": "HTMLModel",
            "_view_count": null,
            "_view_module": "@jupyter-widgets/controls",
            "_view_module_version": "1.5.0",
            "_view_name": "HTMLView",
            "description": "",
            "description_tooltip": null,
            "layout": "IPY_MODEL_36748b389db34ffa856e8b5a3433587a",
            "placeholder": "​",
            "style": "IPY_MODEL_a6751f62f50f469180be966d1f2fb923",
            "value": "model.safetensors: 100%"
          }
        },
        "324c5976c16f45e7822a84369b3bc15f": {
          "model_module": "@jupyter-widgets/controls",
          "model_name": "FloatProgressModel",
          "model_module_version": "1.5.0",
          "state": {
            "_dom_classes": [],
            "_model_module": "@jupyter-widgets/controls",
            "_model_module_version": "1.5.0",
            "_model_name": "FloatProgressModel",
            "_view_count": null,
            "_view_module": "@jupyter-widgets/controls",
            "_view_module_version": "1.5.0",
            "_view_name": "ProgressView",
            "bar_style": "success",
            "description": "",
            "description_tooltip": null,
            "layout": "IPY_MODEL_6d95c3af9df6419bbd021d592b82f8b9",
            "max": 352824413,
            "min": 0,
            "orientation": "horizontal",
            "style": "IPY_MODEL_892b431265f14ce18ea053539bc36f27",
            "value": 352824413
          }
        },
        "20520bc41d9347dd86bbe78a0139e9c8": {
          "model_module": "@jupyter-widgets/controls",
          "model_name": "HTMLModel",
          "model_module_version": "1.5.0",
          "state": {
            "_dom_classes": [],
            "_model_module": "@jupyter-widgets/controls",
            "_model_module_version": "1.5.0",
            "_model_name": "HTMLModel",
            "_view_count": null,
            "_view_module": "@jupyter-widgets/controls",
            "_view_module_version": "1.5.0",
            "_view_name": "HTMLView",
            "description": "",
            "description_tooltip": null,
            "layout": "IPY_MODEL_d942dac90f594f34b857257709fe3e92",
            "placeholder": "​",
            "style": "IPY_MODEL_f5c7747794d743c0bd8fc185e9a107a5",
            "value": " 353M/353M [00:01&lt;00:00, 231MB/s]"
          }
        },
        "976136d09507443bb867b6d274e1d292": {
          "model_module": "@jupyter-widgets/base",
          "model_name": "LayoutModel",
          "model_module_version": "1.2.0",
          "state": {
            "_model_module": "@jupyter-widgets/base",
            "_model_module_version": "1.2.0",
            "_model_name": "LayoutModel",
            "_view_count": null,
            "_view_module": "@jupyter-widgets/base",
            "_view_module_version": "1.2.0",
            "_view_name": "LayoutView",
            "align_content": null,
            "align_items": null,
            "align_self": null,
            "border": null,
            "bottom": null,
            "display": null,
            "flex": null,
            "flex_flow": null,
            "grid_area": null,
            "grid_auto_columns": null,
            "grid_auto_flow": null,
            "grid_auto_rows": null,
            "grid_column": null,
            "grid_gap": null,
            "grid_row": null,
            "grid_template_areas": null,
            "grid_template_columns": null,
            "grid_template_rows": null,
            "height": null,
            "justify_content": null,
            "justify_items": null,
            "left": null,
            "margin": null,
            "max_height": null,
            "max_width": null,
            "min_height": null,
            "min_width": null,
            "object_fit": null,
            "object_position": null,
            "order": null,
            "overflow": null,
            "overflow_x": null,
            "overflow_y": null,
            "padding": null,
            "right": null,
            "top": null,
            "visibility": null,
            "width": null
          }
        },
        "36748b389db34ffa856e8b5a3433587a": {
          "model_module": "@jupyter-widgets/base",
          "model_name": "LayoutModel",
          "model_module_version": "1.2.0",
          "state": {
            "_model_module": "@jupyter-widgets/base",
            "_model_module_version": "1.2.0",
            "_model_name": "LayoutModel",
            "_view_count": null,
            "_view_module": "@jupyter-widgets/base",
            "_view_module_version": "1.2.0",
            "_view_name": "LayoutView",
            "align_content": null,
            "align_items": null,
            "align_self": null,
            "border": null,
            "bottom": null,
            "display": null,
            "flex": null,
            "flex_flow": null,
            "grid_area": null,
            "grid_auto_columns": null,
            "grid_auto_flow": null,
            "grid_auto_rows": null,
            "grid_column": null,
            "grid_gap": null,
            "grid_row": null,
            "grid_template_areas": null,
            "grid_template_columns": null,
            "grid_template_rows": null,
            "height": null,
            "justify_content": null,
            "justify_items": null,
            "left": null,
            "margin": null,
            "max_height": null,
            "max_width": null,
            "min_height": null,
            "min_width": null,
            "object_fit": null,
            "object_position": null,
            "order": null,
            "overflow": null,
            "overflow_x": null,
            "overflow_y": null,
            "padding": null,
            "right": null,
            "top": null,
            "visibility": null,
            "width": null
          }
        },
        "a6751f62f50f469180be966d1f2fb923": {
          "model_module": "@jupyter-widgets/controls",
          "model_name": "DescriptionStyleModel",
          "model_module_version": "1.5.0",
          "state": {
            "_model_module": "@jupyter-widgets/controls",
            "_model_module_version": "1.5.0",
            "_model_name": "DescriptionStyleModel",
            "_view_count": null,
            "_view_module": "@jupyter-widgets/base",
            "_view_module_version": "1.2.0",
            "_view_name": "StyleView",
            "description_width": ""
          }
        },
        "6d95c3af9df6419bbd021d592b82f8b9": {
          "model_module": "@jupyter-widgets/base",
          "model_name": "LayoutModel",
          "model_module_version": "1.2.0",
          "state": {
            "_model_module": "@jupyter-widgets/base",
            "_model_module_version": "1.2.0",
            "_model_name": "LayoutModel",
            "_view_count": null,
            "_view_module": "@jupyter-widgets/base",
            "_view_module_version": "1.2.0",
            "_view_name": "LayoutView",
            "align_content": null,
            "align_items": null,
            "align_self": null,
            "border": null,
            "bottom": null,
            "display": null,
            "flex": null,
            "flex_flow": null,
            "grid_area": null,
            "grid_auto_columns": null,
            "grid_auto_flow": null,
            "grid_auto_rows": null,
            "grid_column": null,
            "grid_gap": null,
            "grid_row": null,
            "grid_template_areas": null,
            "grid_template_columns": null,
            "grid_template_rows": null,
            "height": null,
            "justify_content": null,
            "justify_items": null,
            "left": null,
            "margin": null,
            "max_height": null,
            "max_width": null,
            "min_height": null,
            "min_width": null,
            "object_fit": null,
            "object_position": null,
            "order": null,
            "overflow": null,
            "overflow_x": null,
            "overflow_y": null,
            "padding": null,
            "right": null,
            "top": null,
            "visibility": null,
            "width": null
          }
        },
        "892b431265f14ce18ea053539bc36f27": {
          "model_module": "@jupyter-widgets/controls",
          "model_name": "ProgressStyleModel",
          "model_module_version": "1.5.0",
          "state": {
            "_model_module": "@jupyter-widgets/controls",
            "_model_module_version": "1.5.0",
            "_model_name": "ProgressStyleModel",
            "_view_count": null,
            "_view_module": "@jupyter-widgets/base",
            "_view_module_version": "1.2.0",
            "_view_name": "StyleView",
            "bar_color": null,
            "description_width": ""
          }
        },
        "d942dac90f594f34b857257709fe3e92": {
          "model_module": "@jupyter-widgets/base",
          "model_name": "LayoutModel",
          "model_module_version": "1.2.0",
          "state": {
            "_model_module": "@jupyter-widgets/base",
            "_model_module_version": "1.2.0",
            "_model_name": "LayoutModel",
            "_view_count": null,
            "_view_module": "@jupyter-widgets/base",
            "_view_module_version": "1.2.0",
            "_view_name": "LayoutView",
            "align_content": null,
            "align_items": null,
            "align_self": null,
            "border": null,
            "bottom": null,
            "display": null,
            "flex": null,
            "flex_flow": null,
            "grid_area": null,
            "grid_auto_columns": null,
            "grid_auto_flow": null,
            "grid_auto_rows": null,
            "grid_column": null,
            "grid_gap": null,
            "grid_row": null,
            "grid_template_areas": null,
            "grid_template_columns": null,
            "grid_template_rows": null,
            "height": null,
            "justify_content": null,
            "justify_items": null,
            "left": null,
            "margin": null,
            "max_height": null,
            "max_width": null,
            "min_height": null,
            "min_width": null,
            "object_fit": null,
            "object_position": null,
            "order": null,
            "overflow": null,
            "overflow_x": null,
            "overflow_y": null,
            "padding": null,
            "right": null,
            "top": null,
            "visibility": null,
            "width": null
          }
        },
        "f5c7747794d743c0bd8fc185e9a107a5": {
          "model_module": "@jupyter-widgets/controls",
          "model_name": "DescriptionStyleModel",
          "model_module_version": "1.5.0",
          "state": {
            "_model_module": "@jupyter-widgets/controls",
            "_model_module_version": "1.5.0",
            "_model_name": "DescriptionStyleModel",
            "_view_count": null,
            "_view_module": "@jupyter-widgets/base",
            "_view_module_version": "1.2.0",
            "_view_name": "StyleView",
            "description_width": ""
          }
        },
        "0880697df226459183708c7d14de11fe": {
          "model_module": "@jupyter-widgets/controls",
          "model_name": "HBoxModel",
          "model_module_version": "1.5.0",
          "state": {
            "_dom_classes": [],
            "_model_module": "@jupyter-widgets/controls",
            "_model_module_version": "1.5.0",
            "_model_name": "HBoxModel",
            "_view_count": null,
            "_view_module": "@jupyter-widgets/controls",
            "_view_module_version": "1.5.0",
            "_view_name": "HBoxView",
            "box_style": "",
            "children": [
              "IPY_MODEL_0b4cb17b57ba49bf903c1df752ae96af",
              "IPY_MODEL_b4a93ab8dc2e4567a01b7409c5cba4d3",
              "IPY_MODEL_6bef70979d064e69b0d770dc8357f802"
            ],
            "layout": "IPY_MODEL_b94683b2af7a49c6b2de556b81ff5dc8"
          }
        },
        "0b4cb17b57ba49bf903c1df752ae96af": {
          "model_module": "@jupyter-widgets/controls",
          "model_name": "HTMLModel",
          "model_module_version": "1.5.0",
          "state": {
            "_dom_classes": [],
            "_model_module": "@jupyter-widgets/controls",
            "_model_module_version": "1.5.0",
            "_model_name": "HTMLModel",
            "_view_count": null,
            "_view_module": "@jupyter-widgets/controls",
            "_view_module_version": "1.5.0",
            "_view_name": "HTMLView",
            "description": "",
            "description_tooltip": null,
            "layout": "IPY_MODEL_6431ec062ea142d5aa8b39546daaf7be",
            "placeholder": "​",
            "style": "IPY_MODEL_fce189caf1934f7086e3f90c826e32da",
            "value": "generation_config.json: 100%"
          }
        },
        "b4a93ab8dc2e4567a01b7409c5cba4d3": {
          "model_module": "@jupyter-widgets/controls",
          "model_name": "FloatProgressModel",
          "model_module_version": "1.5.0",
          "state": {
            "_dom_classes": [],
            "_model_module": "@jupyter-widgets/controls",
            "_model_module_version": "1.5.0",
            "_model_name": "FloatProgressModel",
            "_view_count": null,
            "_view_module": "@jupyter-widgets/controls",
            "_view_module_version": "1.5.0",
            "_view_name": "ProgressView",
            "bar_style": "success",
            "description": "",
            "description_tooltip": null,
            "layout": "IPY_MODEL_1064e60d071247bea37590c40aab47f9",
            "max": 124,
            "min": 0,
            "orientation": "horizontal",
            "style": "IPY_MODEL_5d77c3285d6046b5add11f69f0a90b79",
            "value": 124
          }
        },
        "6bef70979d064e69b0d770dc8357f802": {
          "model_module": "@jupyter-widgets/controls",
          "model_name": "HTMLModel",
          "model_module_version": "1.5.0",
          "state": {
            "_dom_classes": [],
            "_model_module": "@jupyter-widgets/controls",
            "_model_module_version": "1.5.0",
            "_model_name": "HTMLModel",
            "_view_count": null,
            "_view_module": "@jupyter-widgets/controls",
            "_view_module_version": "1.5.0",
            "_view_name": "HTMLView",
            "description": "",
            "description_tooltip": null,
            "layout": "IPY_MODEL_4d1184a7d67c47b799737d2e0691406e",
            "placeholder": "​",
            "style": "IPY_MODEL_438222117c104fe1a8406055729f62b0",
            "value": " 124/124 [00:00&lt;00:00, 6.79kB/s]"
          }
        },
        "b94683b2af7a49c6b2de556b81ff5dc8": {
          "model_module": "@jupyter-widgets/base",
          "model_name": "LayoutModel",
          "model_module_version": "1.2.0",
          "state": {
            "_model_module": "@jupyter-widgets/base",
            "_model_module_version": "1.2.0",
            "_model_name": "LayoutModel",
            "_view_count": null,
            "_view_module": "@jupyter-widgets/base",
            "_view_module_version": "1.2.0",
            "_view_name": "LayoutView",
            "align_content": null,
            "align_items": null,
            "align_self": null,
            "border": null,
            "bottom": null,
            "display": null,
            "flex": null,
            "flex_flow": null,
            "grid_area": null,
            "grid_auto_columns": null,
            "grid_auto_flow": null,
            "grid_auto_rows": null,
            "grid_column": null,
            "grid_gap": null,
            "grid_row": null,
            "grid_template_areas": null,
            "grid_template_columns": null,
            "grid_template_rows": null,
            "height": null,
            "justify_content": null,
            "justify_items": null,
            "left": null,
            "margin": null,
            "max_height": null,
            "max_width": null,
            "min_height": null,
            "min_width": null,
            "object_fit": null,
            "object_position": null,
            "order": null,
            "overflow": null,
            "overflow_x": null,
            "overflow_y": null,
            "padding": null,
            "right": null,
            "top": null,
            "visibility": null,
            "width": null
          }
        },
        "6431ec062ea142d5aa8b39546daaf7be": {
          "model_module": "@jupyter-widgets/base",
          "model_name": "LayoutModel",
          "model_module_version": "1.2.0",
          "state": {
            "_model_module": "@jupyter-widgets/base",
            "_model_module_version": "1.2.0",
            "_model_name": "LayoutModel",
            "_view_count": null,
            "_view_module": "@jupyter-widgets/base",
            "_view_module_version": "1.2.0",
            "_view_name": "LayoutView",
            "align_content": null,
            "align_items": null,
            "align_self": null,
            "border": null,
            "bottom": null,
            "display": null,
            "flex": null,
            "flex_flow": null,
            "grid_area": null,
            "grid_auto_columns": null,
            "grid_auto_flow": null,
            "grid_auto_rows": null,
            "grid_column": null,
            "grid_gap": null,
            "grid_row": null,
            "grid_template_areas": null,
            "grid_template_columns": null,
            "grid_template_rows": null,
            "height": null,
            "justify_content": null,
            "justify_items": null,
            "left": null,
            "margin": null,
            "max_height": null,
            "max_width": null,
            "min_height": null,
            "min_width": null,
            "object_fit": null,
            "object_position": null,
            "order": null,
            "overflow": null,
            "overflow_x": null,
            "overflow_y": null,
            "padding": null,
            "right": null,
            "top": null,
            "visibility": null,
            "width": null
          }
        },
        "fce189caf1934f7086e3f90c826e32da": {
          "model_module": "@jupyter-widgets/controls",
          "model_name": "DescriptionStyleModel",
          "model_module_version": "1.5.0",
          "state": {
            "_model_module": "@jupyter-widgets/controls",
            "_model_module_version": "1.5.0",
            "_model_name": "DescriptionStyleModel",
            "_view_count": null,
            "_view_module": "@jupyter-widgets/base",
            "_view_module_version": "1.2.0",
            "_view_name": "StyleView",
            "description_width": ""
          }
        },
        "1064e60d071247bea37590c40aab47f9": {
          "model_module": "@jupyter-widgets/base",
          "model_name": "LayoutModel",
          "model_module_version": "1.2.0",
          "state": {
            "_model_module": "@jupyter-widgets/base",
            "_model_module_version": "1.2.0",
            "_model_name": "LayoutModel",
            "_view_count": null,
            "_view_module": "@jupyter-widgets/base",
            "_view_module_version": "1.2.0",
            "_view_name": "LayoutView",
            "align_content": null,
            "align_items": null,
            "align_self": null,
            "border": null,
            "bottom": null,
            "display": null,
            "flex": null,
            "flex_flow": null,
            "grid_area": null,
            "grid_auto_columns": null,
            "grid_auto_flow": null,
            "grid_auto_rows": null,
            "grid_column": null,
            "grid_gap": null,
            "grid_row": null,
            "grid_template_areas": null,
            "grid_template_columns": null,
            "grid_template_rows": null,
            "height": null,
            "justify_content": null,
            "justify_items": null,
            "left": null,
            "margin": null,
            "max_height": null,
            "max_width": null,
            "min_height": null,
            "min_width": null,
            "object_fit": null,
            "object_position": null,
            "order": null,
            "overflow": null,
            "overflow_x": null,
            "overflow_y": null,
            "padding": null,
            "right": null,
            "top": null,
            "visibility": null,
            "width": null
          }
        },
        "5d77c3285d6046b5add11f69f0a90b79": {
          "model_module": "@jupyter-widgets/controls",
          "model_name": "ProgressStyleModel",
          "model_module_version": "1.5.0",
          "state": {
            "_model_module": "@jupyter-widgets/controls",
            "_model_module_version": "1.5.0",
            "_model_name": "ProgressStyleModel",
            "_view_count": null,
            "_view_module": "@jupyter-widgets/base",
            "_view_module_version": "1.2.0",
            "_view_name": "StyleView",
            "bar_color": null,
            "description_width": ""
          }
        },
        "4d1184a7d67c47b799737d2e0691406e": {
          "model_module": "@jupyter-widgets/base",
          "model_name": "LayoutModel",
          "model_module_version": "1.2.0",
          "state": {
            "_model_module": "@jupyter-widgets/base",
            "_model_module_version": "1.2.0",
            "_model_name": "LayoutModel",
            "_view_count": null,
            "_view_module": "@jupyter-widgets/base",
            "_view_module_version": "1.2.0",
            "_view_name": "LayoutView",
            "align_content": null,
            "align_items": null,
            "align_self": null,
            "border": null,
            "bottom": null,
            "display": null,
            "flex": null,
            "flex_flow": null,
            "grid_area": null,
            "grid_auto_columns": null,
            "grid_auto_flow": null,
            "grid_auto_rows": null,
            "grid_column": null,
            "grid_gap": null,
            "grid_row": null,
            "grid_template_areas": null,
            "grid_template_columns": null,
            "grid_template_rows": null,
            "height": null,
            "justify_content": null,
            "justify_items": null,
            "left": null,
            "margin": null,
            "max_height": null,
            "max_width": null,
            "min_height": null,
            "min_width": null,
            "object_fit": null,
            "object_position": null,
            "order": null,
            "overflow": null,
            "overflow_x": null,
            "overflow_y": null,
            "padding": null,
            "right": null,
            "top": null,
            "visibility": null,
            "width": null
          }
        },
        "438222117c104fe1a8406055729f62b0": {
          "model_module": "@jupyter-widgets/controls",
          "model_name": "DescriptionStyleModel",
          "model_module_version": "1.5.0",
          "state": {
            "_model_module": "@jupyter-widgets/controls",
            "_model_module_version": "1.5.0",
            "_model_name": "DescriptionStyleModel",
            "_view_count": null,
            "_view_module": "@jupyter-widgets/base",
            "_view_module_version": "1.2.0",
            "_view_name": "StyleView",
            "description_width": ""
          }
        }
      }
    },
    "accelerator": "GPU"
  },
  "cells": [
    {
      "cell_type": "markdown",
      "source": [
        "# Assignment 3\n",
        "## Part 2: LLM Interpretability\n",
        "\n",
        "For the second part of Assignment 3, we'll be working with a fork of an LLM intepretability library called [`ecco`](https://ecco.readthedocs.io/) `ecco` provides visualizations of common LLM interpretability techniques such asinput saliency methods, which score input by their importance to generating a token.\n",
        "\n",
        "NOTE: You do **not** have to run the cells in this notebook and in fact it's better that you don't run them since the output referred to in each question will likely change. The information needed to answer each question is given in the `ecco` visualizations.\n"
      ],
      "metadata": {
        "id": "JgLe0LheVLH_"
      }
    },
    {
      "cell_type": "code",
      "metadata": {
        "id": "CLDsAru2N0lr",
        "colab": {
          "base_uri": "https://localhost:8080/"
        },
        "outputId": "7dcd6919-3240-4108-c691-4774c1d9226c"
      },
      "source": [
        "!pip install git+https://github.com/adam-faulkner/ecco.git"
      ],
      "execution_count": null,
      "outputs": [
        {
          "output_type": "stream",
          "name": "stdout",
          "text": [
            "Collecting git+https://github.com/adam-faulkner/ecco.git\n",
            "  Cloning https://github.com/adam-faulkner/ecco.git to /tmp/pip-req-build-kn7547ks\n",
            "  Running command git clone --filter=blob:none --quiet https://github.com/adam-faulkner/ecco.git /tmp/pip-req-build-kn7547ks\n",
            "  Resolved https://github.com/adam-faulkner/ecco.git to commit b83306e29b1d22e679219db9907960ae7ebb101d\n",
            "  Preparing metadata (setup.py) ... \u001b[?25l\u001b[?25hdone\n",
            "Requirement already satisfied: transformers~=4.2 in /usr/local/lib/python3.10/dist-packages (from ecco==0.1.2) (4.46.2)\n",
            "Requirement already satisfied: seaborn>=0.11 in /usr/local/lib/python3.10/dist-packages (from ecco==0.1.2) (0.13.2)\n",
            "Requirement already satisfied: scikit-learn<2,>=0.23 in /usr/local/lib/python3.10/dist-packages (from ecco==0.1.2) (1.5.2)\n",
            "Requirement already satisfied: PyYAML>=6.0 in /usr/local/lib/python3.10/dist-packages (from ecco==0.1.2) (6.0.2)\n",
            "Collecting captum~=0.4 (from ecco==0.1.2)\n",
            "  Downloading captum-0.7.0-py3-none-any.whl.metadata (26 kB)\n",
            "Requirement already satisfied: matplotlib in /usr/local/lib/python3.10/dist-packages (from captum~=0.4->ecco==0.1.2) (3.8.0)\n",
            "Requirement already satisfied: numpy in /usr/local/lib/python3.10/dist-packages (from captum~=0.4->ecco==0.1.2) (1.26.4)\n",
            "Requirement already satisfied: torch>=1.6 in /usr/local/lib/python3.10/dist-packages (from captum~=0.4->ecco==0.1.2) (2.5.1+cu121)\n",
            "Requirement already satisfied: tqdm in /usr/local/lib/python3.10/dist-packages (from captum~=0.4->ecco==0.1.2) (4.66.6)\n",
            "Requirement already satisfied: scipy>=1.6.0 in /usr/local/lib/python3.10/dist-packages (from scikit-learn<2,>=0.23->ecco==0.1.2) (1.13.1)\n",
            "Requirement already satisfied: joblib>=1.2.0 in /usr/local/lib/python3.10/dist-packages (from scikit-learn<2,>=0.23->ecco==0.1.2) (1.4.2)\n",
            "Requirement already satisfied: threadpoolctl>=3.1.0 in /usr/local/lib/python3.10/dist-packages (from scikit-learn<2,>=0.23->ecco==0.1.2) (3.5.0)\n",
            "Requirement already satisfied: pandas>=1.2 in /usr/local/lib/python3.10/dist-packages (from seaborn>=0.11->ecco==0.1.2) (2.2.2)\n",
            "Requirement already satisfied: filelock in /usr/local/lib/python3.10/dist-packages (from transformers~=4.2->ecco==0.1.2) (3.16.1)\n",
            "Requirement already satisfied: huggingface-hub<1.0,>=0.23.2 in /usr/local/lib/python3.10/dist-packages (from transformers~=4.2->ecco==0.1.2) (0.26.2)\n",
            "Requirement already satisfied: packaging>=20.0 in /usr/local/lib/python3.10/dist-packages (from transformers~=4.2->ecco==0.1.2) (24.2)\n",
            "Requirement already satisfied: regex!=2019.12.17 in /usr/local/lib/python3.10/dist-packages (from transformers~=4.2->ecco==0.1.2) (2024.9.11)\n",
            "Requirement already satisfied: requests in /usr/local/lib/python3.10/dist-packages (from transformers~=4.2->ecco==0.1.2) (2.32.3)\n",
            "Requirement already satisfied: safetensors>=0.4.1 in /usr/local/lib/python3.10/dist-packages (from transformers~=4.2->ecco==0.1.2) (0.4.5)\n",
            "Requirement already satisfied: tokenizers<0.21,>=0.20 in /usr/local/lib/python3.10/dist-packages (from transformers~=4.2->ecco==0.1.2) (0.20.3)\n",
            "Requirement already satisfied: fsspec>=2023.5.0 in /usr/local/lib/python3.10/dist-packages (from huggingface-hub<1.0,>=0.23.2->transformers~=4.2->ecco==0.1.2) (2024.10.0)\n",
            "Requirement already satisfied: typing-extensions>=3.7.4.3 in /usr/local/lib/python3.10/dist-packages (from huggingface-hub<1.0,>=0.23.2->transformers~=4.2->ecco==0.1.2) (4.12.2)\n",
            "Requirement already satisfied: contourpy>=1.0.1 in /usr/local/lib/python3.10/dist-packages (from matplotlib->captum~=0.4->ecco==0.1.2) (1.3.1)\n",
            "Requirement already satisfied: cycler>=0.10 in /usr/local/lib/python3.10/dist-packages (from matplotlib->captum~=0.4->ecco==0.1.2) (0.12.1)\n",
            "Requirement already satisfied: fonttools>=4.22.0 in /usr/local/lib/python3.10/dist-packages (from matplotlib->captum~=0.4->ecco==0.1.2) (4.54.1)\n",
            "Requirement already satisfied: kiwisolver>=1.0.1 in /usr/local/lib/python3.10/dist-packages (from matplotlib->captum~=0.4->ecco==0.1.2) (1.4.7)\n",
            "Requirement already satisfied: pillow>=6.2.0 in /usr/local/lib/python3.10/dist-packages (from matplotlib->captum~=0.4->ecco==0.1.2) (11.0.0)\n",
            "Requirement already satisfied: pyparsing>=2.3.1 in /usr/local/lib/python3.10/dist-packages (from matplotlib->captum~=0.4->ecco==0.1.2) (3.2.0)\n",
            "Requirement already satisfied: python-dateutil>=2.7 in /usr/local/lib/python3.10/dist-packages (from matplotlib->captum~=0.4->ecco==0.1.2) (2.8.2)\n",
            "Requirement already satisfied: pytz>=2020.1 in /usr/local/lib/python3.10/dist-packages (from pandas>=1.2->seaborn>=0.11->ecco==0.1.2) (2024.2)\n",
            "Requirement already satisfied: tzdata>=2022.7 in /usr/local/lib/python3.10/dist-packages (from pandas>=1.2->seaborn>=0.11->ecco==0.1.2) (2024.2)\n",
            "Requirement already satisfied: networkx in /usr/local/lib/python3.10/dist-packages (from torch>=1.6->captum~=0.4->ecco==0.1.2) (3.4.2)\n",
            "Requirement already satisfied: jinja2 in /usr/local/lib/python3.10/dist-packages (from torch>=1.6->captum~=0.4->ecco==0.1.2) (3.1.4)\n",
            "Requirement already satisfied: sympy==1.13.1 in /usr/local/lib/python3.10/dist-packages (from torch>=1.6->captum~=0.4->ecco==0.1.2) (1.13.1)\n",
            "Requirement already satisfied: mpmath<1.4,>=1.1.0 in /usr/local/lib/python3.10/dist-packages (from sympy==1.13.1->torch>=1.6->captum~=0.4->ecco==0.1.2) (1.3.0)\n",
            "Requirement already satisfied: charset-normalizer<4,>=2 in /usr/local/lib/python3.10/dist-packages (from requests->transformers~=4.2->ecco==0.1.2) (3.4.0)\n",
            "Requirement already satisfied: idna<4,>=2.5 in /usr/local/lib/python3.10/dist-packages (from requests->transformers~=4.2->ecco==0.1.2) (3.10)\n",
            "Requirement already satisfied: urllib3<3,>=1.21.1 in /usr/local/lib/python3.10/dist-packages (from requests->transformers~=4.2->ecco==0.1.2) (2.2.3)\n",
            "Requirement already satisfied: certifi>=2017.4.17 in /usr/local/lib/python3.10/dist-packages (from requests->transformers~=4.2->ecco==0.1.2) (2024.8.30)\n",
            "Requirement already satisfied: six>=1.5 in /usr/local/lib/python3.10/dist-packages (from python-dateutil>=2.7->matplotlib->captum~=0.4->ecco==0.1.2) (1.16.0)\n",
            "Requirement already satisfied: MarkupSafe>=2.0 in /usr/local/lib/python3.10/dist-packages (from jinja2->torch>=1.6->captum~=0.4->ecco==0.1.2) (3.0.2)\n",
            "Downloading captum-0.7.0-py3-none-any.whl (1.3 MB)\n",
            "\u001b[2K   \u001b[90m━━━━━━━━━━━━━━━━━━━━━━━━━━━━━━━━━━━━━━━━\u001b[0m \u001b[32m1.3/1.3 MB\u001b[0m \u001b[31m11.1 MB/s\u001b[0m eta \u001b[36m0:00:00\u001b[0m\n",
            "\u001b[?25hBuilding wheels for collected packages: ecco\n",
            "  Building wheel for ecco (setup.py) ... \u001b[?25l\u001b[?25hdone\n",
            "  Created wheel for ecco: filename=ecco-0.1.2-py2.py3-none-any.whl size=70729 sha256=00549097a34a624fdd380d3183a0cab9c8f988243339f1aef4f0cb2090f859c2\n",
            "  Stored in directory: /tmp/pip-ephem-wheel-cache-83tu9n1z/wheels/f8/8e/34/9b07b94f5dac1a84ed99b557b6a766be4f7a1493ad078dae7b\n",
            "Successfully built ecco\n",
            "Installing collected packages: captum, ecco\n",
            "Successfully installed captum-0.7.0 ecco-0.1.2\n"
          ]
        }
      ]
    },
    {
      "cell_type": "code",
      "metadata": {
        "id": "sknc5dj3N1LS",
        "colab": {
          "base_uri": "https://localhost:8080/",
          "height": 296,
          "referenced_widgets": [
            "f04cab85805a4001b76edda87666e37d",
            "89785149889244a9b31929ae39f04dfc",
            "d1f58bb18a2542c9b9533c41b44965fe",
            "73f27a48270343a9811c251514f90d08",
            "ba6a7dc569e24466a245b1375b35f8e4",
            "6d27c021154e4e87a7b1bf55f090073b",
            "b27128e7a0664ffe883b45c70199f3ed",
            "403b8b6abfcc4bce9c27ce59ae7b5b41",
            "2b6acd9b9e814239bb0097abfb5d45ee",
            "0e8577210ffc4cbaaec63fcff235ff82",
            "58baa5a8e0cc415a824525f1287921c4",
            "b9c676c6de534aef8517a3edc506768f",
            "62df90a804bd4648aa857901998b9025",
            "bb8fc78e930c4bd5a7ab38ad0621d662",
            "0d53f86bcb0c4cd18dff49cb8076aabd",
            "136cff28510a414c890072d25f8fe834",
            "6bd45763900e43638d8e0e83be37fa5d",
            "1f2ea6ebbe584f6885813329cc5e4003",
            "e6f47ea4aa114f31a8ae8e136fa67afc",
            "494708b2d5a9454c9879da7f88fe307f",
            "72a5fdc6db1b4486b0dc8acf05bf8c1c",
            "89c975bc0f604aa88668a2162bbaac10",
            "b49052f85a1a4b3f926b78aadfa4c842",
            "d4acfd26534542c1b671d68d755dfa0a",
            "876663484fb645dc8bc0f6eabb41f983",
            "4479e6f5e4af4af0912a36ffcb1101c8",
            "25c9859b7940463bbceb876db7468a87",
            "9b7aa2f5dd744a278879ac7664ff8566",
            "db8cec5f259d4fdcab79e4329d05ec5a",
            "efffa3641abf44f396c0cb14555491da",
            "3aed3e8c1be04f2daeaea75cee03c88c",
            "a959f990bae8494ba76ba341df4b223b",
            "74f4110bc9a34ade91695c9f6aaf6204",
            "5c93c9bfd3b94ac1b8bcdb08c0b5da6b",
            "4af44aabce1b42cfaaf51d0e0f7518a1",
            "28aa272e9ff34cc9967bbd6f3f53587a",
            "b209b8caad4e4c2ba6368033c2ae2cc4",
            "f841563a83084bb696047031e54f0d72",
            "f4b8cbd8b96a40ac82807a593e6e6ac9",
            "391f3bbf1ece4fc6904ca524d7813888",
            "d4d71eca753e4a9b94305efd75c7aa4f",
            "4746484ff39e4e5da71b851cb6f0b616",
            "3c6a69acfc334dfcb50b8c2765fa71ba",
            "53e74a7c1ba14933958ad1c85e67b2ec",
            "8dc2e08753704961a163de3869954391",
            "c00d670d3f0b49ce99618e5c0f004e69",
            "4fe3d5dea1e84fe18ffddb69e812c64b",
            "87bc8786cb56410ea9f9a9d48f1861e5",
            "2a68f6c6a76a4e7a92561bc7b61bb976",
            "2a81e8dd0ab64e6c9488a92837a770a2",
            "056a5e671cba4b7cb0f66465abe06fdf",
            "5b8cdb603094469d9655704a61cccdf5",
            "ea7ae9c0b2bc4882a62efe7db7d10a3b",
            "a90263a3de9047568c5b46d0d823c5c5",
            "0510cb3cf71848c8885517fe2f202112",
            "2517ff27c70546d68483808af4921ee9",
            "d48b0031b6f84b7dbc61bbfc39873ba1",
            "324c5976c16f45e7822a84369b3bc15f",
            "20520bc41d9347dd86bbe78a0139e9c8",
            "976136d09507443bb867b6d274e1d292",
            "36748b389db34ffa856e8b5a3433587a",
            "a6751f62f50f469180be966d1f2fb923",
            "6d95c3af9df6419bbd021d592b82f8b9",
            "892b431265f14ce18ea053539bc36f27",
            "d942dac90f594f34b857257709fe3e92",
            "f5c7747794d743c0bd8fc185e9a107a5",
            "0880697df226459183708c7d14de11fe",
            "0b4cb17b57ba49bf903c1df752ae96af",
            "b4a93ab8dc2e4567a01b7409c5cba4d3",
            "6bef70979d064e69b0d770dc8357f802",
            "b94683b2af7a49c6b2de556b81ff5dc8",
            "6431ec062ea142d5aa8b39546daaf7be",
            "fce189caf1934f7086e3f90c826e32da",
            "1064e60d071247bea37590c40aab47f9",
            "5d77c3285d6046b5add11f69f0a90b79",
            "4d1184a7d67c47b799737d2e0691406e",
            "438222117c104fe1a8406055729f62b0"
          ]
        },
        "outputId": "ec01be6c-9e98-4369-cd21-3aaecd5ae2c2"
      },
      "source": [
        "import ecco\n",
        "lm = ecco.from_pretrained('distilgpt2', activations=True)"
      ],
      "execution_count": null,
      "outputs": [
        {
          "output_type": "display_data",
          "data": {
            "text/plain": [
              "tokenizer_config.json:   0%|          | 0.00/26.0 [00:00<?, ?B/s]"
            ],
            "application/vnd.jupyter.widget-view+json": {
              "version_major": 2,
              "version_minor": 0,
              "model_id": "f04cab85805a4001b76edda87666e37d"
            }
          },
          "metadata": {}
        },
        {
          "output_type": "display_data",
          "data": {
            "text/plain": [
              "config.json:   0%|          | 0.00/762 [00:00<?, ?B/s]"
            ],
            "application/vnd.jupyter.widget-view+json": {
              "version_major": 2,
              "version_minor": 0,
              "model_id": "b9c676c6de534aef8517a3edc506768f"
            }
          },
          "metadata": {}
        },
        {
          "output_type": "display_data",
          "data": {
            "text/plain": [
              "vocab.json:   0%|          | 0.00/1.04M [00:00<?, ?B/s]"
            ],
            "application/vnd.jupyter.widget-view+json": {
              "version_major": 2,
              "version_minor": 0,
              "model_id": "b49052f85a1a4b3f926b78aadfa4c842"
            }
          },
          "metadata": {}
        },
        {
          "output_type": "display_data",
          "data": {
            "text/plain": [
              "merges.txt:   0%|          | 0.00/456k [00:00<?, ?B/s]"
            ],
            "application/vnd.jupyter.widget-view+json": {
              "version_major": 2,
              "version_minor": 0,
              "model_id": "5c93c9bfd3b94ac1b8bcdb08c0b5da6b"
            }
          },
          "metadata": {}
        },
        {
          "output_type": "display_data",
          "data": {
            "text/plain": [
              "tokenizer.json:   0%|          | 0.00/1.36M [00:00<?, ?B/s]"
            ],
            "application/vnd.jupyter.widget-view+json": {
              "version_major": 2,
              "version_minor": 0,
              "model_id": "8dc2e08753704961a163de3869954391"
            }
          },
          "metadata": {}
        },
        {
          "output_type": "display_data",
          "data": {
            "text/plain": [
              "model.safetensors:   0%|          | 0.00/353M [00:00<?, ?B/s]"
            ],
            "application/vnd.jupyter.widget-view+json": {
              "version_major": 2,
              "version_minor": 0,
              "model_id": "2517ff27c70546d68483808af4921ee9"
            }
          },
          "metadata": {}
        },
        {
          "output_type": "stream",
          "name": "stderr",
          "text": [
            "/usr/local/lib/python3.10/dist-packages/transformers/generation/configuration_utils.py:774: UserWarning: `return_dict_in_generate` is NOT set to `True`, but `output_hidden_states` is. When `return_dict_in_generate` is not `True`, `output_hidden_states` is ignored.\n",
            "  warnings.warn(\n"
          ]
        },
        {
          "output_type": "display_data",
          "data": {
            "text/plain": [
              "generation_config.json:   0%|          | 0.00/124 [00:00<?, ?B/s]"
            ],
            "application/vnd.jupyter.widget-view+json": {
              "version_major": 2,
              "version_minor": 0,
              "model_id": "0880697df226459183708c7d14de11fe"
            }
          },
          "metadata": {}
        }
      ]
    },
    {
      "cell_type": "markdown",
      "source": [
        "### Question 1\n",
        "For this question, we'll be prompting GPT2 to generate a list of countries that fit the following criteria: they are currently members of the UN and they participated in World War 2.\n",
        "\n",
        "We give the model the sentence \"The countries that are currently members of the UN and also participated in World War 2 are:\\n1. Britain\\n2. Germany\\n3.\" and expect GPT2 to complete this list with additional countries.\n",
        "\n",
        "`ecco` indicates the first token output by the model with a red >>>.  All of the tokens following this indicator were generated by the model.\n"
      ],
      "metadata": {
        "id": "cQP3zF7XY0zB"
      }
    },
    {
      "cell_type": "code",
      "metadata": {
        "id": "7LQfXD3eOWxl",
        "colab": {
          "base_uri": "https://localhost:8080/",
          "height": 491
        },
        "outputId": "2f7c68d4-911e-4ea9-ec39-53b309cc046f"
      },
      "source": [
        "text= \"The countries that are currently members of the UN and also participated in World War 2 are:\\n1. Britain\\n2. Germany\\n3.\"\n",
        "output = lm.generate(text, generate=50, do_sample=True, attribution=['ig', 'grad_x_input'], output_hidden_states=True)"
      ],
      "execution_count": null,
      "outputs": [
        {
          "output_type": "display_data",
          "data": {
            "text/plain": [
              "<IPython.core.display.HTML object>"
            ],
            "text/html": [
              "<html lang=\"en\">\n",
              "<script src=\"https://requirejs.org/docs/release/2.3.6/minified/require.js\"></script>\n",
              "<script>\n",
              "    var ecco_url = 'https://storage.googleapis.com/ml-intro/ecco/'\n",
              "    //var ecco_url = 'http://localhost:8000/'\n",
              "\n",
              "    if (window.ecco === undefined) window.ecco = {}\n",
              "\n",
              "    // Setup the paths of the script we'll be using\n",
              "    requirejs.config({\n",
              "        urlArgs: \"bust=\" + (new Date()).getTime(),\n",
              "        nodeRequire: require,\n",
              "        paths: {\n",
              "            d3: \"https://d3js.org/d3.v6.min\", // This is only for use in setup.html and basic.html\n",
              "            \"d3-array\": \"https://d3js.org/d3-array.v2.min\",\n",
              "            jquery: \"https://code.jquery.com/jquery-3.5.1.min\",\n",
              "            ecco: ecco_url + 'js/0.0.6/ecco-bundle.min',\n",
              "            xregexp: 'https://cdnjs.cloudflare.com/ajax/libs/xregexp/3.2.0/xregexp-all.min'\n",
              "        }\n",
              "    });\n",
              "\n",
              "    // Add the css file\n",
              "    //requirejs(['d3'],\n",
              "    //    function (d3) {\n",
              "    //        d3.select('#css').attr('href', ecco_url + 'html/styles.css')\n",
              "    //    })\n",
              "\n",
              "    console.log('Ecco initialize!!')\n",
              "\n",
              "    // returns a 'basic' object. basic.init() selects the html div we'll be\n",
              "    // rendering the html into, adds styles.css to the document.\n",
              "    define('basic', ['d3'],\n",
              "        function (d3) {\n",
              "            return {\n",
              "                init: function (viz_id = null) {\n",
              "                    if (viz_id == null) {\n",
              "                        viz_id = \"viz_\" + Math.round(Math.random() * 10000000)\n",
              "                    }\n",
              "                    // Select the div rendered below, change its id\n",
              "                    const div = d3.select('#basic').attr('id', viz_id),\n",
              "                        div_parent = d3.select('#' + viz_id).node().parentNode\n",
              "\n",
              "                    // Link to CSS file\n",
              "                    d3.select(div_parent).insert('link')\n",
              "                        .attr('rel', 'stylesheet')\n",
              "                        .attr('type', 'text/css')\n",
              "                        .attr('href', ecco_url + 'html/0.0.2/styles.css')\n",
              "\n",
              "                    return viz_id\n",
              "                }\n",
              "            }\n",
              "        }, function (err) {\n",
              "            console.log(err);\n",
              "        }\n",
              "    )\n",
              "</script>\n",
              "\n",
              "<head>\n",
              "    <link id='css' rel=\"stylesheet\" type=\"text/css\">\n",
              "</head>\n",
              "<div id=\"basic\"></div>\n"
            ]
          },
          "metadata": {}
        },
        {
          "output_type": "display_data",
          "data": {
            "text/plain": [
              "<IPython.core.display.Javascript object>"
            ],
            "application/javascript": [
              "\n",
              "         requirejs( ['basic', 'ecco'], function(basic, ecco){\n",
              "            basic.init('viz_8168') // Python needs to know the viz id. Used for each output token.\n",
              "            window.ecco['viz_8168'] = new ecco.renderOutputSequence({\n",
              "                    parentDiv: 'viz_8168',\n",
              "                    data: {\"tokens\": [{\"token\": \"The\", \"is_partial\": true, \"position\": 0, \"token_id\": 464, \"type\": \"input\"}, {\"token\": \"countries\", \"is_partial\": false, \"position\": 1, \"token_id\": 2678, \"type\": \"input\"}, {\"token\": \"that\", \"is_partial\": false, \"position\": 2, \"token_id\": 326, \"type\": \"input\"}, {\"token\": \"are\", \"is_partial\": false, \"position\": 3, \"token_id\": 389, \"type\": \"input\"}, {\"token\": \"currently\", \"is_partial\": false, \"position\": 4, \"token_id\": 3058, \"type\": \"input\"}, {\"token\": \"members\", \"is_partial\": false, \"position\": 5, \"token_id\": 1866, \"type\": \"input\"}, {\"token\": \"of\", \"is_partial\": false, \"position\": 6, \"token_id\": 286, \"type\": \"input\"}, {\"token\": \"the\", \"is_partial\": false, \"position\": 7, \"token_id\": 262, \"type\": \"input\"}, {\"token\": \"UN\", \"is_partial\": false, \"position\": 8, \"token_id\": 4725, \"type\": \"input\"}, {\"token\": \"and\", \"is_partial\": false, \"position\": 9, \"token_id\": 290, \"type\": \"input\"}, {\"token\": \"also\", \"is_partial\": false, \"position\": 10, \"token_id\": 635, \"type\": \"input\"}, {\"token\": \"participated\", \"is_partial\": false, \"position\": 11, \"token_id\": 14888, \"type\": \"input\"}, {\"token\": \"in\", \"is_partial\": false, \"position\": 12, \"token_id\": 287, \"type\": \"input\"}, {\"token\": \"World\", \"is_partial\": false, \"position\": 13, \"token_id\": 2159, \"type\": \"input\"}, {\"token\": \"War\", \"is_partial\": false, \"position\": 14, \"token_id\": 1810, \"type\": \"input\"}, {\"token\": \"2\", \"is_partial\": false, \"position\": 15, \"token_id\": 362, \"type\": \"input\"}, {\"token\": \"are\", \"is_partial\": false, \"position\": 16, \"token_id\": 389, \"type\": \"input\"}, {\"token\": \":\", \"is_partial\": true, \"position\": 17, \"token_id\": 25, \"type\": \"input\"}, {\"token\": \"\\n\", \"is_partial\": true, \"position\": 18, \"token_id\": 198, \"type\": \"input\"}, {\"token\": \"1\", \"is_partial\": true, \"position\": 19, \"token_id\": 16, \"type\": \"input\"}, {\"token\": \".\", \"is_partial\": true, \"position\": 20, \"token_id\": 13, \"type\": \"input\"}, {\"token\": \"Britain\", \"is_partial\": false, \"position\": 21, \"token_id\": 5491, \"type\": \"input\"}, {\"token\": \"\\n\", \"is_partial\": true, \"position\": 22, \"token_id\": 198, \"type\": \"input\"}, {\"token\": \"2\", \"is_partial\": true, \"position\": 23, \"token_id\": 17, \"type\": \"input\"}, {\"token\": \".\", \"is_partial\": true, \"position\": 24, \"token_id\": 13, \"type\": \"input\"}, {\"token\": \"Germany\", \"is_partial\": false, \"position\": 25, \"token_id\": 4486, \"type\": \"input\"}, {\"token\": \"\\n\", \"is_partial\": true, \"position\": 26, \"token_id\": 198, \"type\": \"input\"}, {\"token\": \"3\", \"is_partial\": true, \"position\": 27, \"token_id\": 18, \"type\": \"input\"}, {\"token\": \".\", \"is_partial\": true, \"position\": 28, \"token_id\": 13, \"type\": \"input\"}]},\n",
              "                    tokenization_config: {\"token_prefix\": \"\\u0120\", \"partial_token_prefix\": \"\"}\n",
              "\n",
              "            })\n",
              "         }, function (err) {\n",
              "            console.log(err);\n",
              "        })\n",
              "        "
            ]
          },
          "metadata": {}
        },
        {
          "output_type": "stream",
          "name": "stderr",
          "text": [
            "Setting `pad_token_id` to `eos_token_id`:None for open-end generation.\n"
          ]
        },
        {
          "output_type": "display_data",
          "data": {
            "text/plain": [
              "<IPython.core.display.Javascript object>"
            ],
            "application/javascript": [
              "\n",
              "        // We don't really need these require scripts. But this is to avert\n",
              "        //this code from running before display_input_sequence which DOES require external files\n",
              "        requirejs(['basic', 'ecco'], function(basic, ecco){\n",
              "                console.log('addToken viz_id', 'viz_8168');\n",
              "                window.ecco['viz_8168'].addToken({\"token\": \"France\", \"is_partial\": false, \"token_id\": 4881, \"position\": 29, \"type\": \"output\"})\n",
              "                window.ecco['viz_8168'].redraw()\n",
              "        })\n",
              "        "
            ]
          },
          "metadata": {}
        },
        {
          "output_type": "display_data",
          "data": {
            "text/plain": [
              "<IPython.core.display.Javascript object>"
            ],
            "application/javascript": [
              "\n",
              "        // We don't really need these require scripts. But this is to avert\n",
              "        //this code from running before display_input_sequence which DOES require external files\n",
              "        requirejs(['basic', 'ecco'], function(basic, ecco){\n",
              "                console.log('addToken viz_id', 'viz_8168');\n",
              "                window.ecco['viz_8168'].addToken({\"token\": \"\\n\", \"is_partial\": true, \"token_id\": 198, \"position\": 30, \"type\": \"output\"})\n",
              "                window.ecco['viz_8168'].redraw()\n",
              "        })\n",
              "        "
            ]
          },
          "metadata": {}
        },
        {
          "output_type": "display_data",
          "data": {
            "text/plain": [
              "<IPython.core.display.Javascript object>"
            ],
            "application/javascript": [
              "\n",
              "        // We don't really need these require scripts. But this is to avert\n",
              "        //this code from running before display_input_sequence which DOES require external files\n",
              "        requirejs(['basic', 'ecco'], function(basic, ecco){\n",
              "                console.log('addToken viz_id', 'viz_8168');\n",
              "                window.ecco['viz_8168'].addToken({\"token\": \"4\", \"is_partial\": true, \"token_id\": 19, \"position\": 31, \"type\": \"output\"})\n",
              "                window.ecco['viz_8168'].redraw()\n",
              "        })\n",
              "        "
            ]
          },
          "metadata": {}
        },
        {
          "output_type": "display_data",
          "data": {
            "text/plain": [
              "<IPython.core.display.Javascript object>"
            ],
            "application/javascript": [
              "\n",
              "        // We don't really need these require scripts. But this is to avert\n",
              "        //this code from running before display_input_sequence which DOES require external files\n",
              "        requirejs(['basic', 'ecco'], function(basic, ecco){\n",
              "                console.log('addToken viz_id', 'viz_8168');\n",
              "                window.ecco['viz_8168'].addToken({\"token\": \".\", \"is_partial\": true, \"token_id\": 13, \"position\": 32, \"type\": \"output\"})\n",
              "                window.ecco['viz_8168'].redraw()\n",
              "        })\n",
              "        "
            ]
          },
          "metadata": {}
        },
        {
          "output_type": "display_data",
          "data": {
            "text/plain": [
              "<IPython.core.display.Javascript object>"
            ],
            "application/javascript": [
              "\n",
              "        // We don't really need these require scripts. But this is to avert\n",
              "        //this code from running before display_input_sequence which DOES require external files\n",
              "        requirejs(['basic', 'ecco'], function(basic, ecco){\n",
              "                console.log('addToken viz_id', 'viz_8168');\n",
              "                window.ecco['viz_8168'].addToken({\"token\": \"China\", \"is_partial\": false, \"token_id\": 2807, \"position\": 33, \"type\": \"output\"})\n",
              "                window.ecco['viz_8168'].redraw()\n",
              "        })\n",
              "        "
            ]
          },
          "metadata": {}
        },
        {
          "output_type": "display_data",
          "data": {
            "text/plain": [
              "<IPython.core.display.Javascript object>"
            ],
            "application/javascript": [
              "\n",
              "        // We don't really need these require scripts. But this is to avert\n",
              "        //this code from running before display_input_sequence which DOES require external files\n",
              "        requirejs(['basic', 'ecco'], function(basic, ecco){\n",
              "                console.log('addToken viz_id', 'viz_8168');\n",
              "                window.ecco['viz_8168'].addToken({\"token\": \"\\n\", \"is_partial\": true, \"token_id\": 198, \"position\": 34, \"type\": \"output\"})\n",
              "                window.ecco['viz_8168'].redraw()\n",
              "        })\n",
              "        "
            ]
          },
          "metadata": {}
        },
        {
          "output_type": "display_data",
          "data": {
            "text/plain": [
              "<IPython.core.display.Javascript object>"
            ],
            "application/javascript": [
              "\n",
              "        // We don't really need these require scripts. But this is to avert\n",
              "        //this code from running before display_input_sequence which DOES require external files\n",
              "        requirejs(['basic', 'ecco'], function(basic, ecco){\n",
              "                console.log('addToken viz_id', 'viz_8168');\n",
              "                window.ecco['viz_8168'].addToken({\"token\": \"5\", \"is_partial\": true, \"token_id\": 20, \"position\": 35, \"type\": \"output\"})\n",
              "                window.ecco['viz_8168'].redraw()\n",
              "        })\n",
              "        "
            ]
          },
          "metadata": {}
        },
        {
          "output_type": "display_data",
          "data": {
            "text/plain": [
              "<IPython.core.display.Javascript object>"
            ],
            "application/javascript": [
              "\n",
              "        // We don't really need these require scripts. But this is to avert\n",
              "        //this code from running before display_input_sequence which DOES require external files\n",
              "        requirejs(['basic', 'ecco'], function(basic, ecco){\n",
              "                console.log('addToken viz_id', 'viz_8168');\n",
              "                window.ecco['viz_8168'].addToken({\"token\": \".\", \"is_partial\": true, \"token_id\": 13, \"position\": 36, \"type\": \"output\"})\n",
              "                window.ecco['viz_8168'].redraw()\n",
              "        })\n",
              "        "
            ]
          },
          "metadata": {}
        },
        {
          "output_type": "display_data",
          "data": {
            "text/plain": [
              "<IPython.core.display.Javascript object>"
            ],
            "application/javascript": [
              "\n",
              "        // We don't really need these require scripts. But this is to avert\n",
              "        //this code from running before display_input_sequence which DOES require external files\n",
              "        requirejs(['basic', 'ecco'], function(basic, ecco){\n",
              "                console.log('addToken viz_id', 'viz_8168');\n",
              "                window.ecco['viz_8168'].addToken({\"token\": \"India\", \"is_partial\": false, \"token_id\": 3794, \"position\": 37, \"type\": \"output\"})\n",
              "                window.ecco['viz_8168'].redraw()\n",
              "        })\n",
              "        "
            ]
          },
          "metadata": {}
        },
        {
          "output_type": "display_data",
          "data": {
            "text/plain": [
              "<IPython.core.display.Javascript object>"
            ],
            "application/javascript": [
              "\n",
              "        // We don't really need these require scripts. But this is to avert\n",
              "        //this code from running before display_input_sequence which DOES require external files\n",
              "        requirejs(['basic', 'ecco'], function(basic, ecco){\n",
              "                console.log('addToken viz_id', 'viz_8168');\n",
              "                window.ecco['viz_8168'].addToken({\"token\": \"\\n\", \"is_partial\": true, \"token_id\": 198, \"position\": 38, \"type\": \"output\"})\n",
              "                window.ecco['viz_8168'].redraw()\n",
              "        })\n",
              "        "
            ]
          },
          "metadata": {}
        },
        {
          "output_type": "display_data",
          "data": {
            "text/plain": [
              "<IPython.core.display.Javascript object>"
            ],
            "application/javascript": [
              "\n",
              "        // We don't really need these require scripts. But this is to avert\n",
              "        //this code from running before display_input_sequence which DOES require external files\n",
              "        requirejs(['basic', 'ecco'], function(basic, ecco){\n",
              "                console.log('addToken viz_id', 'viz_8168');\n",
              "                window.ecco['viz_8168'].addToken({\"token\": \"6\", \"is_partial\": true, \"token_id\": 21, \"position\": 39, \"type\": \"output\"})\n",
              "                window.ecco['viz_8168'].redraw()\n",
              "        })\n",
              "        "
            ]
          },
          "metadata": {}
        },
        {
          "output_type": "display_data",
          "data": {
            "text/plain": [
              "<IPython.core.display.Javascript object>"
            ],
            "application/javascript": [
              "\n",
              "        // We don't really need these require scripts. But this is to avert\n",
              "        //this code from running before display_input_sequence which DOES require external files\n",
              "        requirejs(['basic', 'ecco'], function(basic, ecco){\n",
              "                console.log('addToken viz_id', 'viz_8168');\n",
              "                window.ecco['viz_8168'].addToken({\"token\": \".\", \"is_partial\": true, \"token_id\": 13, \"position\": 40, \"type\": \"output\"})\n",
              "                window.ecco['viz_8168'].redraw()\n",
              "        })\n",
              "        "
            ]
          },
          "metadata": {}
        },
        {
          "output_type": "display_data",
          "data": {
            "text/plain": [
              "<IPython.core.display.Javascript object>"
            ],
            "application/javascript": [
              "\n",
              "        // We don't really need these require scripts. But this is to avert\n",
              "        //this code from running before display_input_sequence which DOES require external files\n",
              "        requirejs(['basic', 'ecco'], function(basic, ecco){\n",
              "                console.log('addToken viz_id', 'viz_8168');\n",
              "                window.ecco['viz_8168'].addToken({\"token\": \"Norway\", \"is_partial\": false, \"token_id\": 15238, \"position\": 41, \"type\": \"output\"})\n",
              "                window.ecco['viz_8168'].redraw()\n",
              "        })\n",
              "        "
            ]
          },
          "metadata": {}
        },
        {
          "output_type": "display_data",
          "data": {
            "text/plain": [
              "<IPython.core.display.Javascript object>"
            ],
            "application/javascript": [
              "\n",
              "        // We don't really need these require scripts. But this is to avert\n",
              "        //this code from running before display_input_sequence which DOES require external files\n",
              "        requirejs(['basic', 'ecco'], function(basic, ecco){\n",
              "                console.log('addToken viz_id', 'viz_8168');\n",
              "                window.ecco['viz_8168'].addToken({\"token\": \"\\n\", \"is_partial\": true, \"token_id\": 198, \"position\": 42, \"type\": \"output\"})\n",
              "                window.ecco['viz_8168'].redraw()\n",
              "        })\n",
              "        "
            ]
          },
          "metadata": {}
        },
        {
          "output_type": "display_data",
          "data": {
            "text/plain": [
              "<IPython.core.display.Javascript object>"
            ],
            "application/javascript": [
              "\n",
              "        // We don't really need these require scripts. But this is to avert\n",
              "        //this code from running before display_input_sequence which DOES require external files\n",
              "        requirejs(['basic', 'ecco'], function(basic, ecco){\n",
              "                console.log('addToken viz_id', 'viz_8168');\n",
              "                window.ecco['viz_8168'].addToken({\"token\": \"7\", \"is_partial\": true, \"token_id\": 22, \"position\": 43, \"type\": \"output\"})\n",
              "                window.ecco['viz_8168'].redraw()\n",
              "        })\n",
              "        "
            ]
          },
          "metadata": {}
        },
        {
          "output_type": "display_data",
          "data": {
            "text/plain": [
              "<IPython.core.display.Javascript object>"
            ],
            "application/javascript": [
              "\n",
              "        // We don't really need these require scripts. But this is to avert\n",
              "        //this code from running before display_input_sequence which DOES require external files\n",
              "        requirejs(['basic', 'ecco'], function(basic, ecco){\n",
              "                console.log('addToken viz_id', 'viz_8168');\n",
              "                window.ecco['viz_8168'].addToken({\"token\": \".\", \"is_partial\": true, \"token_id\": 13, \"position\": 44, \"type\": \"output\"})\n",
              "                window.ecco['viz_8168'].redraw()\n",
              "        })\n",
              "        "
            ]
          },
          "metadata": {}
        },
        {
          "output_type": "display_data",
          "data": {
            "text/plain": [
              "<IPython.core.display.Javascript object>"
            ],
            "application/javascript": [
              "\n",
              "        // We don't really need these require scripts. But this is to avert\n",
              "        //this code from running before display_input_sequence which DOES require external files\n",
              "        requirejs(['basic', 'ecco'], function(basic, ecco){\n",
              "                console.log('addToken viz_id', 'viz_8168');\n",
              "                window.ecco['viz_8168'].addToken({\"token\": \"Saudi\", \"is_partial\": false, \"token_id\": 7420, \"position\": 45, \"type\": \"output\"})\n",
              "                window.ecco['viz_8168'].redraw()\n",
              "        })\n",
              "        "
            ]
          },
          "metadata": {}
        },
        {
          "output_type": "display_data",
          "data": {
            "text/plain": [
              "<IPython.core.display.Javascript object>"
            ],
            "application/javascript": [
              "\n",
              "        // We don't really need these require scripts. But this is to avert\n",
              "        //this code from running before display_input_sequence which DOES require external files\n",
              "        requirejs(['basic', 'ecco'], function(basic, ecco){\n",
              "                console.log('addToken viz_id', 'viz_8168');\n",
              "                window.ecco['viz_8168'].addToken({\"token\": \"Arabia\", \"is_partial\": false, \"token_id\": 9671, \"position\": 46, \"type\": \"output\"})\n",
              "                window.ecco['viz_8168'].redraw()\n",
              "        })\n",
              "        "
            ]
          },
          "metadata": {}
        },
        {
          "output_type": "display_data",
          "data": {
            "text/plain": [
              "<IPython.core.display.Javascript object>"
            ],
            "application/javascript": [
              "\n",
              "        // We don't really need these require scripts. But this is to avert\n",
              "        //this code from running before display_input_sequence which DOES require external files\n",
              "        requirejs(['basic', 'ecco'], function(basic, ecco){\n",
              "                console.log('addToken viz_id', 'viz_8168');\n",
              "                window.ecco['viz_8168'].addToken({\"token\": \"\\n\", \"is_partial\": true, \"token_id\": 198, \"position\": 47, \"type\": \"output\"})\n",
              "                window.ecco['viz_8168'].redraw()\n",
              "        })\n",
              "        "
            ]
          },
          "metadata": {}
        },
        {
          "output_type": "display_data",
          "data": {
            "text/plain": [
              "<IPython.core.display.Javascript object>"
            ],
            "application/javascript": [
              "\n",
              "        // We don't really need these require scripts. But this is to avert\n",
              "        //this code from running before display_input_sequence which DOES require external files\n",
              "        requirejs(['basic', 'ecco'], function(basic, ecco){\n",
              "                console.log('addToken viz_id', 'viz_8168');\n",
              "                window.ecco['viz_8168'].addToken({\"token\": \"8\", \"is_partial\": true, \"token_id\": 23, \"position\": 48, \"type\": \"output\"})\n",
              "                window.ecco['viz_8168'].redraw()\n",
              "        })\n",
              "        "
            ]
          },
          "metadata": {}
        },
        {
          "output_type": "display_data",
          "data": {
            "text/plain": [
              "<IPython.core.display.Javascript object>"
            ],
            "application/javascript": [
              "\n",
              "        // We don't really need these require scripts. But this is to avert\n",
              "        //this code from running before display_input_sequence which DOES require external files\n",
              "        requirejs(['basic', 'ecco'], function(basic, ecco){\n",
              "                console.log('addToken viz_id', 'viz_8168');\n",
              "                window.ecco['viz_8168'].addToken({\"token\": \".\", \"is_partial\": true, \"token_id\": 13, \"position\": 49, \"type\": \"output\"})\n",
              "                window.ecco['viz_8168'].redraw()\n",
              "        })\n",
              "        "
            ]
          },
          "metadata": {}
        },
        {
          "output_type": "display_data",
          "data": {
            "text/plain": [
              "<IPython.core.display.Javascript object>"
            ],
            "application/javascript": [
              "\n",
              "        // We don't really need these require scripts. But this is to avert\n",
              "        //this code from running before display_input_sequence which DOES require external files\n",
              "        requirejs(['basic', 'ecco'], function(basic, ecco){\n",
              "                console.log('addToken viz_id', 'viz_8168');\n",
              "                window.ecco['viz_8168'].addToken({\"token\": \"Norway\", \"is_partial\": false, \"token_id\": 15238, \"position\": 50, \"type\": \"output\"})\n",
              "                window.ecco['viz_8168'].redraw()\n",
              "        })\n",
              "        "
            ]
          },
          "metadata": {}
        },
        {
          "output_type": "display_data",
          "data": {
            "text/plain": [
              "<IPython.core.display.Javascript object>"
            ],
            "application/javascript": [
              "\n",
              "        // We don't really need these require scripts. But this is to avert\n",
              "        //this code from running before display_input_sequence which DOES require external files\n",
              "        requirejs(['basic', 'ecco'], function(basic, ecco){\n",
              "                console.log('addToken viz_id', 'viz_8168');\n",
              "                window.ecco['viz_8168'].addToken({\"token\": \"\\n\", \"is_partial\": true, \"token_id\": 198, \"position\": 51, \"type\": \"output\"})\n",
              "                window.ecco['viz_8168'].redraw()\n",
              "        })\n",
              "        "
            ]
          },
          "metadata": {}
        },
        {
          "output_type": "display_data",
          "data": {
            "text/plain": [
              "<IPython.core.display.Javascript object>"
            ],
            "application/javascript": [
              "\n",
              "        // We don't really need these require scripts. But this is to avert\n",
              "        //this code from running before display_input_sequence which DOES require external files\n",
              "        requirejs(['basic', 'ecco'], function(basic, ecco){\n",
              "                console.log('addToken viz_id', 'viz_8168');\n",
              "                window.ecco['viz_8168'].addToken({\"token\": \"9\", \"is_partial\": true, \"token_id\": 24, \"position\": 52, \"type\": \"output\"})\n",
              "                window.ecco['viz_8168'].redraw()\n",
              "        })\n",
              "        "
            ]
          },
          "metadata": {}
        },
        {
          "output_type": "display_data",
          "data": {
            "text/plain": [
              "<IPython.core.display.Javascript object>"
            ],
            "application/javascript": [
              "\n",
              "        // We don't really need these require scripts. But this is to avert\n",
              "        //this code from running before display_input_sequence which DOES require external files\n",
              "        requirejs(['basic', 'ecco'], function(basic, ecco){\n",
              "                console.log('addToken viz_id', 'viz_8168');\n",
              "                window.ecco['viz_8168'].addToken({\"token\": \".\", \"is_partial\": true, \"token_id\": 13, \"position\": 53, \"type\": \"output\"})\n",
              "                window.ecco['viz_8168'].redraw()\n",
              "        })\n",
              "        "
            ]
          },
          "metadata": {}
        },
        {
          "output_type": "display_data",
          "data": {
            "text/plain": [
              "<IPython.core.display.Javascript object>"
            ],
            "application/javascript": [
              "\n",
              "        // We don't really need these require scripts. But this is to avert\n",
              "        //this code from running before display_input_sequence which DOES require external files\n",
              "        requirejs(['basic', 'ecco'], function(basic, ecco){\n",
              "                console.log('addToken viz_id', 'viz_8168');\n",
              "                window.ecco['viz_8168'].addToken({\"token\": \"Romania\", \"is_partial\": false, \"token_id\": 23356, \"position\": 54, \"type\": \"output\"})\n",
              "                window.ecco['viz_8168'].redraw()\n",
              "        })\n",
              "        "
            ]
          },
          "metadata": {}
        },
        {
          "output_type": "display_data",
          "data": {
            "text/plain": [
              "<IPython.core.display.Javascript object>"
            ],
            "application/javascript": [
              "\n",
              "        // We don't really need these require scripts. But this is to avert\n",
              "        //this code from running before display_input_sequence which DOES require external files\n",
              "        requirejs(['basic', 'ecco'], function(basic, ecco){\n",
              "                console.log('addToken viz_id', 'viz_8168');\n",
              "                window.ecco['viz_8168'].addToken({\"token\": \"\\n\", \"is_partial\": true, \"token_id\": 198, \"position\": 55, \"type\": \"output\"})\n",
              "                window.ecco['viz_8168'].redraw()\n",
              "        })\n",
              "        "
            ]
          },
          "metadata": {}
        },
        {
          "output_type": "display_data",
          "data": {
            "text/plain": [
              "<IPython.core.display.Javascript object>"
            ],
            "application/javascript": [
              "\n",
              "        // We don't really need these require scripts. But this is to avert\n",
              "        //this code from running before display_input_sequence which DOES require external files\n",
              "        requirejs(['basic', 'ecco'], function(basic, ecco){\n",
              "                console.log('addToken viz_id', 'viz_8168');\n",
              "                window.ecco['viz_8168'].addToken({\"token\": \"10\", \"is_partial\": true, \"token_id\": 940, \"position\": 56, \"type\": \"output\"})\n",
              "                window.ecco['viz_8168'].redraw()\n",
              "        })\n",
              "        "
            ]
          },
          "metadata": {}
        },
        {
          "output_type": "display_data",
          "data": {
            "text/plain": [
              "<IPython.core.display.Javascript object>"
            ],
            "application/javascript": [
              "\n",
              "        // We don't really need these require scripts. But this is to avert\n",
              "        //this code from running before display_input_sequence which DOES require external files\n",
              "        requirejs(['basic', 'ecco'], function(basic, ecco){\n",
              "                console.log('addToken viz_id', 'viz_8168');\n",
              "                window.ecco['viz_8168'].addToken({\"token\": \".\", \"is_partial\": true, \"token_id\": 13, \"position\": 57, \"type\": \"output\"})\n",
              "                window.ecco['viz_8168'].redraw()\n",
              "        })\n",
              "        "
            ]
          },
          "metadata": {}
        },
        {
          "output_type": "display_data",
          "data": {
            "text/plain": [
              "<IPython.core.display.Javascript object>"
            ],
            "application/javascript": [
              "\n",
              "        // We don't really need these require scripts. But this is to avert\n",
              "        //this code from running before display_input_sequence which DOES require external files\n",
              "        requirejs(['basic', 'ecco'], function(basic, ecco){\n",
              "                console.log('addToken viz_id', 'viz_8168');\n",
              "                window.ecco['viz_8168'].addToken({\"token\": \"Japan\", \"is_partial\": false, \"token_id\": 2869, \"position\": 58, \"type\": \"output\"})\n",
              "                window.ecco['viz_8168'].redraw()\n",
              "        })\n",
              "        "
            ]
          },
          "metadata": {}
        },
        {
          "output_type": "display_data",
          "data": {
            "text/plain": [
              "<IPython.core.display.Javascript object>"
            ],
            "application/javascript": [
              "\n",
              "        // We don't really need these require scripts. But this is to avert\n",
              "        //this code from running before display_input_sequence which DOES require external files\n",
              "        requirejs(['basic', 'ecco'], function(basic, ecco){\n",
              "                console.log('addToken viz_id', 'viz_8168');\n",
              "                window.ecco['viz_8168'].addToken({\"token\": \"\\n\", \"is_partial\": true, \"token_id\": 198, \"position\": 59, \"type\": \"output\"})\n",
              "                window.ecco['viz_8168'].redraw()\n",
              "        })\n",
              "        "
            ]
          },
          "metadata": {}
        },
        {
          "output_type": "display_data",
          "data": {
            "text/plain": [
              "<IPython.core.display.Javascript object>"
            ],
            "application/javascript": [
              "\n",
              "        // We don't really need these require scripts. But this is to avert\n",
              "        //this code from running before display_input_sequence which DOES require external files\n",
              "        requirejs(['basic', 'ecco'], function(basic, ecco){\n",
              "                console.log('addToken viz_id', 'viz_8168');\n",
              "                window.ecco['viz_8168'].addToken({\"token\": \"And\", \"is_partial\": true, \"token_id\": 1870, \"position\": 60, \"type\": \"output\"})\n",
              "                window.ecco['viz_8168'].redraw()\n",
              "        })\n",
              "        "
            ]
          },
          "metadata": {}
        },
        {
          "output_type": "display_data",
          "data": {
            "text/plain": [
              "<IPython.core.display.Javascript object>"
            ],
            "application/javascript": [
              "\n",
              "        // We don't really need these require scripts. But this is to avert\n",
              "        //this code from running before display_input_sequence which DOES require external files\n",
              "        requirejs(['basic', 'ecco'], function(basic, ecco){\n",
              "                console.log('addToken viz_id', 'viz_8168');\n",
              "                window.ecco['viz_8168'].addToken({\"token\": \"there\", \"is_partial\": false, \"token_id\": 612, \"position\": 61, \"type\": \"output\"})\n",
              "                window.ecco['viz_8168'].redraw()\n",
              "        })\n",
              "        "
            ]
          },
          "metadata": {}
        },
        {
          "output_type": "display_data",
          "data": {
            "text/plain": [
              "<IPython.core.display.Javascript object>"
            ],
            "application/javascript": [
              "\n",
              "        // We don't really need these require scripts. But this is to avert\n",
              "        //this code from running before display_input_sequence which DOES require external files\n",
              "        requirejs(['basic', 'ecco'], function(basic, ecco){\n",
              "                console.log('addToken viz_id', 'viz_8168');\n",
              "                window.ecco['viz_8168'].addToken({\"token\": \"is\", \"is_partial\": false, \"token_id\": 318, \"position\": 62, \"type\": \"output\"})\n",
              "                window.ecco['viz_8168'].redraw()\n",
              "        })\n",
              "        "
            ]
          },
          "metadata": {}
        },
        {
          "output_type": "display_data",
          "data": {
            "text/plain": [
              "<IPython.core.display.Javascript object>"
            ],
            "application/javascript": [
              "\n",
              "        // We don't really need these require scripts. But this is to avert\n",
              "        //this code from running before display_input_sequence which DOES require external files\n",
              "        requirejs(['basic', 'ecco'], function(basic, ecco){\n",
              "                console.log('addToken viz_id', 'viz_8168');\n",
              "                window.ecco['viz_8168'].addToken({\"token\": \"a\", \"is_partial\": false, \"token_id\": 257, \"position\": 63, \"type\": \"output\"})\n",
              "                window.ecco['viz_8168'].redraw()\n",
              "        })\n",
              "        "
            ]
          },
          "metadata": {}
        },
        {
          "output_type": "display_data",
          "data": {
            "text/plain": [
              "<IPython.core.display.Javascript object>"
            ],
            "application/javascript": [
              "\n",
              "        // We don't really need these require scripts. But this is to avert\n",
              "        //this code from running before display_input_sequence which DOES require external files\n",
              "        requirejs(['basic', 'ecco'], function(basic, ecco){\n",
              "                console.log('addToken viz_id', 'viz_8168');\n",
              "                window.ecco['viz_8168'].addToken({\"token\": \"difference\", \"is_partial\": false, \"token_id\": 3580, \"position\": 64, \"type\": \"output\"})\n",
              "                window.ecco['viz_8168'].redraw()\n",
              "        })\n",
              "        "
            ]
          },
          "metadata": {}
        },
        {
          "output_type": "display_data",
          "data": {
            "text/plain": [
              "<IPython.core.display.Javascript object>"
            ],
            "application/javascript": [
              "\n",
              "        // We don't really need these require scripts. But this is to avert\n",
              "        //this code from running before display_input_sequence which DOES require external files\n",
              "        requirejs(['basic', 'ecco'], function(basic, ecco){\n",
              "                console.log('addToken viz_id', 'viz_8168');\n",
              "                window.ecco['viz_8168'].addToken({\"token\": \"between\", \"is_partial\": false, \"token_id\": 1022, \"position\": 65, \"type\": \"output\"})\n",
              "                window.ecco['viz_8168'].redraw()\n",
              "        })\n",
              "        "
            ]
          },
          "metadata": {}
        },
        {
          "output_type": "display_data",
          "data": {
            "text/plain": [
              "<IPython.core.display.Javascript object>"
            ],
            "application/javascript": [
              "\n",
              "        // We don't really need these require scripts. But this is to avert\n",
              "        //this code from running before display_input_sequence which DOES require external files\n",
              "        requirejs(['basic', 'ecco'], function(basic, ecco){\n",
              "                console.log('addToken viz_id', 'viz_8168');\n",
              "                window.ecco['viz_8168'].addToken({\"token\": \"the\", \"is_partial\": false, \"token_id\": 262, \"position\": 66, \"type\": \"output\"})\n",
              "                window.ecco['viz_8168'].redraw()\n",
              "        })\n",
              "        "
            ]
          },
          "metadata": {}
        },
        {
          "output_type": "display_data",
          "data": {
            "text/plain": [
              "<IPython.core.display.Javascript object>"
            ],
            "application/javascript": [
              "\n",
              "        // We don't really need these require scripts. But this is to avert\n",
              "        //this code from running before display_input_sequence which DOES require external files\n",
              "        requirejs(['basic', 'ecco'], function(basic, ecco){\n",
              "                console.log('addToken viz_id', 'viz_8168');\n",
              "                window.ecco['viz_8168'].addToken({\"token\": \"two\", \"is_partial\": false, \"token_id\": 734, \"position\": 67, \"type\": \"output\"})\n",
              "                window.ecco['viz_8168'].redraw()\n",
              "        })\n",
              "        "
            ]
          },
          "metadata": {}
        },
        {
          "output_type": "display_data",
          "data": {
            "text/plain": [
              "<IPython.core.display.Javascript object>"
            ],
            "application/javascript": [
              "\n",
              "        // We don't really need these require scripts. But this is to avert\n",
              "        //this code from running before display_input_sequence which DOES require external files\n",
              "        requirejs(['basic', 'ecco'], function(basic, ecco){\n",
              "                console.log('addToken viz_id', 'viz_8168');\n",
              "                window.ecco['viz_8168'].addToken({\"token\": \"countries\", \"is_partial\": false, \"token_id\": 2678, \"position\": 68, \"type\": \"output\"})\n",
              "                window.ecco['viz_8168'].redraw()\n",
              "        })\n",
              "        "
            ]
          },
          "metadata": {}
        },
        {
          "output_type": "display_data",
          "data": {
            "text/plain": [
              "<IPython.core.display.Javascript object>"
            ],
            "application/javascript": [
              "\n",
              "        // We don't really need these require scripts. But this is to avert\n",
              "        //this code from running before display_input_sequence which DOES require external files\n",
              "        requirejs(['basic', 'ecco'], function(basic, ecco){\n",
              "                console.log('addToken viz_id', 'viz_8168');\n",
              "                window.ecco['viz_8168'].addToken({\"token\": \"'\", \"is_partial\": true, \"token_id\": 6, \"position\": 69, \"type\": \"output\"})\n",
              "                window.ecco['viz_8168'].redraw()\n",
              "        })\n",
              "        "
            ]
          },
          "metadata": {}
        },
        {
          "output_type": "display_data",
          "data": {
            "text/plain": [
              "<IPython.core.display.Javascript object>"
            ],
            "application/javascript": [
              "\n",
              "        // We don't really need these require scripts. But this is to avert\n",
              "        //this code from running before display_input_sequence which DOES require external files\n",
              "        requirejs(['basic', 'ecco'], function(basic, ecco){\n",
              "                console.log('addToken viz_id', 'viz_8168');\n",
              "                window.ecco['viz_8168'].addToken({\"token\": \"leaders\", \"is_partial\": false, \"token_id\": 2766, \"position\": 70, \"type\": \"output\"})\n",
              "                window.ecco['viz_8168'].redraw()\n",
              "        })\n",
              "        "
            ]
          },
          "metadata": {}
        },
        {
          "output_type": "display_data",
          "data": {
            "text/plain": [
              "<IPython.core.display.Javascript object>"
            ],
            "application/javascript": [
              "\n",
              "        // We don't really need these require scripts. But this is to avert\n",
              "        //this code from running before display_input_sequence which DOES require external files\n",
              "        requirejs(['basic', 'ecco'], function(basic, ecco){\n",
              "                console.log('addToken viz_id', 'viz_8168');\n",
              "                window.ecco['viz_8168'].addToken({\"token\": \"'\", \"is_partial\": true, \"token_id\": 6, \"position\": 71, \"type\": \"output\"})\n",
              "                window.ecco['viz_8168'].redraw()\n",
              "        })\n",
              "        "
            ]
          },
          "metadata": {}
        },
        {
          "output_type": "display_data",
          "data": {
            "text/plain": [
              "<IPython.core.display.Javascript object>"
            ],
            "application/javascript": [
              "\n",
              "        // We don't really need these require scripts. But this is to avert\n",
              "        //this code from running before display_input_sequence which DOES require external files\n",
              "        requirejs(['basic', 'ecco'], function(basic, ecco){\n",
              "                console.log('addToken viz_id', 'viz_8168');\n",
              "                window.ecco['viz_8168'].addToken({\"token\": \"countries\", \"is_partial\": false, \"token_id\": 2678, \"position\": 72, \"type\": \"output\"})\n",
              "                window.ecco['viz_8168'].redraw()\n",
              "        })\n",
              "        "
            ]
          },
          "metadata": {}
        },
        {
          "output_type": "display_data",
          "data": {
            "text/plain": [
              "<IPython.core.display.Javascript object>"
            ],
            "application/javascript": [
              "\n",
              "        // We don't really need these require scripts. But this is to avert\n",
              "        //this code from running before display_input_sequence which DOES require external files\n",
              "        requirejs(['basic', 'ecco'], function(basic, ecco){\n",
              "                console.log('addToken viz_id', 'viz_8168');\n",
              "                window.ecco['viz_8168'].addToken({\"token\": \".\", \"is_partial\": true, \"token_id\": 13, \"position\": 73, \"type\": \"output\"})\n",
              "                window.ecco['viz_8168'].redraw()\n",
              "        })\n",
              "        "
            ]
          },
          "metadata": {}
        },
        {
          "output_type": "display_data",
          "data": {
            "text/plain": [
              "<IPython.core.display.Javascript object>"
            ],
            "application/javascript": [
              "\n",
              "        // We don't really need these require scripts. But this is to avert\n",
              "        //this code from running before display_input_sequence which DOES require external files\n",
              "        requirejs(['basic', 'ecco'], function(basic, ecco){\n",
              "                console.log('addToken viz_id', 'viz_8168');\n",
              "                window.ecco['viz_8168'].addToken({\"token\": \"To\", \"is_partial\": false, \"token_id\": 1675, \"position\": 74, \"type\": \"output\"})\n",
              "                window.ecco['viz_8168'].redraw()\n",
              "        })\n",
              "        "
            ]
          },
          "metadata": {}
        },
        {
          "output_type": "display_data",
          "data": {
            "text/plain": [
              "<IPython.core.display.Javascript object>"
            ],
            "application/javascript": [
              "\n",
              "        // We don't really need these require scripts. But this is to avert\n",
              "        //this code from running before display_input_sequence which DOES require external files\n",
              "        requirejs(['basic', 'ecco'], function(basic, ecco){\n",
              "                console.log('addToken viz_id', 'viz_8168');\n",
              "                window.ecco['viz_8168'].addToken({\"token\": \"be\", \"is_partial\": false, \"token_id\": 307, \"position\": 75, \"type\": \"output\"})\n",
              "                window.ecco['viz_8168'].redraw()\n",
              "        })\n",
              "        "
            ]
          },
          "metadata": {}
        },
        {
          "output_type": "display_data",
          "data": {
            "text/plain": [
              "<IPython.core.display.Javascript object>"
            ],
            "application/javascript": [
              "\n",
              "        // We don't really need these require scripts. But this is to avert\n",
              "        //this code from running before display_input_sequence which DOES require external files\n",
              "        requirejs(['basic', 'ecco'], function(basic, ecco){\n",
              "                console.log('addToken viz_id', 'viz_8168');\n",
              "                window.ecco['viz_8168'].addToken({\"token\": \"fair\", \"is_partial\": false, \"token_id\": 3148, \"position\": 76, \"type\": \"output\"})\n",
              "                window.ecco['viz_8168'].redraw()\n",
              "        })\n",
              "        "
            ]
          },
          "metadata": {}
        },
        {
          "output_type": "display_data",
          "data": {
            "text/plain": [
              "<IPython.core.display.Javascript object>"
            ],
            "application/javascript": [
              "\n",
              "        // We don't really need these require scripts. But this is to avert\n",
              "        //this code from running before display_input_sequence which DOES require external files\n",
              "        requirejs(['basic', 'ecco'], function(basic, ecco){\n",
              "                console.log('addToken viz_id', 'viz_8168');\n",
              "                window.ecco['viz_8168'].addToken({\"token\": \",\", \"is_partial\": true, \"token_id\": 11, \"position\": 77, \"type\": \"output\"})\n",
              "                window.ecco['viz_8168'].redraw()\n",
              "        })\n",
              "        "
            ]
          },
          "metadata": {}
        },
        {
          "output_type": "display_data",
          "data": {
            "text/plain": [
              "<IPython.core.display.Javascript object>"
            ],
            "application/javascript": [
              "\n",
              "        // We don't really need these require scripts. But this is to avert\n",
              "        //this code from running before display_input_sequence which DOES require external files\n",
              "        requirejs(['basic', 'ecco'], function(basic, ecco){\n",
              "                console.log('addToken viz_id', 'viz_8168');\n",
              "                window.ecco['viz_8168'].addToken({\"token\": \"their\", \"is_partial\": false, \"token_id\": 511, \"position\": 78, \"type\": \"output\"})\n",
              "                window.ecco['viz_8168'].redraw()\n",
              "        })\n",
              "        "
            ]
          },
          "metadata": {}
        }
      ]
    },
    {
      "cell_type": "markdown",
      "source": [
        "Now let's have `ecco` identify the tokens in the input that contributed to the generation of each output token. It's important to remmember that decoding is done recursively in autoregressive LLMs such as GPT2. So, after generating the token \"France,\" the model appends this output to the original input and then uses the alterted input to generate the next output token.\n",
        "\n",
        "If you hover your mouse over each output token, such as \"France,\" the saliency of each input token will light up, Use this information to answer the question below."
      ],
      "metadata": {
        "id": "-FOd18bCnaDV"
      }
    },
    {
      "cell_type": "code",
      "source": [
        "output.primary_attributions(attr_method='ig')"
      ],
      "metadata": {
        "colab": {
          "base_uri": "https://localhost:8080/",
          "height": 320
        },
        "id": "wD1cusI9cLgT",
        "outputId": "586a4b97-09e2-4578-dfa0-20182ea77beb"
      },
      "execution_count": null,
      "outputs": [
        {
          "output_type": "display_data",
          "data": {
            "text/plain": [
              "<IPython.core.display.HTML object>"
            ],
            "text/html": [
              "<html lang=\"en\">\n",
              "<script src=\"https://requirejs.org/docs/release/2.3.6/minified/require.js\"></script>\n",
              "<script>\n",
              "    var ecco_url = 'https://storage.googleapis.com/ml-intro/ecco/'\n",
              "    //var ecco_url = 'http://localhost:8000/'\n",
              "\n",
              "    if (window.ecco === undefined) window.ecco = {}\n",
              "\n",
              "    // Setup the paths of the script we'll be using\n",
              "    requirejs.config({\n",
              "        urlArgs: \"bust=\" + (new Date()).getTime(),\n",
              "        nodeRequire: require,\n",
              "        paths: {\n",
              "            d3: \"https://d3js.org/d3.v6.min\", // This is only for use in setup.html and basic.html\n",
              "            \"d3-array\": \"https://d3js.org/d3-array.v2.min\",\n",
              "            jquery: \"https://code.jquery.com/jquery-3.5.1.min\",\n",
              "            ecco: ecco_url + 'js/0.0.6/ecco-bundle.min',\n",
              "            xregexp: 'https://cdnjs.cloudflare.com/ajax/libs/xregexp/3.2.0/xregexp-all.min'\n",
              "        }\n",
              "    });\n",
              "\n",
              "    // Add the css file\n",
              "    //requirejs(['d3'],\n",
              "    //    function (d3) {\n",
              "    //        d3.select('#css').attr('href', ecco_url + 'html/styles.css')\n",
              "    //    })\n",
              "\n",
              "    console.log('Ecco initialize!!')\n",
              "\n",
              "    // returns a 'basic' object. basic.init() selects the html div we'll be\n",
              "    // rendering the html into, adds styles.css to the document.\n",
              "    define('basic', ['d3'],\n",
              "        function (d3) {\n",
              "            return {\n",
              "                init: function (viz_id = null) {\n",
              "                    if (viz_id == null) {\n",
              "                        viz_id = \"viz_\" + Math.round(Math.random() * 10000000)\n",
              "                    }\n",
              "                    // Select the div rendered below, change its id\n",
              "                    const div = d3.select('#basic').attr('id', viz_id),\n",
              "                        div_parent = d3.select('#' + viz_id).node().parentNode\n",
              "\n",
              "                    // Link to CSS file\n",
              "                    d3.select(div_parent).insert('link')\n",
              "                        .attr('rel', 'stylesheet')\n",
              "                        .attr('type', 'text/css')\n",
              "                        .attr('href', ecco_url + 'html/0.0.2/styles.css')\n",
              "\n",
              "                    return viz_id\n",
              "                }\n",
              "            }\n",
              "        }, function (err) {\n",
              "            console.log(err);\n",
              "        }\n",
              "    )\n",
              "</script>\n",
              "\n",
              "<head>\n",
              "    <link id='css' rel=\"stylesheet\" type=\"text/css\">\n",
              "</head>\n",
              "<div id=\"basic\"></div>\n"
            ]
          },
          "metadata": {}
        },
        {
          "output_type": "display_data",
          "data": {
            "text/plain": [
              "<IPython.core.display.Javascript object>"
            ],
            "application/javascript": [
              "\n",
              "             requirejs(['basic', 'ecco'], function(basic, ecco){\n",
              "                const viz_id = basic.init()\n",
              "                console.log(viz_id)\n",
              "                // ecco.interactiveTokens(viz_id, {})\n",
              "                window.ecco[viz_id] = new ecco.MinimalHighlighter({\n",
              "                    parentDiv: viz_id,\n",
              "                    data: {\"tokens\": [{\"token\": \"The\", \"token_id\": 464, \"is_partial\": true, \"type\": \"input\", \"value\": \"0.043997705787069914\", \"position\": 0}, {\"token\": \"countries\", \"token_id\": 2678, \"is_partial\": false, \"type\": \"input\", \"value\": \"0.05279682935976433\", \"position\": 1}, {\"token\": \"that\", \"token_id\": 326, \"is_partial\": false, \"type\": \"input\", \"value\": \"0.013334228493920136\", \"position\": 2}, {\"token\": \"are\", \"token_id\": 389, \"is_partial\": false, \"type\": \"input\", \"value\": \"0.014162852970502491\", \"position\": 3}, {\"token\": \"currently\", \"token_id\": 3058, \"is_partial\": false, \"type\": \"input\", \"value\": \"0.01911611933982847\", \"position\": 4}, {\"token\": \"members\", \"token_id\": 1866, \"is_partial\": false, \"type\": \"input\", \"value\": \"0.019191744615941492\", \"position\": 5}, {\"token\": \"of\", \"token_id\": 286, \"is_partial\": false, \"type\": \"input\", \"value\": \"0.010339622629570082\", \"position\": 6}, {\"token\": \"the\", \"token_id\": 262, \"is_partial\": false, \"type\": \"input\", \"value\": \"0.008848150711382893\", \"position\": 7}, {\"token\": \"UN\", \"token_id\": 4725, \"is_partial\": false, \"type\": \"input\", \"value\": \"0.03917278441773641\", \"position\": 8}, {\"token\": \"and\", \"token_id\": 290, \"is_partial\": false, \"type\": \"input\", \"value\": \"0.009507391694795964\", \"position\": 9}, {\"token\": \"also\", \"token_id\": 635, \"is_partial\": false, \"type\": \"input\", \"value\": \"0.013478366030062408\", \"position\": 10}, {\"token\": \"participated\", \"token_id\": 14888, \"is_partial\": false, \"type\": \"input\", \"value\": \"0.025992453743495868\", \"position\": 11}, {\"token\": \"in\", \"token_id\": 287, \"is_partial\": false, \"type\": \"input\", \"value\": \"0.010741043579509047\", \"position\": 12}, {\"token\": \"World\", \"token_id\": 2159, \"is_partial\": false, \"type\": \"input\", \"value\": \"0.07139812859937249\", \"position\": 13}, {\"token\": \"War\", \"token_id\": 1810, \"is_partial\": false, \"type\": \"input\", \"value\": \"0.0697743659751364\", \"position\": 14}, {\"token\": \"2\", \"token_id\": 362, \"is_partial\": false, \"type\": \"input\", \"value\": \"0.019908349999132064\", \"position\": 15}, {\"token\": \"are\", \"token_id\": 389, \"is_partial\": false, \"type\": \"input\", \"value\": \"0.017122166521284368\", \"position\": 16}, {\"token\": \":\", \"token_id\": 25, \"is_partial\": true, \"type\": \"input\", \"value\": \"0.01732435281511976\", \"position\": 17}, {\"token\": \"\\n\", \"token_id\": 198, \"is_partial\": true, \"type\": \"input\", \"value\": \"0.023648667017594296\", \"position\": 18}, {\"token\": \"1\", \"token_id\": 16, \"is_partial\": true, \"type\": \"input\", \"value\": \"0.019408839412626326\", \"position\": 19}, {\"token\": \".\", \"token_id\": 13, \"is_partial\": true, \"type\": \"input\", \"value\": \"0.019146569582943553\", \"position\": 20}, {\"token\": \"Britain\", \"token_id\": 5491, \"is_partial\": false, \"type\": \"input\", \"value\": \"0.07927789533444585\", \"position\": 21}, {\"token\": \"\\n\", \"token_id\": 198, \"is_partial\": true, \"type\": \"input\", \"value\": \"0.02865440084213128\", \"position\": 22}, {\"token\": \"2\", \"token_id\": 17, \"is_partial\": true, \"type\": \"input\", \"value\": \"0.020226373678731157\", \"position\": 23}, {\"token\": \".\", \"token_id\": 13, \"is_partial\": true, \"type\": \"input\", \"value\": \"0.0265337267710824\", \"position\": 24}, {\"token\": \"Germany\", \"token_id\": 4486, \"is_partial\": false, \"type\": \"input\", \"value\": \"0.20594870974494595\", \"position\": 25}, {\"token\": \"\\n\", \"token_id\": 198, \"is_partial\": true, \"type\": \"input\", \"value\": \"0.018683281368537533\", \"position\": 26}, {\"token\": \"3\", \"token_id\": 18, \"is_partial\": true, \"type\": \"input\", \"value\": \"0.041198681548752863\", \"position\": 27}, {\"token\": \".\", \"token_id\": 13, \"is_partial\": true, \"type\": \"input\", \"value\": \"0.04106619741458413\", \"position\": 28}, {\"token\": \"France\", \"token_id\": 4881, \"is_partial\": false, \"type\": \"output\", \"value\": \"0\", \"position\": 29}, {\"token\": \"\\n\", \"token_id\": 198, \"is_partial\": true, \"type\": \"output\", \"value\": \"0\", \"position\": 30}, {\"token\": \"4\", \"token_id\": 19, \"is_partial\": true, \"type\": \"output\", \"value\": \"0\", \"position\": 31}, {\"token\": \".\", \"token_id\": 13, \"is_partial\": true, \"type\": \"output\", \"value\": \"0\", \"position\": 32}, {\"token\": \"China\", \"token_id\": 2807, \"is_partial\": false, \"type\": \"output\", \"value\": \"0\", \"position\": 33}, {\"token\": \"\\n\", \"token_id\": 198, \"is_partial\": true, \"type\": \"output\", \"value\": \"0\", \"position\": 34}, {\"token\": \"5\", \"token_id\": 20, \"is_partial\": true, \"type\": \"output\", \"value\": \"0\", \"position\": 35}, {\"token\": \".\", \"token_id\": 13, \"is_partial\": true, \"type\": \"output\", \"value\": \"0\", \"position\": 36}, {\"token\": \"India\", \"token_id\": 3794, \"is_partial\": false, \"type\": \"output\", \"value\": \"0\", \"position\": 37}, {\"token\": \"\\n\", \"token_id\": 198, \"is_partial\": true, \"type\": \"output\", \"value\": \"0\", \"position\": 38}, {\"token\": \"6\", \"token_id\": 21, \"is_partial\": true, \"type\": \"output\", \"value\": \"0\", \"position\": 39}, {\"token\": \".\", \"token_id\": 13, \"is_partial\": true, \"type\": \"output\", \"value\": \"0\", \"position\": 40}, {\"token\": \"Norway\", \"token_id\": 15238, \"is_partial\": false, \"type\": \"output\", \"value\": \"0\", \"position\": 41}, {\"token\": \"\\n\", \"token_id\": 198, \"is_partial\": true, \"type\": \"output\", \"value\": \"0\", \"position\": 42}, {\"token\": \"7\", \"token_id\": 22, \"is_partial\": true, \"type\": \"output\", \"value\": \"0\", \"position\": 43}, {\"token\": \".\", \"token_id\": 13, \"is_partial\": true, \"type\": \"output\", \"value\": \"0\", \"position\": 44}, {\"token\": \"Saudi\", \"token_id\": 7420, \"is_partial\": false, \"type\": \"output\", \"value\": \"0\", \"position\": 45}, {\"token\": \"Arabia\", \"token_id\": 9671, \"is_partial\": false, \"type\": \"output\", \"value\": \"0\", \"position\": 46}, {\"token\": \"\\n\", \"token_id\": 198, \"is_partial\": true, \"type\": \"output\", \"value\": \"0\", \"position\": 47}, {\"token\": \"8\", \"token_id\": 23, \"is_partial\": true, \"type\": \"output\", \"value\": \"0\", \"position\": 48}, {\"token\": \".\", \"token_id\": 13, \"is_partial\": true, \"type\": \"output\", \"value\": \"0\", \"position\": 49}, {\"token\": \"Norway\", \"token_id\": 15238, \"is_partial\": false, \"type\": \"output\", \"value\": \"0\", \"position\": 50}, {\"token\": \"\\n\", \"token_id\": 198, \"is_partial\": true, \"type\": \"output\", \"value\": \"0\", \"position\": 51}, {\"token\": \"9\", \"token_id\": 24, \"is_partial\": true, \"type\": \"output\", \"value\": \"0\", \"position\": 52}, {\"token\": \".\", \"token_id\": 13, \"is_partial\": true, \"type\": \"output\", \"value\": \"0\", \"position\": 53}, {\"token\": \"Romania\", \"token_id\": 23356, \"is_partial\": false, \"type\": \"output\", \"value\": \"0\", \"position\": 54}, {\"token\": \"\\n\", \"token_id\": 198, \"is_partial\": true, \"type\": \"output\", \"value\": \"0\", \"position\": 55}, {\"token\": \"10\", \"token_id\": 940, \"is_partial\": true, \"type\": \"output\", \"value\": \"0\", \"position\": 56}, {\"token\": \".\", \"token_id\": 13, \"is_partial\": true, \"type\": \"output\", \"value\": \"0\", \"position\": 57}, {\"token\": \"Japan\", \"token_id\": 2869, \"is_partial\": false, \"type\": \"output\", \"value\": \"0\", \"position\": 58}, {\"token\": \"\\n\", \"token_id\": 198, \"is_partial\": true, \"type\": \"output\", \"value\": \"0\", \"position\": 59}, {\"token\": \"And\", \"token_id\": 1870, \"is_partial\": true, \"type\": \"output\", \"value\": \"0\", \"position\": 60}, {\"token\": \"there\", \"token_id\": 612, \"is_partial\": false, \"type\": \"output\", \"value\": \"0\", \"position\": 61}, {\"token\": \"is\", \"token_id\": 318, \"is_partial\": false, \"type\": \"output\", \"value\": \"0\", \"position\": 62}, {\"token\": \"a\", \"token_id\": 257, \"is_partial\": false, \"type\": \"output\", \"value\": \"0\", \"position\": 63}, {\"token\": \"difference\", \"token_id\": 3580, \"is_partial\": false, \"type\": \"output\", \"value\": \"0\", \"position\": 64}, {\"token\": \"between\", \"token_id\": 1022, \"is_partial\": false, \"type\": \"output\", \"value\": \"0\", \"position\": 65}, {\"token\": \"the\", \"token_id\": 262, \"is_partial\": false, \"type\": \"output\", \"value\": \"0\", \"position\": 66}, {\"token\": \"two\", \"token_id\": 734, \"is_partial\": false, \"type\": \"output\", \"value\": \"0\", \"position\": 67}, {\"token\": \"countries\", \"token_id\": 2678, \"is_partial\": false, \"type\": \"output\", \"value\": \"0\", \"position\": 68}, {\"token\": \"'\", \"token_id\": 6, \"is_partial\": true, \"type\": \"output\", \"value\": \"0\", \"position\": 69}, {\"token\": \"leaders\", \"token_id\": 2766, \"is_partial\": false, \"type\": \"output\", \"value\": \"0\", \"position\": 70}, {\"token\": \"'\", \"token_id\": 6, \"is_partial\": true, \"type\": \"output\", \"value\": \"0\", \"position\": 71}, {\"token\": \"countries\", \"token_id\": 2678, \"is_partial\": false, \"type\": \"output\", \"value\": \"0\", \"position\": 72}, {\"token\": \".\", \"token_id\": 13, \"is_partial\": true, \"type\": \"output\", \"value\": \"0\", \"position\": 73}, {\"token\": \"To\", \"token_id\": 1675, \"is_partial\": false, \"type\": \"output\", \"value\": \"0\", \"position\": 74}, {\"token\": \"be\", \"token_id\": 307, \"is_partial\": false, \"type\": \"output\", \"value\": \"0\", \"position\": 75}, {\"token\": \"fair\", \"token_id\": 3148, \"is_partial\": false, \"type\": \"output\", \"value\": \"0\", \"position\": 76}, {\"token\": \",\", \"token_id\": 11, \"is_partial\": true, \"type\": \"output\", \"value\": \"0\", \"position\": 77}, {\"token\": \"their\", \"token_id\": 511, \"is_partial\": false, \"type\": \"output\", \"value\": \"0\", \"position\": 78}], \"attributions\": [[0.043997705787069914, 0.05279682935976433, 0.013334228493920136, 0.014162852970502491, 0.01911611933982847, 0.019191744615941492, 0.010339622629570082, 0.008848150711382893, 0.03917278441773641, 0.009507391694795964, 0.013478366030062408, 0.025992453743495868, 0.010741043579509047, 0.07139812859937249, 0.0697743659751364, 0.019908349999132064, 0.017122166521284368, 0.01732435281511976, 0.023648667017594296, 0.019408839412626326, 0.019146569582943553, 0.07927789533444585, 0.02865440084213128, 0.020226373678731157, 0.0265337267710824, 0.20594870974494595, 0.018683281368537533, 0.041198681548752863, 0.04106619741458413], [0.05138954599940594, 0.037793885181457425, 0.027751424935043865, 0.02214745181436395, 0.03242480245913623, 0.022454175136460246, 0.018376503382725357, 0.017530394562592456, 0.025818675600059203, 0.015568078622249716, 0.019781163316411055, 0.021228063196512742, 0.01401622591237479, 0.02187035654919198, 0.02129913579617713, 0.01816357566881502, 0.017907583867302013, 0.023719164340167697, 0.048719746693997236, 0.03464018835893897, 0.022721283204313953, 0.07704863280396887, 0.08347923946089555, 0.0222559544604399, 0.02178109192580651, 0.053811157193769873, 0.07942531259864768, 0.0215785243387686, 0.019456525238205524, 0.08584213738180053], [0.03309991077826574, 0.03523990246644977, 0.021611381950137544, 0.02258056221711854, 0.019607054500703925, 0.017799120839218946, 0.017920671424572213, 0.010542186729105023, 0.02107722060283072, 0.013538349367432005, 0.015433644814543223, 0.01981342138916854, 0.010232929520821612, 0.021477086526859448, 0.024168703226658483, 0.031555069297062026, 0.01828136809422737, 0.03170054115391029, 0.038887348290073634, 0.07783236791015317, 0.02772662196366824, 0.02333699901788043, 0.025983481499163658, 0.12407592216826462, 0.021976864203329814, 0.04018055328252321, 0.022231666774976445, 0.14408370849326696, 0.011951144808397835, 0.04479745105361523, 0.011256745635601249], [0.06445754680096116, 0.04064327567860696, 0.03364866432990798, 0.02316890813572082, 0.02730630918655419, 0.022072364587079174, 0.015580194488913705, 0.011989486571091536, 0.02240892002177913, 0.015223665096233303, 0.017425739615464193, 0.02222012444486051, 0.013236946598479448, 0.022353464333529853, 0.02228407413291266, 0.018327680417533587, 0.015161072448886816, 0.020455688921601038, 0.022687690700303707, 0.0312816426721385, 0.04132444855895057, 0.03312230201289935, 0.026193685811450762, 0.041900336955785586, 0.06866767407371964, 0.024186587877213932, 0.023985003709552963, 0.04259978666991834, 0.054392811492783855, 0.027972727256599588, 0.04405639931037087, 0.0896647770881963], [0.043872031999747395, 0.07266104638425684, 0.018331001536682733, 0.014864657137579828, 0.01835763269177846, 0.0200641604744196, 0.011125240059551834, 0.009999169872732968, 0.03304913001090293, 0.010672210355308008, 0.0136958975528172, 0.024716341136336667, 0.00939097100374938, 0.0320363423736146, 0.02672910600732047, 0.018412428301939072, 0.013732955501446825, 0.022988027908131977, 0.03506917892216686, 0.026438141079019678, 0.02497941562883644, 0.0727989706326913, 0.018521271761238706, 0.017659392114913373, 0.014052885897660907, 0.10697947839486363, 0.017043530032197586, 0.018958121724371377, 0.01540096676041814, 0.09738913454830951, 0.028409088118961826, 0.04429708854375604, 0.047304985532277834], [0.054098265464722024, 0.037593059669669825, 0.026834828185770276, 0.022009515747670287, 0.030898706641612667, 0.02241300511853724, 0.01815158403237003, 0.01723025096136093, 0.026167008621210554, 0.01563240873558018, 0.018715000547037525, 0.019476393868695086, 0.013331437097404869, 0.019957325204820263, 0.020197399012613432, 0.017213742435810028, 0.016338984568130325, 0.0223099085887734, 0.04081918254554684, 0.02758479025518258, 0.02030490357416866, 0.04970358712828434, 0.06715428179839127, 0.019813348480415775, 0.020963277841046447, 0.034193282156187284, 0.058881366351829924, 0.020068241389238198, 0.01731027117121197, 0.02725117386203524, 0.052511813926861745, 0.02289414308030274, 0.019911808768439485, 0.08206570316906844], [0.03149739247818305, 0.029351732104428648, 0.018974983305772127, 0.019747120931306643, 0.01721368104921022, 0.01518404529193524, 0.017523636580311603, 0.008862178382722513, 0.018659402952088285, 0.012514146572349368, 0.0135310660168181, 0.017471465069057637, 0.008396114592689869, 0.018070922077405575, 0.019131875768109437, 0.027828134065244533, 0.018510311394180523, 0.026000757328287435, 0.03664062816352753, 0.06309318788659887, 0.025581019543264423, 0.026388831703178357, 0.024842470478887067, 0.07884262418486437, 0.01304908214867464, 0.0285533171703091, 0.01978785876406428, 0.0913440787778638, 0.012930279185133507, 0.02366425917406059, 0.02192080158912593, 0.1425241812302372, 0.010491778315395306, 0.028157772499885124, 0.013718863224829165], [0.054907596399680327, 0.03705530556897152, 0.03061041700631873, 0.021633175309914883, 0.026035460521276338, 0.021067402882312344, 0.015399350752711179, 0.011033693146093305, 0.02201444130028902, 0.014079162351451279, 0.016270174576301744, 0.02039611639366183, 0.012336609212322259, 0.02234377848645198, 0.021455821429708886, 0.016728848705551993, 0.014689486054188017, 0.01724928566807208, 0.018520643346716527, 0.024440324463821068, 0.030999023615200464, 0.027613270513394874, 0.023212382815176597, 0.029210870292859074, 0.048579380527305545, 0.022787335002588647, 0.02090279233821785, 0.03169061963128564, 0.04892371948842418, 0.024706343828796818, 0.025012881861132163, 0.03995368233686052, 0.04538134072448018, 0.023680215866629363, 0.03678850992340135, 0.08229053765843135], [0.03530720892785638, 0.05190929415694171, 0.013663174963368566, 0.012139229620658302, 0.015074876584939318, 0.015799226389802627, 0.00946432393464111, 0.008352575929284607, 0.02903233843778949, 0.007540837499947681, 0.009569202862006182, 0.018248718134649126, 0.007211788221646478, 0.03073006965712032, 0.027374132926324492, 0.011438863314953102, 0.01484054468073643, 0.014358847145854078, 0.015487199108061437, 0.01251756385795041, 0.011510868863150914, 0.05879945992023753, 0.013224126213531275, 0.010598875753937512, 0.010580986568380418, 0.06274133805394236, 0.01539332646494732, 0.017569869198508958, 0.01627420773712286, 0.09763283925158706, 0.018774960886835192, 0.025514917059846244, 0.019584068412546778, 0.1641205522854839, 0.02479067706461572, 0.037937990605335516, 0.034890919305458505], [0.05105032274473257, 0.03618765095364908, 0.02746233445929451, 0.022429870526038488, 0.02921882893535964, 0.021267269820785306, 0.017265997502123553, 0.016494486210389722, 0.026088198849323622, 0.015017266920125021, 0.01718125637036195, 0.017936070301985164, 0.01186735054255779, 0.018778971428060492, 0.019597865737457983, 0.015597747953209694, 0.01478278403555594, 0.01906063885188149, 0.03315551001544023, 0.023119107088916496, 0.01889918859768866, 0.042180960071015135, 0.05363792740998011, 0.020080546273484417, 0.020486231681399146, 0.031733088195942, 0.04741088498119934, 0.022443568349876677, 0.01569380469344029, 0.026066660236591023, 0.03589194891237032, 0.022073193518332562, 0.011707349962021886, 0.01951655886577128, 0.03547277307253283, 0.01658258219940826, 0.021292141984545102, 0.08527106174715218], [0.029767377068229184, 0.028038690099860958, 0.015551157129139757, 0.016134299465492538, 0.015509254947832991, 0.013655081758922431, 0.015199688422627197, 0.007737541845361066, 0.01720423335068886, 0.011455003525851683, 0.012550319085820074, 0.015863720654345274, 0.007779732736222604, 0.015127759370736906, 0.017285140503926585, 0.02199005284423685, 0.017311003857669996, 0.019324671833342463, 0.03169374394755088, 0.04098325023671406, 0.021938320774964902, 0.01938086250599444, 0.023089325013665007, 0.05370122706339285, 0.013671591031803177, 0.020238392300705406, 0.017639139555257713, 0.06987215944883707, 0.011844546665966271, 0.018900627009356557, 0.01837861541639401, 0.08432658409548308, 0.014566151992179633, 0.018084820034302625, 0.024021188482875648, 0.13672776073650575, 0.012733429412719124, 0.03578108760235868, 0.014942448172665795], [0.05033044165472582, 0.03608124329407309, 0.02708605360702024, 0.02059806658607744, 0.02583032002921757, 0.018563243055294516, 0.015710108530572406, 0.010301987235042035, 0.019809376718914834, 0.013460911133677419, 0.015128276010652291, 0.016964155379078784, 0.011484101101385136, 0.019315925870093755, 0.018203497910145874, 0.01458831844356176, 0.012998667076434997, 0.015332221796481747, 0.015615991295515675, 0.02022458170144622, 0.0267824502438246, 0.022401836207732537, 0.019085927231694104, 0.02642260484571025, 0.04204176770844984, 0.02190541266169591, 0.0187139132084011, 0.026845297556470527, 0.03918304787689366, 0.02565661354927411, 0.019622783112740964, 0.03133811007708603, 0.03985739936435526, 0.024642275609177304, 0.02513298077763006, 0.023681878738740652, 0.03224878464756768, 0.02694820034795473, 0.033597089823106906, 0.07626413798208218], [0.03326693609647025, 0.05480161303995411, 0.01224976730184389, 0.009070151224606155, 0.015424037588693736, 0.016257982609822908, 0.005989675222616464, 0.005720458168788786, 0.030458779909719194, 0.006380258161413513, 0.010971441246218688, 0.020013909364437494, 0.006482791116866145, 0.0274368833547782, 0.022591202517687082, 0.014522612928568575, 0.009959766215150566, 0.012461161205880637, 0.014767809130581159, 0.014028654065442524, 0.010441838647838224, 0.03487995554744828, 0.010764807430494185, 0.00969269656705377, 0.010534542459658028, 0.061989443805680666, 0.00990830497608927, 0.010066218957767114, 0.011230608845030158, 0.053735118160163166, 0.018919099463944093, 0.030626202145939207, 0.024570525468932965, 0.09887649919610488, 0.014059288403175833, 0.018520345297466278, 0.017580668576733977, 0.1113652595956264, 0.02247613494365057, 0.043075594831858965, 0.03383095620980393], [0.05149287411775152, 0.03247091979957978, 0.024905230278072444, 0.02162020106957639, 0.03151744457991246, 0.01986844497902911, 0.0164969481968137, 0.01612507909932099, 0.023885089914727577, 0.01456266283857016, 0.016171043792272903, 0.016635154623351182, 0.01116253518157636, 0.018437425005071183, 0.01885626084922066, 0.014814854759669868, 0.013773327111915352, 0.01787070292773558, 0.02877512887853803, 0.02190807099634932, 0.01824416035874907, 0.03951488725550455, 0.04338905968274079, 0.01987083785684605, 0.01929105827020177, 0.03380820316874013, 0.04065238268032863, 0.02148263907290102, 0.014778257570047667, 0.028587991154114253, 0.0299723161658382, 0.022520093516179843, 0.010697091616854696, 0.01780969137477527, 0.024724900276431278, 0.014925598284500505, 0.010480038276006437, 0.017179253004638545, 0.027084742032038932, 0.015061804513599168, 0.01957091937322499, 0.07900467549668377], [0.027445640685188715, 0.02127379485357147, 0.014543667978502426, 0.01376289145962694, 0.013390674137953617, 0.012111675261895624, 0.013567348953090932, 0.006706097874863203, 0.015267221007189963, 0.011731651128824525, 0.013355135032579865, 0.013852400421171281, 0.007510365863506676, 0.013399366350032029, 0.014519392400192498, 0.01976401626098247, 0.014407651187123813, 0.01942575105407402, 0.030850845075858144, 0.03394676859429064, 0.021801853920028452, 0.015366855512602293, 0.01978830957835672, 0.04477825174366179, 0.014765714767542387, 0.017244275911849228, 0.014874950506473156, 0.06425683220447866, 0.009889931105745122, 0.012601198564697913, 0.015604048379248827, 0.07258725645337194, 0.007315155796324593, 0.011443366329019149, 0.011724603232814143, 0.08429213321392778, 0.007204149408498478, 0.0124324993809141, 0.013163125986454607, 0.10989554518220102, 0.008442382407107095, 0.06832902025209513, 0.011366184582068537], [0.047610384374439006, 0.03798303711949663, 0.025931148107965835, 0.019658568445414654, 0.0268117530725698, 0.018100694884279563, 0.015848970951356445, 0.010690157108069642, 0.019978534463132268, 0.013001398969972398, 0.012881489747736175, 0.015425308218547606, 0.01026151081954419, 0.017355519314942475, 0.016347959154744806, 0.012914463483206075, 0.011389888148444745, 0.013854053626872073, 0.013520012348200246, 0.015571129928801575, 0.019961968108497322, 0.021111526678037864, 0.017870220366136263, 0.018012993956980843, 0.030172337381696397, 0.021107083101592445, 0.01726057975011656, 0.020565503157982615, 0.03228960378964949, 0.024183418185067623, 0.01599668563153925, 0.023925482305881443, 0.02981756503028801, 0.024482159996012956, 0.020885962776546693, 0.019896804770735067, 0.02871766320979284, 0.021213975631931125, 0.027247250870007757, 0.025219878662029106, 0.026622555586396156, 0.030517245704338943, 0.030572391592650922, 0.07721316146835616], [0.025933534496876923, 0.061745696933931865, 0.010158360358166208, 0.007979968197841112, 0.012189894825400772, 0.01150675391107576, 0.007345939819400139, 0.005829189379597612, 0.02824849615914146, 0.005155714225654005, 0.00685423360010455, 0.013981172228120798, 0.005078353666220826, 0.03007986180679445, 0.03133556468305143, 0.009976294580222906, 0.007238410844752285, 0.010946374130754107, 0.01096299835805632, 0.011629532566362398, 0.010549672209564164, 0.03309372159293313, 0.010346941831265626, 0.010737535759443284, 0.010386884501496899, 0.03525143494288585, 0.010604544528635004, 0.012810392865551906, 0.012282214798850093, 0.05619492347225257, 0.012082974559235689, 0.013074692629409296, 0.012174260072470076, 0.10028157926535952, 0.010447540885561175, 0.011648445962937739, 0.009691865426843756, 0.08535068006317477, 0.012099730746696026, 0.012943703428230485, 0.013858533710277988, 0.12412823476130085, 0.012126283457676964, 0.03179464467637719, 0.02186221908004404], [0.019491509512521033, 0.03692466695523028, 0.010623736527758096, 0.008939972744848156, 0.013127162565174103, 0.00979734353211897, 0.006624569272534069, 0.006065707749775923, 0.01633661143367846, 0.0062580392866543886, 0.006296428168710948, 0.009960455429169068, 0.005402441928971489, 0.013588744713807485, 0.017377517616699787, 0.008032301646982837, 0.006324631720691242, 0.009131899533539222, 0.017432664745063022, 0.010247978395895321, 0.010815227762011874, 0.021607866354219855, 0.013089619084150022, 0.008858166106663318, 0.00907372170223923, 0.03968139639606149, 0.010286710915414034, 0.010042243470988872, 0.0088485847613864, 0.034424612485266036, 0.010502659061899369, 0.00975485668889592, 0.00941813160006546, 0.025634407363023172, 0.013804968428299506, 0.009953401102105831, 0.008672181616411622, 0.025067638312458947, 0.01703871217449472, 0.012468311908116193, 0.011361685488014688, 0.045638013355690316, 0.021409196652295587, 0.029386049083386812, 0.023888963298934234, 0.32128829134768266], [0.04959919545871722, 0.03029611692434414, 0.02369187704127911, 0.01932208770725428, 0.02720791672249763, 0.01844821710804069, 0.015671272668510174, 0.014794285387612073, 0.02250976127057828, 0.014302674816213752, 0.014403902831735264, 0.01543967111161353, 0.010298256277842118, 0.016508872804792334, 0.016299699737390427, 0.013069728629714391, 0.011941421723430387, 0.015603994419604575, 0.023988685455352942, 0.01793211125361812, 0.014661982160109697, 0.03064499714034006, 0.03294578690683727, 0.01606592561860532, 0.015216057159037705, 0.027606302156923827, 0.03108974476448973, 0.01887027152739252, 0.012460157795953594, 0.02584543633879254, 0.02350758815781678, 0.02064242337339953, 0.00980996015408765, 0.016711912606897923, 0.019748092678391196, 0.012912793235195367, 0.009742483658147907, 0.017583826402751752, 0.019597044248764725, 0.013771109333644116, 0.01012435800694346, 0.018887353211851733, 0.022790481196079827, 0.014459622031878805, 0.01621387673095899, 0.04451937703498312, 0.09224128701958334], [0.02309100413715511, 0.018852724835454103, 0.011700119590497675, 0.010677051918734397, 0.012484913113401004, 0.009576566275203875, 0.011444896370107887, 0.005450577207075927, 0.011984326701272039, 0.010460892849464342, 0.012627141438366855, 0.01167358308075713, 0.006840443893182764, 0.010721857587301428, 0.01197255724404161, 0.016027109049585937, 0.011216613213698486, 0.015034374408096775, 0.02193918721516356, 0.025967323671640834, 0.017056554997354527, 0.011440787765745803, 0.013768932151495305, 0.03461459176585689, 0.011925663088705447, 0.01194133952502416, 0.011187454182555633, 0.044374503295763694, 0.00877784301995693, 0.011950812784046255, 0.012227870239737535, 0.05197779502296329, 0.007117035000725309, 0.012354609683958385, 0.01118440034726556, 0.08459243854306571, 0.006502891717067787, 0.012342919321084342, 0.010491909129613224, 0.08159399264290558, 0.007459006267975622, 0.023076194452886608, 0.015556791959695145, 0.12403873401038679, 0.006603410152247872, 0.048474211140180336, 0.02706531822032967, 0.010558725771204817], [0.043661486989012926, 0.03460364496005424, 0.022402285301318374, 0.017519920704944278, 0.02616879317368582, 0.016294238809078317, 0.014827017111318072, 0.010185958880318946, 0.022935263523995636, 0.013600608972277961, 0.012322474332313711, 0.014452305314816838, 0.009960106442264307, 0.01502014503054761, 0.013789783455192016, 0.011278330663953931, 0.009606859323353032, 0.01207008324465125, 0.012320559624218385, 0.011252681192446193, 0.014720352042187506, 0.016780659290333923, 0.013945618309398526, 0.013498242320818341, 0.021292554784607474, 0.016942086445144475, 0.014280798886294393, 0.015585316505610479, 0.02162047696871584, 0.02077656185969323, 0.013915081390739272, 0.019271725136150348, 0.02563608026051393, 0.021582806233980102, 0.016478518663731234, 0.016343511141399068, 0.02480512227065521, 0.017979636219884028, 0.02011745821937043, 0.018974012864902072, 0.02460109350377352, 0.020616258090715885, 0.021490299641053746, 0.02440213759311906, 0.02145998436023613, 0.03571474787525351, 0.03324019122397288, 0.031058247356619773, 0.07859787349136382], [0.013294950662220712, 0.02631154289333205, 0.005868094372096729, 0.005987702176434037, 0.006812029479989871, 0.007174657101340085, 0.004449069793805949, 0.0034243555238182184, 0.012873335395746918, 0.0034008153189649054, 0.005707263131657025, 0.007529579404006112, 0.0036502904310080184, 0.011084215322111672, 0.009746603040211797, 0.005958563539653783, 0.004575315040336734, 0.006525021251974876, 0.006932667003152499, 0.005961727507637337, 0.006436721086160286, 0.02130882576235565, 0.006290469430392853, 0.006565120565121178, 0.006535965943044009, 0.05161875036928741, 0.005616864297756512, 0.005789854277416329, 0.008246726372513072, 0.037019439227453675, 0.011643526765242258, 0.014126425382582295, 0.01439273196648784, 0.02802278506361531, 0.01085590791999904, 0.01222817610660602, 0.011765768357583896, 0.050694581114789326, 0.026914169014065077, 0.059098584576493564, 0.03898897300680498, 0.19867703520039176, 0.011256318448768019, 0.011877414839278498, 0.011235770659300169, 0.04783603433320106, 0.016774332335875754, 0.013047465034166225, 0.07058253415576521, 0.02728492999798341], [0.05483512049201897, 0.026738153930303144, 0.021476496221086144, 0.017695411830994812, 0.03085578481938312, 0.016896944879664488, 0.014168009141508585, 0.01418640939842998, 0.02051968498605341, 0.013445680548814214, 0.014376642782336517, 0.014510052889417716, 0.009973544643478386, 0.01598424254602312, 0.01632492853816507, 0.012470064721843832, 0.01154643645708966, 0.01485908736515495, 0.022142878558545135, 0.01778255587638255, 0.014625685310967581, 0.030769316335546013, 0.03085617893161118, 0.016768700192437046, 0.01593266442083257, 0.028042857550309414, 0.030537597226532973, 0.018310388620458626, 0.013234058556836223, 0.025198060022619748, 0.023717748643145867, 0.02006155050663862, 0.010493723311748717, 0.016255135394924455, 0.0196470583000716, 0.014043560547592263, 0.00820763671194192, 0.016234251259537806, 0.018943628660861987, 0.01395916418477858, 0.009382522900064945, 0.022247252429359772, 0.01815475170363633, 0.01409421242708023, 0.00772856310773342, 0.01791344055757777, 0.017083178577064703, 0.01918793151878332, 0.015335090896956227, 0.020326028459553593, 0.07191993210610266], [0.025223690851909533, 0.01676086167423141, 0.012632217945292191, 0.010316875421084639, 0.011775478034183618, 0.00949107507872719, 0.010417883468964148, 0.005546812051628161, 0.012970344992265688, 0.010042947357884571, 0.012559962869221682, 0.011111958849695385, 0.006921402306161553, 0.011054648829955294, 0.012211918513942922, 0.014224488372274968, 0.009868159459680885, 0.013533050738698035, 0.020260040875227547, 0.0220550862744234, 0.015363303747757835, 0.012427061362147725, 0.014118744767289824, 0.02960152323080558, 0.012476992229952365, 0.0144640236323745, 0.010978684924413607, 0.040781177450927554, 0.010149132856566335, 0.011352766052693645, 0.012403774872712235, 0.04363531336779051, 0.00863469656755558, 0.010383456853552332, 0.010328362371744825, 0.05896817811427613, 0.006975867427188669, 0.010722876414898894, 0.011739803639570019, 0.07770174772231316, 0.006280180033546565, 0.015827227816478197, 0.011376802742516253, 0.10343003829725696, 0.0059766011664905295, 0.011706514020381186, 0.008443861869778075, 0.016008196449040637, 0.09361569963003387, 0.006099146152769368, 0.028545557994397494, 0.010503782255326648], [0.04264765243926063, 0.032426333630473536, 0.019767574952480316, 0.015025709691555703, 0.024155097060541753, 0.014279364059364127, 0.01314209518952626, 0.00900854113993617, 0.020810679782487223, 0.012630108534942439, 0.0111431153868434, 0.013269350729322957, 0.009219853393403704, 0.014633880196433267, 0.013511870755383387, 0.010231473016575027, 0.008624648718068919, 0.011130983120219684, 0.012660789784659036, 0.01054940961983539, 0.01447148738113516, 0.01603471370983365, 0.011980750101723007, 0.01359422257938098, 0.02023603761168711, 0.015910723638893245, 0.012940050619080658, 0.01564572202339746, 0.022754833865267953, 0.01991567061180011, 0.014087653239256167, 0.018614841350015694, 0.02757642407369984, 0.01995523133188864, 0.01579662186128619, 0.014911024464164485, 0.02399048083124457, 0.0162666170426471, 0.016585694850116364, 0.014964456143791167, 0.020517056198805436, 0.018489254651760146, 0.01634760991447104, 0.01814472615119492, 0.017975008800686268, 0.02326683488495412, 0.023392628279005373, 0.019562333869358964, 0.02544343914593521, 0.01726575712844152, 0.030392731382610477, 0.027310237033842864, 0.07679059402731105], [0.022079527515057127, 0.04610360276635886, 0.008546146502320395, 0.00786026839926648, 0.009366011938899107, 0.01030730820049604, 0.005775205260635007, 0.004955928369691007, 0.024381332610158346, 0.005376327542121338, 0.0062892372750463915, 0.011768869030809915, 0.005098215600679083, 0.026773418382947205, 0.029137973644258897, 0.008337995679924258, 0.005989474706751806, 0.006526881237868588, 0.009169328025603224, 0.008138005792985353, 0.007190206969482533, 0.031283933806636986, 0.007582597130955199, 0.006693446273570878, 0.0063989631437176946, 0.03097228204478845, 0.007126497139186667, 0.007958365185285194, 0.0076077987666100305, 0.04116234636818765, 0.009330336328383867, 0.008914203617677991, 0.007421371876225588, 0.0612071170275527, 0.007101676073655203, 0.007999948817245202, 0.007631458599756968, 0.055581530059114835, 0.007720467448387566, 0.009904741487303975, 0.008671354182026572, 0.06519313532982764, 0.012193180887815552, 0.015581002105706857, 0.00873184163630874, 0.056774624303863014, 0.01423623608706565, 0.020333237181161472, 0.014345560879199517, 0.013357219792769551, 0.09696611644765343, 0.013702002629175973, 0.03851512877708502, 0.02262901311473752], [0.05828199828290078, 0.026296028778649158, 0.021080450778121086, 0.016641544599880036, 0.029584757950182453, 0.016287727243642764, 0.013913465504562475, 0.014066890248863779, 0.02007174595510629, 0.013481951889016337, 0.01403798729998707, 0.014172373459649348, 0.009925957999311202, 0.01612319728198673, 0.015443764674054308, 0.011999143455857442, 0.011154640642335963, 0.014418868914600034, 0.02064392269273332, 0.016656360068353304, 0.013202772645709028, 0.02842688862961915, 0.026720327102779325, 0.015567187375976442, 0.014231442724841366, 0.025576807352072566, 0.026467968029344004, 0.01688324795863832, 0.012717495462103975, 0.024127757506601958, 0.020921470716092516, 0.020094069067388712, 0.010589992823797583, 0.017137618051399288, 0.01809396095317365, 0.014298116448645797, 0.007871008105034456, 0.016177602805666776, 0.017463138142352702, 0.013872665972672546, 0.008282146156697702, 0.017476308915266244, 0.0162843601782761, 0.013446927233899286, 0.007136825867987136, 0.016430650420086193, 0.01736302072210373, 0.01403681013879652, 0.01490373286558524, 0.006666033943237545, 0.0151095755035113, 0.01612602973439744, 0.011728078188717137, 0.017731913781412256, 0.07255327075632215], [0.020197467505954057, 0.014722516399887637, 0.01028530329698659, 0.00873825990864531, 0.009536811070795808, 0.00786260338964792, 0.008812908181756096, 0.00443141390943734, 0.012367405776452404, 0.008687663406968974, 0.010279503958127002, 0.009252579741595662, 0.005899829185336407, 0.009163291335587067, 0.01131709042651437, 0.0128515960614211, 0.009397801780400157, 0.011956049405336216, 0.019549035438358345, 0.02070279858504166, 0.013314260190766373, 0.012510477571967502, 0.01266078190448299, 0.026279224795561787, 0.010532972988194661, 0.010024447154495362, 0.009407920223480356, 0.033187216182731745, 0.0083668573515858, 0.009799580306487069, 0.009878207234769606, 0.03597592753268993, 0.006995473518207548, 0.011050532847300851, 0.008642334888943403, 0.04024361286706393, 0.005465843524782019, 0.011018669917248883, 0.008881512296061884, 0.06169972992162269, 0.005387853194672141, 0.014604888600147487, 0.008903942584655666, 0.0737366077354924, 0.005629345631092148, 0.011125035787079551, 0.007044886943442405, 0.009980532564341792, 0.05679360825082414, 0.007951048219185316, 0.019590280758221886, 0.017545107146841637, 0.09396868982791455, 0.00812944583403423, 0.06900393394822758, 0.018657280991132532], [0.04037649448872502, 0.027458253302482936, 0.018322824071808186, 0.014297613589943917, 0.02290040728669767, 0.013164579989114376, 0.011733234433618067, 0.00853800601323198, 0.018905436895667056, 0.012757044327376895, 0.010957256455393454, 0.012552118795510254, 0.008653518227892652, 0.014465611874642407, 0.01296921283378327, 0.00968906652727293, 0.00821657246551321, 0.010216048548579834, 0.013369426892531861, 0.01038816393012041, 0.014308344990570713, 0.014779574273897332, 0.010856972106095257, 0.013119805649008597, 0.018068459200772442, 0.014771267240850577, 0.011357888505416587, 0.015674312427691607, 0.021296832543437838, 0.018995197379450504, 0.013172038794912121, 0.018616274734829533, 0.027096915471106455, 0.018594348303344537, 0.015029085327661095, 0.014627079987429892, 0.024952784601378255, 0.015291303404324013, 0.01421305207444862, 0.013147711744865448, 0.019003381395900222, 0.016168351353497666, 0.013420578756140231, 0.015122774523662647, 0.017218888550045882, 0.019013072159200266, 0.019009523077696103, 0.015432865878036656, 0.019815184705804, 0.01676128885193964, 0.018281452792621073, 0.01810653296355183, 0.02167067037556361, 0.017971909716734673, 0.030935707085703402, 0.026413762540465232, 0.06775391556203911], [0.02729900315366861, 0.04345466589646284, 0.008653472503906808, 0.007931341228220177, 0.01185283633446217, 0.013046618878579042, 0.005839229277849417, 0.005262416687239912, 0.026289041391319642, 0.005364900501031712, 0.006663450126643107, 0.012377648104262305, 0.005488009614088221, 0.019847018374322397, 0.017811796377019344, 0.01207645144387568, 0.00908066567821089, 0.009504959406377286, 0.011475476398575565, 0.01041391229993271, 0.010064516872600156, 0.03162101619719251, 0.007867445771672676, 0.008782808064899663, 0.007966868456006238, 0.023992083891351153, 0.008338768912001832, 0.007373260195476124, 0.006677250258327855, 0.01928865181757439, 0.007788556907826076, 0.009708333934128874, 0.009354514137724795, 0.026412476994458322, 0.007045150975899101, 0.009238889384834428, 0.007315768760192058, 0.03288967677921295, 0.008133749792817195, 0.007293645212159694, 0.00817922061759694, 0.037118716560619554, 0.010544306477115913, 0.010932064231783506, 0.00915569986153804, 0.055856493298781756, 0.014247651684422321, 0.00839701403067547, 0.008578640379660645, 0.007359558644002997, 0.0468010962105251, 0.01092240684908455, 0.01974244021318248, 0.015881759557241804, 0.10742277060785398, 0.01923352910478813, 0.040886655527653235, 0.04185362915106953], [0.05490198070811269, 0.025535043046110383, 0.022103341159984923, 0.01743665046087792, 0.02542145581132973, 0.016132306257432536, 0.013531456817729399, 0.013638483255505386, 0.019962390444726304, 0.012791658558051904, 0.012969143455412016, 0.013422068258217434, 0.009229386254931362, 0.015112522905053664, 0.014836465349781721, 0.011093154593699521, 0.010355943474020817, 0.013124844813825684, 0.019160035952960442, 0.015118029002780706, 0.011822979760977964, 0.02732401974669919, 0.025720899072193226, 0.014337408470048517, 0.013398377918448301, 0.024575081543529685, 0.024641013946809537, 0.01651399987340794, 0.012071494017891813, 0.022846725767649234, 0.019516566831988446, 0.018859501489724713, 0.010100974182692344, 0.015380163489632417, 0.016801595364990114, 0.013907122305614824, 0.0076247968069394646, 0.014113526077561308, 0.016036231175269585, 0.012887422159828367, 0.0070535928453306085, 0.014447294540375, 0.014438615882769009, 0.012035570004471726, 0.006461191175194903, 0.014000633147179215, 0.015788858307434827, 0.01223741936002134, 0.013391475355944298, 0.006551178689476814, 0.013372632204943525, 0.012368374471878241, 0.012758651950600223, 0.007818717572656094, 0.016845106796316994, 0.016668629341276428, 0.015433921504148202, 0.019268039847407444, 0.07470383642013367], [0.02150939217063292, 0.02678536337393428, 0.011297064462332829, 0.009110054200516804, 0.012910447774691226, 0.010232803424981637, 0.006113848658676381, 0.005554897103288789, 0.014367397597696766, 0.006226828741384225, 0.010040375069500295, 0.01356206396475972, 0.00558876805362567, 0.016130689804561005, 0.016255738216314212, 0.011705575929852214, 0.013984440639942823, 0.030000010478500965, 0.023581494248889452, 0.014932619541689899, 0.009495586372675911, 0.01872611612665231, 0.011853688065808209, 0.011133161722434495, 0.00673013374215218, 0.011361136845596082, 0.009703166128902306, 0.010912232041464642, 0.0062887729122764946, 0.012814041923324231, 0.009290461112389401, 0.012422092897682757, 0.007034952292177928, 0.017767244542948056, 0.012057494607536946, 0.01198305061828951, 0.00754276701449598, 0.017301576247318585, 0.01403115096890062, 0.012285215637495656, 0.008302574125771942, 0.01440468849362769, 0.008739755835051096, 0.01685516268387264, 0.009249278485669456, 0.01798822421120643, 0.012290684234044506, 0.012708688867217936, 0.029682246909983077, 0.00900878367407261, 0.015534018647123567, 0.014613378709485208, 0.05567215960100243, 0.009724687639643253, 0.02599891929012098, 0.023093337366511927, 0.08386872329991298, 0.019039305670468104, 0.07077346897342517, 0.031827998005494525], [0.026040078347512798, 0.03515492365546772, 0.014315559086599894, 0.01111446508019608, 0.014628216322985742, 0.0122680197046101, 0.006635147291192407, 0.005691702359037711, 0.014306366175916322, 0.00906811383746858, 0.010316429924199818, 0.01728576560870188, 0.006585923192414763, 0.018718596121246055, 0.02057783957669786, 0.014524853568733837, 0.015571940049434761, 0.02674794260936219, 0.03162030758597225, 0.009447930247773934, 0.007305876118797032, 0.013432033038866111, 0.008920583559735781, 0.008119241929279458, 0.005399286394782346, 0.012249374315295368, 0.00843906421539709, 0.008459969644990644, 0.004805919952048495, 0.011877091782019351, 0.007912312022659792, 0.008655888857828769, 0.0046342770447864124, 0.011028114215303038, 0.008059395920952872, 0.011485344804066168, 0.00497266105407762, 0.013647770543721773, 0.009565944927307042, 0.011098370216802309, 0.005097284171193221, 0.013991118557383308, 0.008575262040696979, 0.010306414082035698, 0.0055295012742348874, 0.011180932203241224, 0.007982617568847088, 0.01278525623010928, 0.012973899790088757, 0.0072933181829345165, 0.011964714334115062, 0.01926376192134813, 0.018911607828437278, 0.011330650232682612, 0.029098210175891898, 0.028665387783485256, 0.0254516236481621, 0.01890535276658735, 0.04093850647721523, 0.02989396469075492, 0.16917197513631296], [0.030967252835745057, 0.03190957506917923, 0.019452628443778805, 0.013332141101246411, 0.0223306121916119, 0.01645647614454686, 0.008151553831727292, 0.00772876295413909, 0.018920259490144822, 0.013696693819144982, 0.016419160565602352, 0.03803318191520938, 0.007318868182534512, 0.014022592317256943, 0.0176348503823579, 0.014843109466712237, 0.02106879777028197, 0.026628676900107614, 0.02029850145661719, 0.006301758167212852, 0.006242171449003631, 0.010561572749401437, 0.006634768396860575, 0.007794746840344919, 0.004218580616561418, 0.008587304163434143, 0.0058502916370885465, 0.007023124627184217, 0.004523965783961965, 0.008115791333539046, 0.005581879511306011, 0.006872539796138277, 0.0049166478831253165, 0.007869599483871932, 0.0059498313831040485, 0.006266844859156141, 0.004991219372233549, 0.011013394416012897, 0.006643498255069513, 0.00625992412469866, 0.005259908197378396, 0.011215272927096958, 0.0068039063824200646, 0.007182882764225997, 0.005965500420419812, 0.013172169079672925, 0.011514031274332454, 0.009284717268853241, 0.008659163098665656, 0.008451826454376055, 0.01442958099684543, 0.011429645667484603, 0.012456947894097094, 0.011079133701043232, 0.019274714403357818, 0.0156945279553492, 0.02017246999676711, 0.02016126455741168, 0.03291244401718282, 0.029309483554373905, 0.10003253527821099, 0.12410472442318082], [0.040641145746914215, 0.03737044531627467, 0.022632618486218475, 0.01542782334109284, 0.04038755471877397, 0.01646015936265531, 0.007514798574416725, 0.00785453498215662, 0.018449140146929915, 0.009923713544430352, 0.012692511705881915, 0.02810025954704959, 0.005807913255607471, 0.013402526754081849, 0.012467809955010477, 0.008189409629999533, 0.00973802232667934, 0.021803748733527233, 0.013327873390765226, 0.007792361881806682, 0.005512320796207327, 0.012017557419850111, 0.0077212668899626895, 0.006627777838633789, 0.005194473345763272, 0.011389611507916416, 0.009657273028680788, 0.008186164995734109, 0.005168295834533055, 0.011101463996191144, 0.009394552710956853, 0.007894369876933172, 0.0055918670994588885, 0.008944045388851076, 0.00940934460028914, 0.00772334119545275, 0.0056976879157533385, 0.011009992466285581, 0.009655251389556653, 0.008038108983288819, 0.00512485517917126, 0.011115546629818673, 0.008479537838197953, 0.00615393443112612, 0.005086497593944599, 0.010563837078807922, 0.00921584286033018, 0.008225095874280048, 0.006322831889541413, 0.0060237950472634486, 0.01056207412310968, 0.009176119143853518, 0.008481668376604974, 0.01029926236070219, 0.019415721239949026, 0.013611187632842572, 0.0132613835686204, 0.02556211228810208, 0.02831421681797845, 0.02709985727143928, 0.05416900091524749, 0.09104794479531082, 0.09676853836318665], [0.03137118367488788, 0.03534633359282431, 0.01651327184645663, 0.014426425148167324, 0.026275101906044228, 0.018437604085630954, 0.00600486683299287, 0.0077051034596765525, 0.01717178331729774, 0.00681841497491294, 0.011749566186827905, 0.022266175980229393, 0.006189763355491056, 0.01783480845502019, 0.018236481981723156, 0.015550656669567646, 0.013713527489579666, 0.015483138834391908, 0.01739374591647155, 0.008987689282104755, 0.006016067627802847, 0.013931621437519859, 0.007523513507888405, 0.004984547971508063, 0.0035560635079599306, 0.0079512473797502, 0.004676464928112206, 0.00450115562302569, 0.0034542200078463707, 0.007296890038701702, 0.004301906751399961, 0.004869741824707697, 0.0034404463664654246, 0.007145475967121946, 0.004523854423585008, 0.004741413235526233, 0.0036220794782093352, 0.010720580281112295, 0.00461676912427206, 0.0046936084004676115, 0.003792558227448818, 0.010632650201241428, 0.005114642543582273, 0.004762974206067691, 0.0038635006152962126, 0.011664553247071493, 0.00872290572484973, 0.007007653756563809, 0.007343632716273315, 0.005567376108660774, 0.011170806303521748, 0.011107192522134431, 0.012457350983773438, 0.008473628751085385, 0.020733093658767267, 0.017157516327793543, 0.01894818767771674, 0.01667946371059232, 0.032504088171308496, 0.032328052530347165, 0.09514714353149042, 0.09021975398012377, 0.06448607598037624, 0.056071887650632056], [0.026545994232397518, 0.025517627890520304, 0.012694475439186628, 0.010451968299065154, 0.015106457922738254, 0.011357797538884445, 0.005568351651233947, 0.005073784916043294, 0.011284471742139039, 0.004574516411967053, 0.008074504655814357, 0.01678617841603609, 0.006164176084117252, 0.015061172181128044, 0.013253880091582342, 0.010442486526003466, 0.009420073756519208, 0.018257001171130452, 0.012823765394676499, 0.006169027536102287, 0.00491558897247556, 0.008470502889713702, 0.006367899679219456, 0.009008700335431604, 0.004552167253290311, 0.006828766779995063, 0.005636924667568878, 0.006405762395387525, 0.004643094368850946, 0.0074702605841982395, 0.005619832210279311, 0.006079003804275971, 0.004137381111495905, 0.007501923908638846, 0.006231804893785618, 0.00568897182666875, 0.004336177615629713, 0.00843113989599106, 0.006766363559166132, 0.006659308810091257, 0.004862932301383955, 0.010472517095019738, 0.006948215195606711, 0.006912301233259144, 0.005452963422042526, 0.009375163412481997, 0.008926656256092114, 0.009568327666400655, 0.00986557940608374, 0.007143748156322399, 0.012281683247827978, 0.013515135799161032, 0.012441580198713994, 0.008573375793306713, 0.019560014740721016, 0.01632232531391092, 0.014683316087736006, 0.014426234660471302, 0.03388225903470677, 0.028499579764262917, 0.0546288055320756, 0.04937290258749715, 0.034442201176339164, 0.029351176209161643, 0.20811171828997527], [0.044872495897820795, 0.04031359934029199, 0.02413755531019364, 0.01583761841317894, 0.03626392961340562, 0.02117608434210837, 0.009908685605666458, 0.009182176391443538, 0.022351211306839005, 0.007339573657335482, 0.007928580884521853, 0.01626001718969869, 0.005477877530798367, 0.01657025770346684, 0.013639589160727272, 0.008411769829471602, 0.007327837515151953, 0.009017481376398918, 0.009696890463143634, 0.008151778777846262, 0.006425049503305225, 0.01799047623354869, 0.007455619268999348, 0.007070563705176852, 0.005752282669705325, 0.01154668387582454, 0.007560749242119192, 0.007908228577707203, 0.006016656893219617, 0.010472301939508207, 0.007547945775320903, 0.008433945332082337, 0.005453844135441291, 0.008855721244464676, 0.007796006141970614, 0.006708664679242982, 0.005396212965538368, 0.00983557860838067, 0.00877314328741747, 0.00607082494381846, 0.005334404830093343, 0.011963264758770737, 0.008739041287773771, 0.0061107049536114075, 0.005193027902816101, 0.011737331752181147, 0.008940113870551493, 0.009161566584060662, 0.006593405182780344, 0.005787649937816156, 0.012006163530943782, 0.010414958465057824, 0.010100806051925017, 0.007739159874959332, 0.019084162241290007, 0.014468901145824744, 0.011893840304261515, 0.014815189934285867, 0.020863918657778438, 0.016193202011738867, 0.02595255903046031, 0.019195213475471738, 0.01827333632454112, 0.01845232142206922, 0.08842637249275931, 0.1156238746438765], [0.03415839235206846, 0.06355378957130516, 0.015033829061951014, 0.011984222802687764, 0.019780755425422937, 0.023289707661302967, 0.007343137928565417, 0.011625649396396903, 0.021464762685930065, 0.006891900613271825, 0.00727114457751338, 0.020262879530029504, 0.00536939916073725, 0.013649427081274073, 0.012154144534307592, 0.01351898045167704, 0.010013165587232451, 0.011668612944023533, 0.009614290881378032, 0.006286149491020546, 0.006137431868704562, 0.016746289810440605, 0.005901818357508722, 0.014420228763758976, 0.004560130045950232, 0.008834439509467034, 0.004198517859919844, 0.00540551673674205, 0.003230354917155317, 0.007594287835835791, 0.0042342725841311105, 0.004428436347473316, 0.0033866959603181456, 0.006947525021872506, 0.004299576114936518, 0.003869526915271874, 0.003383550827465118, 0.010173456696802244, 0.00396258667990956, 0.0037086377097955286, 0.0028751694796829703, 0.008635674356280097, 0.0038607646587570975, 0.004086721009651303, 0.002846589084192319, 0.011837974160485955, 0.006969289529280135, 0.0046348746827786684, 0.004448279919444555, 0.0038841264014001188, 0.008640983755789124, 0.005423362378035324, 0.006146820026495168, 0.004899395800817976, 0.018694804595970765, 0.006710821879150935, 0.008354676608977075, 0.007416422880628194, 0.018577438712803054, 0.011702260102196126, 0.0326596292850157, 0.020150127900588108, 0.017301501688794685, 0.022285785976918146, 0.1288053271807785, 0.11168746125440557, 0.0661060943891273], [0.036862816430666294, 0.046678926319343526, 0.01365369053055336, 0.010587047686522992, 0.0147704403594764, 0.01522850984195957, 0.005804443737932559, 0.008090255199163733, 0.02731978179186248, 0.005294635386104299, 0.0066189266467667675, 0.01584780312689039, 0.004985281895114811, 0.015795686124756247, 0.015907980676110784, 0.017492387597320146, 0.009699280824632204, 0.011068000426345943, 0.011254053505671937, 0.010366120486844049, 0.005799598778617856, 0.017860999019199825, 0.008339487093491417, 0.01259795798936054, 0.007981115981979724, 0.009032094602227064, 0.004912077420825121, 0.006684431206508133, 0.003926605135758644, 0.007504189800723968, 0.003803913392879538, 0.005045404382303317, 0.0032470683881407583, 0.00689175078924217, 0.004050629749690013, 0.003967774662926997, 0.0032143004614999505, 0.007084987840137315, 0.0046262668298929065, 0.0037419939173159596, 0.0034258464157858057, 0.008976753477240453, 0.004504671005737293, 0.0037405514992799862, 0.0036544893422100952, 0.008916448878872232, 0.005988517774165632, 0.004770747116303235, 0.004223027533330376, 0.004675967648553756, 0.009188687850366471, 0.005271312646100298, 0.005289016647145178, 0.0075752133953079165, 0.014940488100525916, 0.007246477192492955, 0.008109769687436971, 0.01613219949420395, 0.016590465985846188, 0.012054205007698807, 0.035237640292532776, 0.020577910153102275, 0.01680312166573668, 0.027420865171799768, 0.07310572329594826, 0.06402603486925965, 0.043537814870239985, 0.13037731694601742], [0.03830002630801592, 0.03912674422769194, 0.026565701194891555, 0.014953564064117686, 0.019771511139728155, 0.016554459106467825, 0.009429532864707067, 0.008544365518752586, 0.021889134340593776, 0.006446638167446824, 0.007065260110107584, 0.012285118913103178, 0.005289764075351683, 0.012409126741662654, 0.012043354090657366, 0.013976757457108191, 0.0071973476691717525, 0.007961578385690598, 0.006852104095104081, 0.006089276427991308, 0.004052955066106907, 0.009473866109752201, 0.00625499142930668, 0.006674994041736842, 0.004120132851041535, 0.008423643184898365, 0.005954487912844416, 0.0069004737419207495, 0.004341954897909582, 0.008471356517601926, 0.00574994888409812, 0.007386444307533606, 0.004817517170343744, 0.008987520484258322, 0.005493402842550102, 0.0065976685513979855, 0.004535702430265408, 0.008893331193323568, 0.00552759820243956, 0.005806824638591558, 0.004432166157752391, 0.009648014301321586, 0.0055436275360254235, 0.006019899664715834, 0.004405687260528879, 0.01134965960500105, 0.009311340439086728, 0.005909312029882581, 0.005943967453074081, 0.004492136042477002, 0.010659542654143771, 0.0064432805788371085, 0.006736691506564359, 0.005346118889881677, 0.0125783159121419, 0.0073314034626716, 0.007857813083503869, 0.007730931944186789, 0.014926061921189766, 0.011876943331054093, 0.021468930285631443, 0.0196047932002119, 0.012833102900897652, 0.013126169389174953, 0.05883410294916525, 0.056072500613269065, 0.018254549607539184, 0.06091409753556231, 0.1591326603882247], [0.038862193791134585, 0.049462832264114014, 0.014021996047422453, 0.013951799067683183, 0.024929811825179452, 0.03931261878925746, 0.0071666053559327775, 0.008952928744792431, 0.032066855313819996, 0.006494876965091631, 0.007973092013714142, 0.023977853280422616, 0.004483690338493043, 0.013363750449888311, 0.011413534424594906, 0.009747427298696987, 0.007822132581067147, 0.009160053089194677, 0.011976523151233168, 0.006520035391721091, 0.0077441535034229285, 0.012046530922717279, 0.007082591241448662, 0.0059474362982532706, 0.0057358771991950636, 0.006232278409068061, 0.005676068525464432, 0.005238549932700405, 0.005008648723036817, 0.006246557188733273, 0.005069246314613725, 0.005565753774156346, 0.004658612559997153, 0.005738725674719939, 0.005477436434273016, 0.005408949419635662, 0.004550007435100081, 0.006714846974611917, 0.006293367676293966, 0.005522598111155967, 0.0043909319814373435, 0.00842437915681733, 0.0066099089478315045, 0.005436229746382664, 0.004762110517641769, 0.012351636041503642, 0.008023606975432558, 0.008268429823710196, 0.006914217804539494, 0.005280273337281013, 0.007891230982321917, 0.0094494351530208, 0.007601999329895221, 0.006209390054226659, 0.011241171613207332, 0.011831796690587999, 0.005872984522548453, 0.008480130862428466, 0.011300714849363328, 0.019508580810797736, 0.024479089674739187, 0.016735459450815865, 0.017716212975194517, 0.012193383537008494, 0.04256471673008055, 0.033490095609596905, 0.025208182326158776, 0.030684346401460057, 0.06275898138244577, 0.10070152620947238], [0.02588908117382165, 0.0240409364654777, 0.016128967006446032, 0.011100711257994486, 0.013568941184106328, 0.01918272880480768, 0.008886601773305847, 0.007946472789638137, 0.017964605969455795, 0.0064777760836775, 0.00965997148070873, 0.01713983274687909, 0.005383012501622728, 0.009359493514976315, 0.008708456935785251, 0.011492416057571005, 0.01219943716334036, 0.007988921516145796, 0.006779695883137347, 0.0037664283302596122, 0.003317905714108276, 0.006816608346025086, 0.004619160649188237, 0.004422704966953481, 0.003036438067728356, 0.005346776905008646, 0.0043551576369364915, 0.003547623763261508, 0.0029393222999014954, 0.005152438578564656, 0.004257144715131369, 0.004082350506790821, 0.003049769451701343, 0.007755668696291089, 0.004386844353480744, 0.004358642661371146, 0.003123925239265996, 0.008343500672875008, 0.004754655713524384, 0.00595517161022263, 0.0033447974324262355, 0.00871566271401687, 0.004969849228504661, 0.006288790125988346, 0.003940580138358148, 0.01091474164530011, 0.009231853003984585, 0.00569079234559957, 0.006662282924607847, 0.004967218095436615, 0.010078271554739539, 0.0065510519308767945, 0.008732235951209293, 0.005866687418955306, 0.016424812673761904, 0.007527528959265543, 0.008221258419634786, 0.008016538770501222, 0.01391404012676277, 0.012907181040299365, 0.032813836424882746, 0.016576354462735123, 0.01710837255314796, 0.013257624361266422, 0.05343169297750336, 0.059177762589231415, 0.021829461227298914, 0.029158285747467007, 0.05069023815308251, 0.09448884320498196, 0.11121505461068491], [0.02027828631472312, 0.030235725509579484, 0.011526851597080024, 0.007612087264852133, 0.01284215348715019, 0.023063128401503402, 0.005543358613669303, 0.00997954305445347, 0.014294715072449003, 0.005443197397577668, 0.006657714058606199, 0.017671156798979407, 0.003639940898453061, 0.007692876430767936, 0.00941139548663606, 0.007148051330801537, 0.00559425190396555, 0.008886457393355768, 0.008394056107733281, 0.003629316676686575, 0.004203071580436908, 0.008546184285739635, 0.007103967924889758, 0.011101810460959975, 0.003933757942998181, 0.005571578893434077, 0.004716715627584748, 0.0053604792321698775, 0.003701549878642817, 0.006137402067419057, 0.0038287474349088715, 0.00496245551004576, 0.003256351191683883, 0.00647527302808764, 0.003312588286116174, 0.005487682859222591, 0.0029333297352711098, 0.010653064681094485, 0.003406576144496786, 0.006650813922649472, 0.0030533603100388086, 0.011887453964047572, 0.0036744905935161202, 0.007591201938205566, 0.0032347048409162057, 0.01890631766640225, 0.010630686700639777, 0.005428586008608206, 0.007014979697048552, 0.003985367535444288, 0.010862578534563546, 0.0065255216536153375, 0.010222499655162169, 0.004977189326383404, 0.026048761653249018, 0.008097790265309957, 0.007787824729743688, 0.007404003882621313, 0.016489982148891694, 0.00922520717841857, 0.05498236691963623, 0.020704804940350797, 0.009315416472139673, 0.009759144282959546, 0.04403759682144523, 0.046218599984891244, 0.014973544007775166, 0.01507373542243695, 0.019232937966553874, 0.05291713659289561, 0.09497208778159265, 0.10387645603762195], [0.043482435251742856, 0.038375885174138334, 0.02667535406780919, 0.022458271506932005, 0.034185297335360264, 0.017493647638707772, 0.010156927475569136, 0.008221118776534737, 0.01286829559149428, 0.008654950815495464, 0.008018384059699943, 0.011277452581480355, 0.006891177875022129, 0.010808836513491083, 0.010215727559334156, 0.011449585232511456, 0.007274672761924161, 0.010114243451323016, 0.00899299010318747, 0.007112998860122818, 0.006965003151806529, 0.011522256937392597, 0.0075175481286135215, 0.007883931960222645, 0.0065571215945587355, 0.010152921271967033, 0.007465017186235508, 0.008833663524224268, 0.007797511526721947, 0.011166715283245254, 0.007958124773025068, 0.008500334843548674, 0.0073392820036172635, 0.009229523284099853, 0.007529192252741822, 0.007143324600874221, 0.007063571182374134, 0.009794042985139903, 0.0076942069152871675, 0.007389689519391636, 0.006835783316086819, 0.010274330818976447, 0.006918351222077895, 0.007166839488397864, 0.0071062530709849765, 0.0098923945779556, 0.009112527725184057, 0.006996998229604903, 0.006392745556131351, 0.007062039345211198, 0.009059637099741297, 0.0066225350484033114, 0.007215059164350828, 0.00676713675118753, 0.010877430408509336, 0.007734743006734153, 0.00842636801627987, 0.009309713455938447, 0.011982908375173067, 0.011573809456100885, 0.022674770379093982, 0.014401080153512363, 0.01834919917963381, 0.012420554135304624, 0.035316503609538114, 0.02740772212915996, 0.011867883832642605, 0.02174766323855693, 0.028165002334651516, 0.028678644594084247, 0.027410698191663998, 0.030935311121189427, 0.07306612741097006], [0.019480884895465782, 0.023903851951989616, 0.013427929031604145, 0.008467446323302664, 0.013090486806686761, 0.009663342782540888, 0.005274532937928822, 0.008325026585089722, 0.011288588484572547, 0.007049898836429849, 0.005570094620677012, 0.01201306645164322, 0.003907720860302621, 0.00977580936832893, 0.010739040457000965, 0.007645806815815152, 0.007032641049865643, 0.018812039468890165, 0.013273647620340718, 0.009312232574434181, 0.005254200408633609, 0.016766364524767766, 0.0068801710702009, 0.007994448197429572, 0.005105945254640577, 0.011099193826088111, 0.006099587424295133, 0.005566985959468637, 0.004583565906453794, 0.008084662488791156, 0.005386652637913175, 0.005087743617457717, 0.004160107061877119, 0.0074877254796093815, 0.00478208422980475, 0.004149753634904997, 0.003802766411210331, 0.014317280199597462, 0.004923675462407237, 0.0045593355993577105, 0.003926552011376783, 0.010857694683195097, 0.00473849620506097, 0.00537559198939232, 0.004354157625307683, 0.015430237504839024, 0.007565748491602824, 0.00531581293916671, 0.004413252572618992, 0.004811133844613006, 0.008316742110088116, 0.0066527454896702105, 0.008079271586886648, 0.0059961268808807035, 0.0165179139281287, 0.008041694623923772, 0.008149492967416969, 0.008415231590725542, 0.01587755791235384, 0.01268251641724999, 0.07427188589369645, 0.023140921928479035, 0.013863401101658014, 0.015668197127822706, 0.07048833015295546, 0.03470705385834623, 0.008209797258272495, 0.015490182046734025, 0.018086108314114443, 0.03793834061363388, 0.03142528123397063, 0.05389474419846386, 0.0331709588123058, 0.049980488767230574], [0.031617894202519856, 0.029062698246287332, 0.015336679501491387, 0.012225473491054255, 0.019453621608614833, 0.014466216149252158, 0.007430130019174757, 0.0071270043463005275, 0.013048898877014957, 0.00722284667446402, 0.011607375414787997, 0.026544963631191083, 0.006621385507334088, 0.010503101754822807, 0.01010987018569423, 0.01451662120150372, 0.009920760439545142, 0.00860850888882753, 0.010429791481348762, 0.006287870751036617, 0.004095982931379365, 0.009083069587094445, 0.006671263185684805, 0.0065042126770683975, 0.0039239808759752685, 0.007010853543974989, 0.006864158759323178, 0.006350203210980988, 0.004395120051729563, 0.007399039284570164, 0.006519160927285128, 0.007193558039284225, 0.004860217048218465, 0.008791265996418666, 0.005885465969511467, 0.006583413933018547, 0.0048876644604945495, 0.009243026490963778, 0.005741330382064539, 0.007856748142063483, 0.004295349949244459, 0.010398217141278338, 0.005478871641192439, 0.00632509462550452, 0.00428900441534623, 0.010383769591139671, 0.008042463823304154, 0.006081738030848774, 0.007162941056207426, 0.004984938443618564, 0.009005436517295042, 0.006855801329317817, 0.008017368455011454, 0.0052847519478504594, 0.016429282870287464, 0.009627247804555508, 0.008077607065483848, 0.0063214453620943425, 0.01175959807918924, 0.014809033854902197, 0.022579158322110163, 0.013972887349357477, 0.009441583275288835, 0.011485776927790278, 0.040135547872993164, 0.03121909975323322, 0.010705812841513576, 0.017942300315475848, 0.018847525559850878, 0.023300588510232752, 0.02490975588134417, 0.02459169500078004, 0.023852722415688008, 0.03913927712562577, 0.12224485897567383], [0.019596743107840233, 0.01733324233296871, 0.009560739383477873, 0.009499840457870466, 0.013528602718558042, 0.011125047205889894, 0.0049416014478903, 0.005394908907299356, 0.010072613634771988, 0.004959464226129325, 0.005762517777524724, 0.01296923293407923, 0.0036200027700788078, 0.007229232192797411, 0.00950540557985948, 0.011830309798047516, 0.006929686495393538, 0.007601980345888294, 0.007064962466920012, 0.004741414685515298, 0.003270847911728897, 0.0069678023022717766, 0.00504340686547663, 0.012592943662503738, 0.0028289909424723675, 0.006240548779409318, 0.004540344156498393, 0.0043267764773395135, 0.0027470619436882064, 0.005952680892418296, 0.00423704864426398, 0.0038597189219626454, 0.002793358782816853, 0.006452634365144346, 0.004054045156565769, 0.003619278605636009, 0.0028511433229937116, 0.007478889462227903, 0.0041403426320357735, 0.003898797017813656, 0.0029190133659881884, 0.0074252514642679695, 0.004142580442233497, 0.004011719820999611, 0.0033414738997282036, 0.009062204804407621, 0.0069083393406329085, 0.004755123748825256, 0.004482675304744123, 0.003857123709722722, 0.008491923136610225, 0.005382569057107249, 0.006589533866667516, 0.004846491849544335, 0.013463753463884046, 0.006833417021804193, 0.009378495111927988, 0.00873852272123373, 0.014858166291855516, 0.009970656635730006, 0.045112674779930986, 0.02433877312058083, 0.015261660948432914, 0.014517864248613196, 0.06854721793892855, 0.03218656960885666, 0.008710977673367103, 0.014841929262757379, 0.014079735778616596, 0.02439221049756401, 0.027595284402471436, 0.023986463696766658, 0.01791884512476338, 0.06326768073320198, 0.08509111209970553, 0.09952775571345944], [0.03775380702494215, 0.034227625945955784, 0.020323268341205316, 0.016092724556837548, 0.021432596151273246, 0.017205479839046477, 0.011796440950415718, 0.009322420281546728, 0.019808065140174747, 0.0091900318307309, 0.010146433725212543, 0.013425120552043573, 0.0073787776986377635, 0.012820313068412824, 0.012054481003434911, 0.009753501506662656, 0.00805761838475703, 0.009640952457101183, 0.009187676166620709, 0.008081009223172841, 0.006953904179953184, 0.013124444954825334, 0.008489777386499702, 0.008048782908446645, 0.006327030091530393, 0.010976052261608945, 0.008776698081162868, 0.00904727723728185, 0.006426476561730025, 0.01043346414510538, 0.008072486918424044, 0.007752097454551651, 0.0057719643682430195, 0.008471283741961504, 0.007113651884223843, 0.006671848878773418, 0.005240807060389346, 0.008906129036372003, 0.006821003105801415, 0.0064993035153079245, 0.004966888746101006, 0.009735325417325072, 0.006577153333240558, 0.00650837671281682, 0.004858917879487769, 0.008155326520229341, 0.008736341323865486, 0.007144293419666506, 0.006340928713818648, 0.004968494991352009, 0.009108415881273636, 0.006720597390017708, 0.006893842706991691, 0.005040134122839593, 0.010447645139827233, 0.00767418499261338, 0.006790366086279055, 0.006136168363535287, 0.010170631820957007, 0.008688176199817557, 0.011082766254672423, 0.00993557531576751, 0.010939310705757672, 0.008302662259854187, 0.015168688090314726, 0.014865957475463258, 0.008405792614020068, 0.01017468047453798, 0.014508394567124291, 0.0157492268970652, 0.016463010429912977, 0.016808192936686905, 0.01762397916699704, 0.023404265458860457, 0.05018449665369573, 0.02606656583725221, 0.12703139747958483], [0.01619882547088481, 0.019018258520245763, 0.006967184035441986, 0.005842172177996291, 0.00806825590592926, 0.015922213364394585, 0.004454373587971977, 0.0064290100865543685, 0.009013577291977945, 0.003911716248329782, 0.005215974027330757, 0.012603354536126033, 0.0033039204607264246, 0.009335077214791883, 0.009683020501225893, 0.011738947631652067, 0.005665438253827347, 0.005669631982504738, 0.006435048089611675, 0.004490051479054224, 0.003029911875428409, 0.012270792180069238, 0.005435980667717861, 0.012241444230798043, 0.0024193943435182473, 0.006235892390797254, 0.004032379448635222, 0.003941557203110751, 0.0023197397866100444, 0.00450730297190362, 0.0035346166802825937, 0.003185900395061866, 0.0025509505406989606, 0.006548045159915645, 0.0032884876913376352, 0.0026000037245583795, 0.002236218326398779, 0.005765564484485226, 0.003383397033137484, 0.002430254226239567, 0.002382281290553498, 0.005881817754795251, 0.0035634385049039927, 0.0027743204468119436, 0.0026536466218572575, 0.007262667934935732, 0.005392939436232269, 0.004494046376031146, 0.0030852396848579542, 0.0032696968849199024, 0.006574123472769287, 0.0053282915107539745, 0.004118285663804837, 0.004215909044306321, 0.011157406347359426, 0.008067568220469444, 0.007543851007516246, 0.007729637203656472, 0.015401185593904581, 0.018708623492527793, 0.03488170933329548, 0.01792706213161428, 0.017648489655458465, 0.014615565608822847, 0.07970627940112388, 0.05023372504221174, 0.017191300786516005, 0.029659236085365977, 0.03142566534451517, 0.032942473815764615, 0.07176317384153671, 0.0211249812836076, 0.019227166017355034, 0.018319544986466523, 0.034689170717965845, 0.02049779062619142, 0.07707213828149938, 0.019545666320439106]]},\n",
              "                    preset: 'viridis',\n",
              "                    tokenization_config: {\"token_prefix\": \"\\u0120\", \"partial_token_prefix\": \"\"}\n",
              "\n",
              "             })\n",
              "\n",
              "             window.ecco[viz_id].init();\n",
              "             window.ecco[viz_id].selectFirstToken();\n",
              "\n",
              "             }, function (err) {\n",
              "                console.log(err);\n",
              "            })"
            ]
          },
          "metadata": {}
        }
      ]
    },
    {
      "cell_type": "markdown",
      "source": [
        "Examine which tokens in the input contributed to the generation of \"France,\" \"Saudi,\"  and \"Arabia\" by rolling over those three tokens. \"France\" is an acceptable answer but \"Saudi\" and \"Arabia\"  are hallucinations. Answer the following\n",
        "\n",
        "* Which tokens in the input were most sailent for the generation of \"France\" and why were they sailent?\n",
        "\n",
        "* Which tokens in the input were most salient for the generation of \"Saudi\" and \"Arabia\"? Why do you think these input tokens influenced the generation of the hallucinated tokens \"Saudi\" and \"Arabia\"?\n",
        "\n",
        "\n",
        "Answer:\n",
        "\n",
        "\n"
      ],
      "metadata": {
        "id": "FjQh-OGjoePP"
      }
    },
    {
      "cell_type": "markdown",
      "source": [
        "### Question 2\n",
        "\n",
        "Now we'll have the LLM generate a single token given the input \"The keys to the car\""
      ],
      "metadata": {
        "id": "JyJY8FDM1rs-"
      }
    },
    {
      "cell_type": "code",
      "source": [
        "text= \"The keys to the car\"\n",
        "output = lm.generate(text, generate=1, do_sample=True, attribution=['ig', 'grad_x_input'], output_hidden_states=True)"
      ],
      "metadata": {
        "id": "NwI7AGUJjRvS",
        "colab": {
          "base_uri": "https://localhost:8080/",
          "height": 67
        },
        "outputId": "c7396630-9147-4243-ac05-4db1660d75d8"
      },
      "execution_count": null,
      "outputs": [
        {
          "output_type": "display_data",
          "data": {
            "text/plain": [
              "<IPython.core.display.HTML object>"
            ],
            "text/html": [
              "<html lang=\"en\">\n",
              "<script src=\"https://requirejs.org/docs/release/2.3.6/minified/require.js\"></script>\n",
              "<script>\n",
              "    var ecco_url = 'https://storage.googleapis.com/ml-intro/ecco/'\n",
              "    //var ecco_url = 'http://localhost:8000/'\n",
              "\n",
              "    if (window.ecco === undefined) window.ecco = {}\n",
              "\n",
              "    // Setup the paths of the script we'll be using\n",
              "    requirejs.config({\n",
              "        urlArgs: \"bust=\" + (new Date()).getTime(),\n",
              "        nodeRequire: require,\n",
              "        paths: {\n",
              "            d3: \"https://d3js.org/d3.v6.min\", // This is only for use in setup.html and basic.html\n",
              "            \"d3-array\": \"https://d3js.org/d3-array.v2.min\",\n",
              "            jquery: \"https://code.jquery.com/jquery-3.5.1.min\",\n",
              "            ecco: ecco_url + 'js/0.0.6/ecco-bundle.min',\n",
              "            xregexp: 'https://cdnjs.cloudflare.com/ajax/libs/xregexp/3.2.0/xregexp-all.min'\n",
              "        }\n",
              "    });\n",
              "\n",
              "    // Add the css file\n",
              "    //requirejs(['d3'],\n",
              "    //    function (d3) {\n",
              "    //        d3.select('#css').attr('href', ecco_url + 'html/styles.css')\n",
              "    //    })\n",
              "\n",
              "    console.log('Ecco initialize!!')\n",
              "\n",
              "    // returns a 'basic' object. basic.init() selects the html div we'll be\n",
              "    // rendering the html into, adds styles.css to the document.\n",
              "    define('basic', ['d3'],\n",
              "        function (d3) {\n",
              "            return {\n",
              "                init: function (viz_id = null) {\n",
              "                    if (viz_id == null) {\n",
              "                        viz_id = \"viz_\" + Math.round(Math.random() * 10000000)\n",
              "                    }\n",
              "                    // Select the div rendered below, change its id\n",
              "                    const div = d3.select('#basic').attr('id', viz_id),\n",
              "                        div_parent = d3.select('#' + viz_id).node().parentNode\n",
              "\n",
              "                    // Link to CSS file\n",
              "                    d3.select(div_parent).insert('link')\n",
              "                        .attr('rel', 'stylesheet')\n",
              "                        .attr('type', 'text/css')\n",
              "                        .attr('href', ecco_url + 'html/0.0.2/styles.css')\n",
              "\n",
              "                    return viz_id\n",
              "                }\n",
              "            }\n",
              "        }, function (err) {\n",
              "            console.log(err);\n",
              "        }\n",
              "    )\n",
              "</script>\n",
              "\n",
              "<head>\n",
              "    <link id='css' rel=\"stylesheet\" type=\"text/css\">\n",
              "</head>\n",
              "<div id=\"basic\"></div>\n"
            ]
          },
          "metadata": {}
        },
        {
          "output_type": "display_data",
          "data": {
            "text/plain": [
              "<IPython.core.display.Javascript object>"
            ],
            "application/javascript": [
              "\n",
              "         requirejs( ['basic', 'ecco'], function(basic, ecco){\n",
              "            basic.init('viz_723668') // Python needs to know the viz id. Used for each output token.\n",
              "            window.ecco['viz_723668'] = new ecco.renderOutputSequence({\n",
              "                    parentDiv: 'viz_723668',\n",
              "                    data: {\"tokens\": [{\"token\": \"The\", \"is_partial\": true, \"position\": 0, \"token_id\": 464, \"type\": \"input\"}, {\"token\": \"keys\", \"is_partial\": false, \"position\": 1, \"token_id\": 8251, \"type\": \"input\"}, {\"token\": \"to\", \"is_partial\": false, \"position\": 2, \"token_id\": 284, \"type\": \"input\"}, {\"token\": \"the\", \"is_partial\": false, \"position\": 3, \"token_id\": 262, \"type\": \"input\"}, {\"token\": \"car\", \"is_partial\": false, \"position\": 4, \"token_id\": 1097, \"type\": \"input\"}]},\n",
              "                    tokenization_config: {\"token_prefix\": \"\\u0120\", \"partial_token_prefix\": \"\"}\n",
              "\n",
              "            })\n",
              "         }, function (err) {\n",
              "            console.log(err);\n",
              "        })\n",
              "        "
            ]
          },
          "metadata": {}
        },
        {
          "output_type": "stream",
          "name": "stderr",
          "text": [
            "Setting `pad_token_id` to `eos_token_id`:None for open-end generation.\n"
          ]
        },
        {
          "output_type": "display_data",
          "data": {
            "text/plain": [
              "<IPython.core.display.Javascript object>"
            ],
            "application/javascript": [
              "\n",
              "        // We don't really need these require scripts. But this is to avert\n",
              "        //this code from running before display_input_sequence which DOES require external files\n",
              "        requirejs(['basic', 'ecco'], function(basic, ecco){\n",
              "                console.log('addToken viz_id', 'viz_723668');\n",
              "                window.ecco['viz_723668'].addToken({\"token\": \"have\", \"is_partial\": false, \"token_id\": 423, \"position\": 5, \"type\": \"output\"})\n",
              "                window.ecco['viz_723668'].redraw()\n",
              "        })\n",
              "        "
            ]
          },
          "metadata": {}
        }
      ]
    },
    {
      "cell_type": "code",
      "source": [
        "output.primary_attributions(attr_method='ig')"
      ],
      "metadata": {
        "colab": {
          "base_uri": "https://localhost:8080/",
          "height": 42
        },
        "id": "NLBDS4ilb6yh",
        "outputId": "f19705bc-7933-4175-841a-8486b56b4085"
      },
      "execution_count": null,
      "outputs": [
        {
          "output_type": "display_data",
          "data": {
            "text/plain": [
              "<IPython.core.display.HTML object>"
            ],
            "text/html": [
              "<html lang=\"en\">\n",
              "<script src=\"https://requirejs.org/docs/release/2.3.6/minified/require.js\"></script>\n",
              "<script>\n",
              "    var ecco_url = 'https://storage.googleapis.com/ml-intro/ecco/'\n",
              "    //var ecco_url = 'http://localhost:8000/'\n",
              "\n",
              "    if (window.ecco === undefined) window.ecco = {}\n",
              "\n",
              "    // Setup the paths of the script we'll be using\n",
              "    requirejs.config({\n",
              "        urlArgs: \"bust=\" + (new Date()).getTime(),\n",
              "        nodeRequire: require,\n",
              "        paths: {\n",
              "            d3: \"https://d3js.org/d3.v6.min\", // This is only for use in setup.html and basic.html\n",
              "            \"d3-array\": \"https://d3js.org/d3-array.v2.min\",\n",
              "            jquery: \"https://code.jquery.com/jquery-3.5.1.min\",\n",
              "            ecco: ecco_url + 'js/0.0.6/ecco-bundle.min',\n",
              "            xregexp: 'https://cdnjs.cloudflare.com/ajax/libs/xregexp/3.2.0/xregexp-all.min'\n",
              "        }\n",
              "    });\n",
              "\n",
              "    // Add the css file\n",
              "    //requirejs(['d3'],\n",
              "    //    function (d3) {\n",
              "    //        d3.select('#css').attr('href', ecco_url + 'html/styles.css')\n",
              "    //    })\n",
              "\n",
              "    console.log('Ecco initialize!!')\n",
              "\n",
              "    // returns a 'basic' object. basic.init() selects the html div we'll be\n",
              "    // rendering the html into, adds styles.css to the document.\n",
              "    define('basic', ['d3'],\n",
              "        function (d3) {\n",
              "            return {\n",
              "                init: function (viz_id = null) {\n",
              "                    if (viz_id == null) {\n",
              "                        viz_id = \"viz_\" + Math.round(Math.random() * 10000000)\n",
              "                    }\n",
              "                    // Select the div rendered below, change its id\n",
              "                    const div = d3.select('#basic').attr('id', viz_id),\n",
              "                        div_parent = d3.select('#' + viz_id).node().parentNode\n",
              "\n",
              "                    // Link to CSS file\n",
              "                    d3.select(div_parent).insert('link')\n",
              "                        .attr('rel', 'stylesheet')\n",
              "                        .attr('type', 'text/css')\n",
              "                        .attr('href', ecco_url + 'html/0.0.2/styles.css')\n",
              "\n",
              "                    return viz_id\n",
              "                }\n",
              "            }\n",
              "        }, function (err) {\n",
              "            console.log(err);\n",
              "        }\n",
              "    )\n",
              "</script>\n",
              "\n",
              "<head>\n",
              "    <link id='css' rel=\"stylesheet\" type=\"text/css\">\n",
              "</head>\n",
              "<div id=\"basic\"></div>\n"
            ]
          },
          "metadata": {}
        },
        {
          "output_type": "display_data",
          "data": {
            "text/plain": [
              "<IPython.core.display.Javascript object>"
            ],
            "application/javascript": [
              "\n",
              "             requirejs(['basic', 'ecco'], function(basic, ecco){\n",
              "                const viz_id = basic.init()\n",
              "                console.log(viz_id)\n",
              "                // ecco.interactiveTokens(viz_id, {})\n",
              "                window.ecco[viz_id] = new ecco.MinimalHighlighter({\n",
              "                    parentDiv: viz_id,\n",
              "                    data: {\"tokens\": [{\"token\": \"The\", \"token_id\": 464, \"is_partial\": true, \"type\": \"input\", \"value\": \"0.25571204651131657\", \"position\": 0}, {\"token\": \"keys\", \"token_id\": 8251, \"is_partial\": false, \"type\": \"input\", \"value\": \"0.385433907046866\", \"position\": 1}, {\"token\": \"to\", \"token_id\": 284, \"is_partial\": false, \"type\": \"input\", \"value\": \"0.0936286363594191\", \"position\": 2}, {\"token\": \"the\", \"token_id\": 262, \"is_partial\": false, \"type\": \"input\", \"value\": \"0.05161771368838847\", \"position\": 3}, {\"token\": \"car\", \"token_id\": 1097, \"is_partial\": false, \"type\": \"input\", \"value\": \"0.21360769639400984\", \"position\": 4}, {\"token\": \"have\", \"token_id\": 423, \"is_partial\": false, \"type\": \"output\", \"value\": \"0\", \"position\": 5}], \"attributions\": [[0.25571204651131657, 0.385433907046866, 0.0936286363594191, 0.05161771368838847, 0.21360769639400984]]},\n",
              "                    preset: 'viridis',\n",
              "                    tokenization_config: {\"token_prefix\": \"\\u0120\", \"partial_token_prefix\": \"\"}\n",
              "\n",
              "             })\n",
              "\n",
              "             window.ecco[viz_id].init();\n",
              "             window.ecco[viz_id].selectFirstToken();\n",
              "\n",
              "             }, function (err) {\n",
              "                console.log(err);\n",
              "            })"
            ]
          },
          "metadata": {}
        }
      ]
    },
    {
      "cell_type": "markdown",
      "source": [
        "As with Question 1, the input tokens preceding the output token--in this case just \"have\"--are color-coded by their saliency in generating the output token.\n",
        "\n",
        "* Which tokens were most salient for the generation of \"have\" and why do you think they were salient? In your answer, consider the grammatical rules that we discussed in class that LLMs presumably learn during pretraining.\n",
        "\n",
        "\n",
        "Answer:\n",
        "\n"
      ],
      "metadata": {
        "id": "pvLYX5lq1-vW"
      }
    },
    {
      "cell_type": "markdown",
      "source": [
        "### Question 3\n",
        "\n",
        "Foe the next question, we'll ask the LLM to generate a single token given the input \"The secretary called the doctor and told.\"  As with questions 1 and 2 we'll also generate a visualization of the input saliences.  But we'll also generate the top k predicted tokens of the model's final layer. Use this information to answer the questions below."
      ],
      "metadata": {
        "id": "vsR1ZvxP3SwH"
      }
    },
    {
      "cell_type": "code",
      "source": [
        "text= \"The secretary called the doctor and told\"\n",
        "output = lm.generate(text, generate=1, do_sample=True, attribution=['ig', 'grad_x_input'], output_hidden_states=True)"
      ],
      "metadata": {
        "colab": {
          "base_uri": "https://localhost:8080/",
          "height": 67
        },
        "id": "yUBwCYkJb7X5",
        "outputId": "0bd3eef5-4eb1-43d0-c43a-741794696faf"
      },
      "execution_count": null,
      "outputs": [
        {
          "output_type": "display_data",
          "data": {
            "text/plain": [
              "<IPython.core.display.HTML object>"
            ],
            "text/html": [
              "<html lang=\"en\">\n",
              "<script src=\"https://requirejs.org/docs/release/2.3.6/minified/require.js\"></script>\n",
              "<script>\n",
              "    var ecco_url = 'https://storage.googleapis.com/ml-intro/ecco/'\n",
              "    //var ecco_url = 'http://localhost:8000/'\n",
              "\n",
              "    if (window.ecco === undefined) window.ecco = {}\n",
              "\n",
              "    // Setup the paths of the script we'll be using\n",
              "    requirejs.config({\n",
              "        urlArgs: \"bust=\" + (new Date()).getTime(),\n",
              "        nodeRequire: require,\n",
              "        paths: {\n",
              "            d3: \"https://d3js.org/d3.v6.min\", // This is only for use in setup.html and basic.html\n",
              "            \"d3-array\": \"https://d3js.org/d3-array.v2.min\",\n",
              "            jquery: \"https://code.jquery.com/jquery-3.5.1.min\",\n",
              "            ecco: ecco_url + 'js/0.0.6/ecco-bundle.min',\n",
              "            xregexp: 'https://cdnjs.cloudflare.com/ajax/libs/xregexp/3.2.0/xregexp-all.min'\n",
              "        }\n",
              "    });\n",
              "\n",
              "    // Add the css file\n",
              "    //requirejs(['d3'],\n",
              "    //    function (d3) {\n",
              "    //        d3.select('#css').attr('href', ecco_url + 'html/styles.css')\n",
              "    //    })\n",
              "\n",
              "    console.log('Ecco initialize!!')\n",
              "\n",
              "    // returns a 'basic' object. basic.init() selects the html div we'll be\n",
              "    // rendering the html into, adds styles.css to the document.\n",
              "    define('basic', ['d3'],\n",
              "        function (d3) {\n",
              "            return {\n",
              "                init: function (viz_id = null) {\n",
              "                    if (viz_id == null) {\n",
              "                        viz_id = \"viz_\" + Math.round(Math.random() * 10000000)\n",
              "                    }\n",
              "                    // Select the div rendered below, change its id\n",
              "                    const div = d3.select('#basic').attr('id', viz_id),\n",
              "                        div_parent = d3.select('#' + viz_id).node().parentNode\n",
              "\n",
              "                    // Link to CSS file\n",
              "                    d3.select(div_parent).insert('link')\n",
              "                        .attr('rel', 'stylesheet')\n",
              "                        .attr('type', 'text/css')\n",
              "                        .attr('href', ecco_url + 'html/0.0.2/styles.css')\n",
              "\n",
              "                    return viz_id\n",
              "                }\n",
              "            }\n",
              "        }, function (err) {\n",
              "            console.log(err);\n",
              "        }\n",
              "    )\n",
              "</script>\n",
              "\n",
              "<head>\n",
              "    <link id='css' rel=\"stylesheet\" type=\"text/css\">\n",
              "</head>\n",
              "<div id=\"basic\"></div>\n"
            ]
          },
          "metadata": {}
        },
        {
          "output_type": "display_data",
          "data": {
            "text/plain": [
              "<IPython.core.display.Javascript object>"
            ],
            "application/javascript": [
              "\n",
              "         requirejs( ['basic', 'ecco'], function(basic, ecco){\n",
              "            basic.init('viz_539827') // Python needs to know the viz id. Used for each output token.\n",
              "            window.ecco['viz_539827'] = new ecco.renderOutputSequence({\n",
              "                    parentDiv: 'viz_539827',\n",
              "                    data: {\"tokens\": [{\"token\": \"The\", \"is_partial\": true, \"position\": 0, \"token_id\": 464, \"type\": \"input\"}, {\"token\": \"secretary\", \"is_partial\": false, \"position\": 1, \"token_id\": 7705, \"type\": \"input\"}, {\"token\": \"called\", \"is_partial\": false, \"position\": 2, \"token_id\": 1444, \"type\": \"input\"}, {\"token\": \"the\", \"is_partial\": false, \"position\": 3, \"token_id\": 262, \"type\": \"input\"}, {\"token\": \"doctor\", \"is_partial\": false, \"position\": 4, \"token_id\": 6253, \"type\": \"input\"}, {\"token\": \"and\", \"is_partial\": false, \"position\": 5, \"token_id\": 290, \"type\": \"input\"}, {\"token\": \"told\", \"is_partial\": false, \"position\": 6, \"token_id\": 1297, \"type\": \"input\"}]},\n",
              "                    tokenization_config: {\"token_prefix\": \"\\u0120\", \"partial_token_prefix\": \"\"}\n",
              "\n",
              "            })\n",
              "         }, function (err) {\n",
              "            console.log(err);\n",
              "        })\n",
              "        "
            ]
          },
          "metadata": {}
        },
        {
          "output_type": "stream",
          "name": "stderr",
          "text": [
            "Setting `pad_token_id` to `eos_token_id`:None for open-end generation.\n"
          ]
        },
        {
          "output_type": "display_data",
          "data": {
            "text/plain": [
              "<IPython.core.display.Javascript object>"
            ],
            "application/javascript": [
              "\n",
              "        // We don't really need these require scripts. But this is to avert\n",
              "        //this code from running before display_input_sequence which DOES require external files\n",
              "        requirejs(['basic', 'ecco'], function(basic, ecco){\n",
              "                console.log('addToken viz_id', 'viz_539827');\n",
              "                window.ecco['viz_539827'].addToken({\"token\": \"him\", \"is_partial\": false, \"token_id\": 683, \"position\": 7, \"type\": \"output\"})\n",
              "                window.ecco['viz_539827'].redraw()\n",
              "        })\n",
              "        "
            ]
          },
          "metadata": {}
        }
      ]
    },
    {
      "cell_type": "code",
      "source": [
        "output.primary_attributions(attr_method='ig')"
      ],
      "metadata": {
        "colab": {
          "base_uri": "https://localhost:8080/",
          "height": 42
        },
        "id": "vaBFBomjf9I_",
        "outputId": "0e5d9a77-48bd-43e3-b9f8-6ba92d3122ab"
      },
      "execution_count": null,
      "outputs": [
        {
          "output_type": "display_data",
          "data": {
            "text/plain": [
              "<IPython.core.display.HTML object>"
            ],
            "text/html": [
              "<html lang=\"en\">\n",
              "<script src=\"https://requirejs.org/docs/release/2.3.6/minified/require.js\"></script>\n",
              "<script>\n",
              "    var ecco_url = 'https://storage.googleapis.com/ml-intro/ecco/'\n",
              "    //var ecco_url = 'http://localhost:8000/'\n",
              "\n",
              "    if (window.ecco === undefined) window.ecco = {}\n",
              "\n",
              "    // Setup the paths of the script we'll be using\n",
              "    requirejs.config({\n",
              "        urlArgs: \"bust=\" + (new Date()).getTime(),\n",
              "        nodeRequire: require,\n",
              "        paths: {\n",
              "            d3: \"https://d3js.org/d3.v6.min\", // This is only for use in setup.html and basic.html\n",
              "            \"d3-array\": \"https://d3js.org/d3-array.v2.min\",\n",
              "            jquery: \"https://code.jquery.com/jquery-3.5.1.min\",\n",
              "            ecco: ecco_url + 'js/0.0.6/ecco-bundle.min',\n",
              "            xregexp: 'https://cdnjs.cloudflare.com/ajax/libs/xregexp/3.2.0/xregexp-all.min'\n",
              "        }\n",
              "    });\n",
              "\n",
              "    // Add the css file\n",
              "    //requirejs(['d3'],\n",
              "    //    function (d3) {\n",
              "    //        d3.select('#css').attr('href', ecco_url + 'html/styles.css')\n",
              "    //    })\n",
              "\n",
              "    console.log('Ecco initialize!!')\n",
              "\n",
              "    // returns a 'basic' object. basic.init() selects the html div we'll be\n",
              "    // rendering the html into, adds styles.css to the document.\n",
              "    define('basic', ['d3'],\n",
              "        function (d3) {\n",
              "            return {\n",
              "                init: function (viz_id = null) {\n",
              "                    if (viz_id == null) {\n",
              "                        viz_id = \"viz_\" + Math.round(Math.random() * 10000000)\n",
              "                    }\n",
              "                    // Select the div rendered below, change its id\n",
              "                    const div = d3.select('#basic').attr('id', viz_id),\n",
              "                        div_parent = d3.select('#' + viz_id).node().parentNode\n",
              "\n",
              "                    // Link to CSS file\n",
              "                    d3.select(div_parent).insert('link')\n",
              "                        .attr('rel', 'stylesheet')\n",
              "                        .attr('type', 'text/css')\n",
              "                        .attr('href', ecco_url + 'html/0.0.2/styles.css')\n",
              "\n",
              "                    return viz_id\n",
              "                }\n",
              "            }\n",
              "        }, function (err) {\n",
              "            console.log(err);\n",
              "        }\n",
              "    )\n",
              "</script>\n",
              "\n",
              "<head>\n",
              "    <link id='css' rel=\"stylesheet\" type=\"text/css\">\n",
              "</head>\n",
              "<div id=\"basic\"></div>\n"
            ]
          },
          "metadata": {}
        },
        {
          "output_type": "display_data",
          "data": {
            "text/plain": [
              "<IPython.core.display.Javascript object>"
            ],
            "application/javascript": [
              "\n",
              "             requirejs(['basic', 'ecco'], function(basic, ecco){\n",
              "                const viz_id = basic.init()\n",
              "                console.log(viz_id)\n",
              "                // ecco.interactiveTokens(viz_id, {})\n",
              "                window.ecco[viz_id] = new ecco.MinimalHighlighter({\n",
              "                    parentDiv: viz_id,\n",
              "                    data: {\"tokens\": [{\"token\": \"The\", \"token_id\": 464, \"is_partial\": true, \"type\": \"input\", \"value\": \"0.10866501135501712\", \"position\": 0}, {\"token\": \"secretary\", \"token_id\": 7705, \"is_partial\": false, \"type\": \"input\", \"value\": \"0.19276696099016172\", \"position\": 1}, {\"token\": \"called\", \"token_id\": 1444, \"is_partial\": false, \"type\": \"input\", \"value\": \"0.11154400617798331\", \"position\": 2}, {\"token\": \"the\", \"token_id\": 262, \"is_partial\": false, \"type\": \"input\", \"value\": \"0.05682782634341264\", \"position\": 3}, {\"token\": \"doctor\", \"token_id\": 6253, \"is_partial\": false, \"type\": \"input\", \"value\": \"0.2633789593710064\", \"position\": 4}, {\"token\": \"and\", \"token_id\": 290, \"is_partial\": false, \"type\": \"input\", \"value\": \"0.06839315915782582\", \"position\": 5}, {\"token\": \"told\", \"token_id\": 1297, \"is_partial\": false, \"type\": \"input\", \"value\": \"0.19842407660459302\", \"position\": 6}, {\"token\": \"him\", \"token_id\": 683, \"is_partial\": false, \"type\": \"output\", \"value\": \"0\", \"position\": 7}], \"attributions\": [[0.10866501135501712, 0.19276696099016172, 0.11154400617798331, 0.05682782634341264, 0.2633789593710064, 0.06839315915782582, 0.19842407660459302]]},\n",
              "                    preset: 'viridis',\n",
              "                    tokenization_config: {\"token_prefix\": \"\\u0120\", \"partial_token_prefix\": \"\"}\n",
              "\n",
              "             })\n",
              "\n",
              "             window.ecco[viz_id].init();\n",
              "             window.ecco[viz_id].selectFirstToken();\n",
              "\n",
              "             }, function (err) {\n",
              "                console.log(err);\n",
              "            })"
            ]
          },
          "metadata": {}
        }
      ]
    },
    {
      "cell_type": "code",
      "source": [
        "output.layer_predictions(position=7, layer=5)"
      ],
      "metadata": {
        "colab": {
          "base_uri": "https://localhost:8080/",
          "height": 112
        },
        "id": "9kO8Jxbpg8df",
        "outputId": "23170880-9b35-455e-d5ba-d2b5225ce982"
      },
      "execution_count": null,
      "outputs": [
        {
          "output_type": "display_data",
          "data": {
            "text/plain": [
              "<IPython.core.display.HTML object>"
            ],
            "text/html": [
              "<html lang=\"en\">\n",
              "<script src=\"https://requirejs.org/docs/release/2.3.6/minified/require.js\"></script>\n",
              "<script>\n",
              "    var ecco_url = 'https://storage.googleapis.com/ml-intro/ecco/'\n",
              "    //var ecco_url = 'http://localhost:8000/'\n",
              "\n",
              "    if (window.ecco === undefined) window.ecco = {}\n",
              "\n",
              "    // Setup the paths of the script we'll be using\n",
              "    requirejs.config({\n",
              "        urlArgs: \"bust=\" + (new Date()).getTime(),\n",
              "        nodeRequire: require,\n",
              "        paths: {\n",
              "            d3: \"https://d3js.org/d3.v6.min\", // This is only for use in setup.html and basic.html\n",
              "            \"d3-array\": \"https://d3js.org/d3-array.v2.min\",\n",
              "            jquery: \"https://code.jquery.com/jquery-3.5.1.min\",\n",
              "            ecco: ecco_url + 'js/0.0.6/ecco-bundle.min',\n",
              "            xregexp: 'https://cdnjs.cloudflare.com/ajax/libs/xregexp/3.2.0/xregexp-all.min'\n",
              "        }\n",
              "    });\n",
              "\n",
              "    // Add the css file\n",
              "    //requirejs(['d3'],\n",
              "    //    function (d3) {\n",
              "    //        d3.select('#css').attr('href', ecco_url + 'html/styles.css')\n",
              "    //    })\n",
              "\n",
              "    console.log('Ecco initialize!!')\n",
              "\n",
              "    // returns a 'basic' object. basic.init() selects the html div we'll be\n",
              "    // rendering the html into, adds styles.css to the document.\n",
              "    define('basic', ['d3'],\n",
              "        function (d3) {\n",
              "            return {\n",
              "                init: function (viz_id = null) {\n",
              "                    if (viz_id == null) {\n",
              "                        viz_id = \"viz_\" + Math.round(Math.random() * 10000000)\n",
              "                    }\n",
              "                    // Select the div rendered below, change its id\n",
              "                    const div = d3.select('#basic').attr('id', viz_id),\n",
              "                        div_parent = d3.select('#' + viz_id).node().parentNode\n",
              "\n",
              "                    // Link to CSS file\n",
              "                    d3.select(div_parent).insert('link')\n",
              "                        .attr('rel', 'stylesheet')\n",
              "                        .attr('type', 'text/css')\n",
              "                        .attr('href', ecco_url + 'html/0.0.2/styles.css')\n",
              "\n",
              "                    return viz_id\n",
              "                }\n",
              "            }\n",
              "        }, function (err) {\n",
              "            console.log(err);\n",
              "        }\n",
              "    )\n",
              "</script>\n",
              "\n",
              "<head>\n",
              "    <link id='css' rel=\"stylesheet\" type=\"text/css\">\n",
              "</head>\n",
              "<div id=\"basic\"></div>\n"
            ]
          },
          "metadata": {}
        },
        {
          "output_type": "display_data",
          "data": {
            "text/plain": [
              "<IPython.core.display.Javascript object>"
            ],
            "application/javascript": [
              "\n",
              "         requirejs(['basic', 'ecco'], function(basic, ecco){\n",
              "            const viz_id = basic.init()\n",
              "\n",
              "\n",
              "            let pred = new ecco.LayerPredictions({\n",
              "                parentDiv: viz_id,\n",
              "                data:[[{\"token\": \" him\", \"prob\": \"0.6067878\", \"ranking\": 1, \"layer\": 5}, {\"token\": \" her\", \"prob\": \"0.19327264\", \"ranking\": 2, \"layer\": 5}, {\"token\": \" them\", \"prob\": \"0.08309921\", \"ranking\": 3, \"layer\": 5}, {\"token\": \" the\", \"prob\": \"0.04630517\", \"ranking\": 4, \"layer\": 5}, {\"token\": \" his\", \"prob\": \"0.010180281\", \"ranking\": 5, \"layer\": 5}, {\"token\": \" me\", \"prob\": \"0.0074434793\", \"ranking\": 6, \"layer\": 5}, {\"token\": \" us\", \"prob\": \"0.0032543342\", \"ranking\": 7, \"layer\": 5}, {\"token\": \" a\", \"prob\": \"0.0026062967\", \"ranking\": 8, \"layer\": 5}, {\"token\": \" doctors\", \"prob\": \"0.0020085962\", \"ranking\": 9, \"layer\": 5}, {\"token\": \" it\", \"prob\": \"0.0016021504\", \"ranking\": 10, \"layer\": 5}]]\n",
              "            })\n",
              "            pred.init()\n",
              "         }, function (err) {\n",
              "            console.log(viz_id, err);\n",
              "        })"
            ]
          },
          "metadata": {}
        }
      ]
    },
    {
      "cell_type": "markdown",
      "source": [
        "Using the information given above and assuming a non-biased model would predict \"him\" or \"her\" with equal probability answer the following questions.\n",
        "\n",
        "*  Do you think the GPT2 is a gender-biased model given this probe?\n",
        "*  Is the sentence \"The secretary called the doctor and told\" a good probe for gender bias? Why or why not?\n",
        "\n",
        "\n",
        "Answer:\n"
      ],
      "metadata": {
        "id": "RpWAb-0I5SZi"
      }
    },
    {
      "cell_type": "markdown",
      "source": [
        "Now let's perform the same task with a different probe: \"The doctor hired the secretary because\""
      ],
      "metadata": {
        "id": "2I3hrmQR5ruE"
      }
    },
    {
      "cell_type": "code",
      "source": [
        "text= \"The doctor hired the secretary because\"\n",
        "output = lm.generate(text, generate=1, do_sample=True, attribution=['ig', 'grad_x_input'], output_hidden_states=True)"
      ],
      "metadata": {
        "colab": {
          "base_uri": "https://localhost:8080/",
          "height": 67
        },
        "id": "bD6cpKDoh28o",
        "outputId": "5fe34206-0a5a-49e4-cf9a-f9a1ec7f01fc"
      },
      "execution_count": null,
      "outputs": [
        {
          "output_type": "display_data",
          "data": {
            "text/plain": [
              "<IPython.core.display.HTML object>"
            ],
            "text/html": [
              "<html lang=\"en\">\n",
              "<script src=\"https://requirejs.org/docs/release/2.3.6/minified/require.js\"></script>\n",
              "<script>\n",
              "    var ecco_url = 'https://storage.googleapis.com/ml-intro/ecco/'\n",
              "    //var ecco_url = 'http://localhost:8000/'\n",
              "\n",
              "    if (window.ecco === undefined) window.ecco = {}\n",
              "\n",
              "    // Setup the paths of the script we'll be using\n",
              "    requirejs.config({\n",
              "        urlArgs: \"bust=\" + (new Date()).getTime(),\n",
              "        nodeRequire: require,\n",
              "        paths: {\n",
              "            d3: \"https://d3js.org/d3.v6.min\", // This is only for use in setup.html and basic.html\n",
              "            \"d3-array\": \"https://d3js.org/d3-array.v2.min\",\n",
              "            jquery: \"https://code.jquery.com/jquery-3.5.1.min\",\n",
              "            ecco: ecco_url + 'js/0.0.6/ecco-bundle.min',\n",
              "            xregexp: 'https://cdnjs.cloudflare.com/ajax/libs/xregexp/3.2.0/xregexp-all.min'\n",
              "        }\n",
              "    });\n",
              "\n",
              "    // Add the css file\n",
              "    //requirejs(['d3'],\n",
              "    //    function (d3) {\n",
              "    //        d3.select('#css').attr('href', ecco_url + 'html/styles.css')\n",
              "    //    })\n",
              "\n",
              "    console.log('Ecco initialize!!')\n",
              "\n",
              "    // returns a 'basic' object. basic.init() selects the html div we'll be\n",
              "    // rendering the html into, adds styles.css to the document.\n",
              "    define('basic', ['d3'],\n",
              "        function (d3) {\n",
              "            return {\n",
              "                init: function (viz_id = null) {\n",
              "                    if (viz_id == null) {\n",
              "                        viz_id = \"viz_\" + Math.round(Math.random() * 10000000)\n",
              "                    }\n",
              "                    // Select the div rendered below, change its id\n",
              "                    const div = d3.select('#basic').attr('id', viz_id),\n",
              "                        div_parent = d3.select('#' + viz_id).node().parentNode\n",
              "\n",
              "                    // Link to CSS file\n",
              "                    d3.select(div_parent).insert('link')\n",
              "                        .attr('rel', 'stylesheet')\n",
              "                        .attr('type', 'text/css')\n",
              "                        .attr('href', ecco_url + 'html/0.0.2/styles.css')\n",
              "\n",
              "                    return viz_id\n",
              "                }\n",
              "            }\n",
              "        }, function (err) {\n",
              "            console.log(err);\n",
              "        }\n",
              "    )\n",
              "</script>\n",
              "\n",
              "<head>\n",
              "    <link id='css' rel=\"stylesheet\" type=\"text/css\">\n",
              "</head>\n",
              "<div id=\"basic\"></div>\n"
            ]
          },
          "metadata": {}
        },
        {
          "output_type": "display_data",
          "data": {
            "text/plain": [
              "<IPython.core.display.Javascript object>"
            ],
            "application/javascript": [
              "\n",
              "         requirejs( ['basic', 'ecco'], function(basic, ecco){\n",
              "            basic.init('viz_108023') // Python needs to know the viz id. Used for each output token.\n",
              "            window.ecco['viz_108023'] = new ecco.renderOutputSequence({\n",
              "                    parentDiv: 'viz_108023',\n",
              "                    data: {\"tokens\": [{\"token\": \"The\", \"is_partial\": true, \"position\": 0, \"token_id\": 464, \"type\": \"input\"}, {\"token\": \"doctor\", \"is_partial\": false, \"position\": 1, \"token_id\": 6253, \"type\": \"input\"}, {\"token\": \"hired\", \"is_partial\": false, \"position\": 2, \"token_id\": 9657, \"type\": \"input\"}, {\"token\": \"the\", \"is_partial\": false, \"position\": 3, \"token_id\": 262, \"type\": \"input\"}, {\"token\": \"secretary\", \"is_partial\": false, \"position\": 4, \"token_id\": 7705, \"type\": \"input\"}, {\"token\": \"because\", \"is_partial\": false, \"position\": 5, \"token_id\": 780, \"type\": \"input\"}]},\n",
              "                    tokenization_config: {\"token_prefix\": \"\\u0120\", \"partial_token_prefix\": \"\"}\n",
              "\n",
              "            })\n",
              "         }, function (err) {\n",
              "            console.log(err);\n",
              "        })\n",
              "        "
            ]
          },
          "metadata": {}
        },
        {
          "output_type": "stream",
          "name": "stderr",
          "text": [
            "Setting `pad_token_id` to `eos_token_id`:None for open-end generation.\n"
          ]
        },
        {
          "output_type": "display_data",
          "data": {
            "text/plain": [
              "<IPython.core.display.Javascript object>"
            ],
            "application/javascript": [
              "\n",
              "        // We don't really need these require scripts. But this is to avert\n",
              "        //this code from running before display_input_sequence which DOES require external files\n",
              "        requirejs(['basic', 'ecco'], function(basic, ecco){\n",
              "                console.log('addToken viz_id', 'viz_108023');\n",
              "                window.ecco['viz_108023'].addToken({\"token\": \"he\", \"is_partial\": false, \"token_id\": 339, \"position\": 6, \"type\": \"output\"})\n",
              "                window.ecco['viz_108023'].redraw()\n",
              "        })\n",
              "        "
            ]
          },
          "metadata": {}
        }
      ]
    },
    {
      "cell_type": "code",
      "source": [
        "output.layer_predictions(position=6, layer=5)"
      ],
      "metadata": {
        "colab": {
          "base_uri": "https://localhost:8080/",
          "height": 112
        },
        "id": "04WWEBJOiMCe",
        "outputId": "86ea6851-1ea4-43b5-bd96-36fe28fb4aa8"
      },
      "execution_count": null,
      "outputs": [
        {
          "output_type": "display_data",
          "data": {
            "text/plain": [
              "<IPython.core.display.HTML object>"
            ],
            "text/html": [
              "<html lang=\"en\">\n",
              "<script src=\"https://requirejs.org/docs/release/2.3.6/minified/require.js\"></script>\n",
              "<script>\n",
              "    var ecco_url = 'https://storage.googleapis.com/ml-intro/ecco/'\n",
              "    //var ecco_url = 'http://localhost:8000/'\n",
              "\n",
              "    if (window.ecco === undefined) window.ecco = {}\n",
              "\n",
              "    // Setup the paths of the script we'll be using\n",
              "    requirejs.config({\n",
              "        urlArgs: \"bust=\" + (new Date()).getTime(),\n",
              "        nodeRequire: require,\n",
              "        paths: {\n",
              "            d3: \"https://d3js.org/d3.v6.min\", // This is only for use in setup.html and basic.html\n",
              "            \"d3-array\": \"https://d3js.org/d3-array.v2.min\",\n",
              "            jquery: \"https://code.jquery.com/jquery-3.5.1.min\",\n",
              "            ecco: ecco_url + 'js/0.0.6/ecco-bundle.min',\n",
              "            xregexp: 'https://cdnjs.cloudflare.com/ajax/libs/xregexp/3.2.0/xregexp-all.min'\n",
              "        }\n",
              "    });\n",
              "\n",
              "    // Add the css file\n",
              "    //requirejs(['d3'],\n",
              "    //    function (d3) {\n",
              "    //        d3.select('#css').attr('href', ecco_url + 'html/styles.css')\n",
              "    //    })\n",
              "\n",
              "    console.log('Ecco initialize!!')\n",
              "\n",
              "    // returns a 'basic' object. basic.init() selects the html div we'll be\n",
              "    // rendering the html into, adds styles.css to the document.\n",
              "    define('basic', ['d3'],\n",
              "        function (d3) {\n",
              "            return {\n",
              "                init: function (viz_id = null) {\n",
              "                    if (viz_id == null) {\n",
              "                        viz_id = \"viz_\" + Math.round(Math.random() * 10000000)\n",
              "                    }\n",
              "                    // Select the div rendered below, change its id\n",
              "                    const div = d3.select('#basic').attr('id', viz_id),\n",
              "                        div_parent = d3.select('#' + viz_id).node().parentNode\n",
              "\n",
              "                    // Link to CSS file\n",
              "                    d3.select(div_parent).insert('link')\n",
              "                        .attr('rel', 'stylesheet')\n",
              "                        .attr('type', 'text/css')\n",
              "                        .attr('href', ecco_url + 'html/0.0.2/styles.css')\n",
              "\n",
              "                    return viz_id\n",
              "                }\n",
              "            }\n",
              "        }, function (err) {\n",
              "            console.log(err);\n",
              "        }\n",
              "    )\n",
              "</script>\n",
              "\n",
              "<head>\n",
              "    <link id='css' rel=\"stylesheet\" type=\"text/css\">\n",
              "</head>\n",
              "<div id=\"basic\"></div>\n"
            ]
          },
          "metadata": {}
        },
        {
          "output_type": "display_data",
          "data": {
            "text/plain": [
              "<IPython.core.display.Javascript object>"
            ],
            "application/javascript": [
              "\n",
              "         requirejs(['basic', 'ecco'], function(basic, ecco){\n",
              "            const viz_id = basic.init()\n",
              "\n",
              "\n",
              "            let pred = new ecco.LayerPredictions({\n",
              "                parentDiv: viz_id,\n",
              "                data:[[{\"token\": \" he\", \"prob\": \"0.35062584\", \"ranking\": 1, \"layer\": 5}, {\"token\": \" she\", \"prob\": \"0.14031033\", \"ranking\": 2, \"layer\": 5}, {\"token\": \" of\", \"prob\": \"0.08645522\", \"ranking\": 3, \"layer\": 5}, {\"token\": \" the\", \"prob\": \"0.08197227\", \"ranking\": 4, \"layer\": 5}, {\"token\": \" it\", \"prob\": \"0.07238168\", \"ranking\": 5, \"layer\": 5}, {\"token\": \" they\", \"prob\": \"0.07010016\", \"ranking\": 6, \"layer\": 5}, {\"token\": \" his\", \"prob\": \"0.027367447\", \"ranking\": 7, \"layer\": 5}, {\"token\": \" there\", \"prob\": \"0.014324364\", \"ranking\": 8, \"layer\": 5}, {\"token\": \",\", \"prob\": \"0.012051423\", \"ranking\": 9, \"layer\": 5}, {\"token\": \" her\", \"prob\": \"0.010430514\", \"ranking\": 10, \"layer\": 5}]]\n",
              "            })\n",
              "            pred.init()\n",
              "         }, function (err) {\n",
              "            console.log(viz_id, err);\n",
              "        })"
            ]
          },
          "metadata": {}
        }
      ]
    },
    {
      "cell_type": "markdown",
      "source": [
        "As with the questions above, refer to the saliency visualization and the top k predicted tokens to answer the folllowing questions:\n",
        "\n",
        "* Do you think the GPT2 is a gender-biased model given this probe?\n",
        "* Is the sentence \"The doctor hired the secretary because\" a good probe for gender bias? Why or why not?\n",
        "\n",
        "Answer:"
      ],
      "metadata": {
        "id": "sbAM13KL6tg7"
      }
    }
  ]
}